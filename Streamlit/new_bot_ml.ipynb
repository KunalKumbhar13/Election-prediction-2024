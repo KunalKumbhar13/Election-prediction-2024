{
  "nbformat": 4,
  "nbformat_minor": 0,
  "metadata": {
    "colab": {
      "provenance": []
    },
    "kernelspec": {
      "name": "python3",
      "display_name": "Python 3"
    },
    "language_info": {
      "name": "python"
    }
  },
  "cells": [
    {
      "cell_type": "code",
      "execution_count": 126,
      "metadata": {
        "id": "8_A--eGNe3tD"
      },
      "outputs": [],
      "source": [
        "import pandas as pd\n",
        "from sklearn.model_selection import train_test_split\n",
        "from sklearn.preprocessing import LabelEncoder\n",
        "from sklearn.ensemble import RandomForestClassifier\n",
        "from sklearn.metrics import accuracy_score\n",
        "import seaborn as sns\n",
        "import matplotlib.pyplot as plt\n",
        "from sklearn.metrics import confusion_matrix\n"
      ]
    },
    {
      "cell_type": "code",
      "source": [
        "df=pd.read_csv(\"/content/drive/MyDrive/ml project/election survey 3 csv.csv\")"
      ],
      "metadata": {
        "id": "FuihOF0pfMhU"
      },
      "execution_count": 127,
      "outputs": []
    },
    {
      "cell_type": "code",
      "source": [
        "df.head()"
      ],
      "metadata": {
        "colab": {
          "base_uri": "https://localhost:8080/",
          "height": 590
        },
        "id": "NzoierYKfebA",
        "outputId": "55935258-c2bd-498d-8d56-96aa0bb80b8d"
      },
      "execution_count": 128,
      "outputs": [
        {
          "output_type": "execute_result",
          "data": {
            "text/plain": [
              "  Gender:\\n    Age:\\n  Educational Qualification:\\n     Occupation:\\n  \\\n",
              "0      male  21 to 30                  Postgraduate           Student   \n",
              "1      male  21 to 30                      Graduate           Student   \n",
              "2    Female  46 to 60       Secondary School/Matric     Self-employed   \n",
              "3    Female  61 to 75                  Non-Literate            Farmer   \n",
              "4    Female  21 to 30                  Postgraduate  Employed (Govt.)   \n",
              "\n",
              "   religion \\n   Area/locality\\n  monthly household income \\n  \\\n",
              "0        Hindu    Urban/Big city               Over Rs. 50001   \n",
              "1        Hindu    Urban/Big city               Over Rs. 50001   \n",
              "2    Christian  Urban/Small city     Rs. 20,000 to Rs. 50,000   \n",
              "3        Islam     Rural/Village      Rs. 10,001 - Rs. 20,000   \n",
              "4  No Response    Urban/Big city     Rs. 20,000 to Rs. 50,000   \n",
              "\n",
              "   Will you vote in upcoming elections?\\n  \\\n",
              "0                                     Yes   \n",
              "1                                     Yes   \n",
              "2                                     Yes   \n",
              "3                                     Yes   \n",
              "4                                      No   \n",
              "\n",
              "                       traditionaly supported\\n  \\\n",
              "0  party from National Democratic Alliance (ND)   \n",
              "1                                      Congress   \n",
              "2  party from National Democratic Alliance (ND)   \n",
              "3  party from National Democratic Alliance (ND)   \n",
              "4                                           BJP   \n",
              "\n",
              "  party/alliance currently in a stronger position ? \\n  \\\n",
              "0                                                BJP     \n",
              "1                                                BJP     \n",
              "2  Indian National Developmental Inclusive Allian...     \n",
              "3                                                BJP     \n",
              "4                                                BJP     \n",
              "\n",
              "   If Lok Sabha elections are held tomorrow ,which party will you vote for? \\n  \\\n",
              "0       party from National Democratic Alliance (ND)                             \n",
              "1                                           Congress                             \n",
              "2  party from Indian National Developmental Inclu...                             \n",
              "3       party from National Democratic Alliance (ND)                             \n",
              "4                                                BJP                             \n",
              "\n",
              "   most important election issue for you?  \\\n",
              "0                               Can't Say   \n",
              "1                   Price rise /inflation   \n",
              "2                            Unemployment   \n",
              "3                         Farmer distress   \n",
              "4                            Unemployment   \n",
              "\n",
              "                     issues vs person?                    Voting Priorities?\"  \\\n",
              "0                      Election issues    The performance the political party   \n",
              "1  political leader's face/personality   The performance of the candidate/MP.   \n",
              "2                      Election issues  The performance of the Prime Minister   \n",
              "3  political leader's face/personality   The performance of the candidate/MP.   \n",
              "4                          No Response  The performance of the Prime Minister   \n",
              "\n",
              "  MP Satisfaction? \"MP Performance Rating?\"\\n\\n\\n\\n  \\\n",
              "0               No                             Good   \n",
              "1               No                             Poor   \n",
              "2      No Response                             Good   \n",
              "3               No                        Very poor   \n",
              "4              Yes                             Good   \n",
              "\n",
              "  current Govt. Satisfaction? re_elect govt?  \n",
              "0                         Yes            Yes  \n",
              "1                         Yes            Yes  \n",
              "2                         Yes             No  \n",
              "3                          No             No  \n",
              "4                         Yes            Yes  "
            ],
            "text/html": [
              "\n",
              "  <div id=\"df-6750d37f-5499-4fb6-9b3a-08454bbc4c14\" class=\"colab-df-container\">\n",
              "    <div>\n",
              "<style scoped>\n",
              "    .dataframe tbody tr th:only-of-type {\n",
              "        vertical-align: middle;\n",
              "    }\n",
              "\n",
              "    .dataframe tbody tr th {\n",
              "        vertical-align: top;\n",
              "    }\n",
              "\n",
              "    .dataframe thead th {\n",
              "        text-align: right;\n",
              "    }\n",
              "</style>\n",
              "<table border=\"1\" class=\"dataframe\">\n",
              "  <thead>\n",
              "    <tr style=\"text-align: right;\">\n",
              "      <th></th>\n",
              "      <th>Gender:\\n</th>\n",
              "      <th>Age:\\n</th>\n",
              "      <th>Educational Qualification:\\n</th>\n",
              "      <th>Occupation:\\n</th>\n",
              "      <th>religion \\n</th>\n",
              "      <th>Area/locality\\n</th>\n",
              "      <th>monthly household income \\n</th>\n",
              "      <th>Will you vote in upcoming elections?\\n</th>\n",
              "      <th>traditionaly supported\\n</th>\n",
              "      <th>party/alliance currently in a stronger position ? \\n</th>\n",
              "      <th>If Lok Sabha elections are held tomorrow ,which party will you vote for? \\n</th>\n",
              "      <th>most important election issue for you?</th>\n",
              "      <th>issues vs person?</th>\n",
              "      <th>Voting Priorities?\"</th>\n",
              "      <th>MP Satisfaction?</th>\n",
              "      <th>\"MP Performance Rating?\"\\n\\n\\n\\n</th>\n",
              "      <th>current Govt. Satisfaction?</th>\n",
              "      <th>re_elect govt?</th>\n",
              "    </tr>\n",
              "  </thead>\n",
              "  <tbody>\n",
              "    <tr>\n",
              "      <th>0</th>\n",
              "      <td>male</td>\n",
              "      <td>21 to 30</td>\n",
              "      <td>Postgraduate</td>\n",
              "      <td>Student</td>\n",
              "      <td>Hindu</td>\n",
              "      <td>Urban/Big city</td>\n",
              "      <td>Over Rs. 50001</td>\n",
              "      <td>Yes</td>\n",
              "      <td>party from National Democratic Alliance (ND)</td>\n",
              "      <td>BJP</td>\n",
              "      <td>party from National Democratic Alliance (ND)</td>\n",
              "      <td>Can't Say</td>\n",
              "      <td>Election issues</td>\n",
              "      <td>The performance the political party</td>\n",
              "      <td>No</td>\n",
              "      <td>Good</td>\n",
              "      <td>Yes</td>\n",
              "      <td>Yes</td>\n",
              "    </tr>\n",
              "    <tr>\n",
              "      <th>1</th>\n",
              "      <td>male</td>\n",
              "      <td>21 to 30</td>\n",
              "      <td>Graduate</td>\n",
              "      <td>Student</td>\n",
              "      <td>Hindu</td>\n",
              "      <td>Urban/Big city</td>\n",
              "      <td>Over Rs. 50001</td>\n",
              "      <td>Yes</td>\n",
              "      <td>Congress</td>\n",
              "      <td>BJP</td>\n",
              "      <td>Congress</td>\n",
              "      <td>Price rise /inflation</td>\n",
              "      <td>political leader's face/personality</td>\n",
              "      <td>The performance of the candidate/MP.</td>\n",
              "      <td>No</td>\n",
              "      <td>Poor</td>\n",
              "      <td>Yes</td>\n",
              "      <td>Yes</td>\n",
              "    </tr>\n",
              "    <tr>\n",
              "      <th>2</th>\n",
              "      <td>Female</td>\n",
              "      <td>46 to 60</td>\n",
              "      <td>Secondary School/Matric</td>\n",
              "      <td>Self-employed</td>\n",
              "      <td>Christian</td>\n",
              "      <td>Urban/Small city</td>\n",
              "      <td>Rs. 20,000 to Rs. 50,000</td>\n",
              "      <td>Yes</td>\n",
              "      <td>party from National Democratic Alliance (ND)</td>\n",
              "      <td>Indian National Developmental Inclusive Allian...</td>\n",
              "      <td>party from Indian National Developmental Inclu...</td>\n",
              "      <td>Unemployment</td>\n",
              "      <td>Election issues</td>\n",
              "      <td>The performance of the Prime Minister</td>\n",
              "      <td>No Response</td>\n",
              "      <td>Good</td>\n",
              "      <td>Yes</td>\n",
              "      <td>No</td>\n",
              "    </tr>\n",
              "    <tr>\n",
              "      <th>3</th>\n",
              "      <td>Female</td>\n",
              "      <td>61 to 75</td>\n",
              "      <td>Non-Literate</td>\n",
              "      <td>Farmer</td>\n",
              "      <td>Islam</td>\n",
              "      <td>Rural/Village</td>\n",
              "      <td>Rs. 10,001 - Rs. 20,000</td>\n",
              "      <td>Yes</td>\n",
              "      <td>party from National Democratic Alliance (ND)</td>\n",
              "      <td>BJP</td>\n",
              "      <td>party from National Democratic Alliance (ND)</td>\n",
              "      <td>Farmer distress</td>\n",
              "      <td>political leader's face/personality</td>\n",
              "      <td>The performance of the candidate/MP.</td>\n",
              "      <td>No</td>\n",
              "      <td>Very poor</td>\n",
              "      <td>No</td>\n",
              "      <td>No</td>\n",
              "    </tr>\n",
              "    <tr>\n",
              "      <th>4</th>\n",
              "      <td>Female</td>\n",
              "      <td>21 to 30</td>\n",
              "      <td>Postgraduate</td>\n",
              "      <td>Employed (Govt.)</td>\n",
              "      <td>No Response</td>\n",
              "      <td>Urban/Big city</td>\n",
              "      <td>Rs. 20,000 to Rs. 50,000</td>\n",
              "      <td>No</td>\n",
              "      <td>BJP</td>\n",
              "      <td>BJP</td>\n",
              "      <td>BJP</td>\n",
              "      <td>Unemployment</td>\n",
              "      <td>No Response</td>\n",
              "      <td>The performance of the Prime Minister</td>\n",
              "      <td>Yes</td>\n",
              "      <td>Good</td>\n",
              "      <td>Yes</td>\n",
              "      <td>Yes</td>\n",
              "    </tr>\n",
              "  </tbody>\n",
              "</table>\n",
              "</div>\n",
              "    <div class=\"colab-df-buttons\">\n",
              "\n",
              "  <div class=\"colab-df-container\">\n",
              "    <button class=\"colab-df-convert\" onclick=\"convertToInteractive('df-6750d37f-5499-4fb6-9b3a-08454bbc4c14')\"\n",
              "            title=\"Convert this dataframe to an interactive table.\"\n",
              "            style=\"display:none;\">\n",
              "\n",
              "  <svg xmlns=\"http://www.w3.org/2000/svg\" height=\"24px\" viewBox=\"0 -960 960 960\">\n",
              "    <path d=\"M120-120v-720h720v720H120Zm60-500h600v-160H180v160Zm220 220h160v-160H400v160Zm0 220h160v-160H400v160ZM180-400h160v-160H180v160Zm440 0h160v-160H620v160ZM180-180h160v-160H180v160Zm440 0h160v-160H620v160Z\"/>\n",
              "  </svg>\n",
              "    </button>\n",
              "\n",
              "  <style>\n",
              "    .colab-df-container {\n",
              "      display:flex;\n",
              "      gap: 12px;\n",
              "    }\n",
              "\n",
              "    .colab-df-convert {\n",
              "      background-color: #E8F0FE;\n",
              "      border: none;\n",
              "      border-radius: 50%;\n",
              "      cursor: pointer;\n",
              "      display: none;\n",
              "      fill: #1967D2;\n",
              "      height: 32px;\n",
              "      padding: 0 0 0 0;\n",
              "      width: 32px;\n",
              "    }\n",
              "\n",
              "    .colab-df-convert:hover {\n",
              "      background-color: #E2EBFA;\n",
              "      box-shadow: 0px 1px 2px rgba(60, 64, 67, 0.3), 0px 1px 3px 1px rgba(60, 64, 67, 0.15);\n",
              "      fill: #174EA6;\n",
              "    }\n",
              "\n",
              "    .colab-df-buttons div {\n",
              "      margin-bottom: 4px;\n",
              "    }\n",
              "\n",
              "    [theme=dark] .colab-df-convert {\n",
              "      background-color: #3B4455;\n",
              "      fill: #D2E3FC;\n",
              "    }\n",
              "\n",
              "    [theme=dark] .colab-df-convert:hover {\n",
              "      background-color: #434B5C;\n",
              "      box-shadow: 0px 1px 3px 1px rgba(0, 0, 0, 0.15);\n",
              "      filter: drop-shadow(0px 1px 2px rgba(0, 0, 0, 0.3));\n",
              "      fill: #FFFFFF;\n",
              "    }\n",
              "  </style>\n",
              "\n",
              "    <script>\n",
              "      const buttonEl =\n",
              "        document.querySelector('#df-6750d37f-5499-4fb6-9b3a-08454bbc4c14 button.colab-df-convert');\n",
              "      buttonEl.style.display =\n",
              "        google.colab.kernel.accessAllowed ? 'block' : 'none';\n",
              "\n",
              "      async function convertToInteractive(key) {\n",
              "        const element = document.querySelector('#df-6750d37f-5499-4fb6-9b3a-08454bbc4c14');\n",
              "        const dataTable =\n",
              "          await google.colab.kernel.invokeFunction('convertToInteractive',\n",
              "                                                    [key], {});\n",
              "        if (!dataTable) return;\n",
              "\n",
              "        const docLinkHtml = 'Like what you see? Visit the ' +\n",
              "          '<a target=\"_blank\" href=https://colab.research.google.com/notebooks/data_table.ipynb>data table notebook</a>'\n",
              "          + ' to learn more about interactive tables.';\n",
              "        element.innerHTML = '';\n",
              "        dataTable['output_type'] = 'display_data';\n",
              "        await google.colab.output.renderOutput(dataTable, element);\n",
              "        const docLink = document.createElement('div');\n",
              "        docLink.innerHTML = docLinkHtml;\n",
              "        element.appendChild(docLink);\n",
              "      }\n",
              "    </script>\n",
              "  </div>\n",
              "\n",
              "\n",
              "<div id=\"df-0291667f-879f-48a3-8e47-31fd566500e0\">\n",
              "  <button class=\"colab-df-quickchart\" onclick=\"quickchart('df-0291667f-879f-48a3-8e47-31fd566500e0')\"\n",
              "            title=\"Suggest charts\"\n",
              "            style=\"display:none;\">\n",
              "\n",
              "<svg xmlns=\"http://www.w3.org/2000/svg\" height=\"24px\"viewBox=\"0 0 24 24\"\n",
              "     width=\"24px\">\n",
              "    <g>\n",
              "        <path d=\"M19 3H5c-1.1 0-2 .9-2 2v14c0 1.1.9 2 2 2h14c1.1 0 2-.9 2-2V5c0-1.1-.9-2-2-2zM9 17H7v-7h2v7zm4 0h-2V7h2v10zm4 0h-2v-4h2v4z\"/>\n",
              "    </g>\n",
              "</svg>\n",
              "  </button>\n",
              "\n",
              "<style>\n",
              "  .colab-df-quickchart {\n",
              "      --bg-color: #E8F0FE;\n",
              "      --fill-color: #1967D2;\n",
              "      --hover-bg-color: #E2EBFA;\n",
              "      --hover-fill-color: #174EA6;\n",
              "      --disabled-fill-color: #AAA;\n",
              "      --disabled-bg-color: #DDD;\n",
              "  }\n",
              "\n",
              "  [theme=dark] .colab-df-quickchart {\n",
              "      --bg-color: #3B4455;\n",
              "      --fill-color: #D2E3FC;\n",
              "      --hover-bg-color: #434B5C;\n",
              "      --hover-fill-color: #FFFFFF;\n",
              "      --disabled-bg-color: #3B4455;\n",
              "      --disabled-fill-color: #666;\n",
              "  }\n",
              "\n",
              "  .colab-df-quickchart {\n",
              "    background-color: var(--bg-color);\n",
              "    border: none;\n",
              "    border-radius: 50%;\n",
              "    cursor: pointer;\n",
              "    display: none;\n",
              "    fill: var(--fill-color);\n",
              "    height: 32px;\n",
              "    padding: 0;\n",
              "    width: 32px;\n",
              "  }\n",
              "\n",
              "  .colab-df-quickchart:hover {\n",
              "    background-color: var(--hover-bg-color);\n",
              "    box-shadow: 0 1px 2px rgba(60, 64, 67, 0.3), 0 1px 3px 1px rgba(60, 64, 67, 0.15);\n",
              "    fill: var(--button-hover-fill-color);\n",
              "  }\n",
              "\n",
              "  .colab-df-quickchart-complete:disabled,\n",
              "  .colab-df-quickchart-complete:disabled:hover {\n",
              "    background-color: var(--disabled-bg-color);\n",
              "    fill: var(--disabled-fill-color);\n",
              "    box-shadow: none;\n",
              "  }\n",
              "\n",
              "  .colab-df-spinner {\n",
              "    border: 2px solid var(--fill-color);\n",
              "    border-color: transparent;\n",
              "    border-bottom-color: var(--fill-color);\n",
              "    animation:\n",
              "      spin 1s steps(1) infinite;\n",
              "  }\n",
              "\n",
              "  @keyframes spin {\n",
              "    0% {\n",
              "      border-color: transparent;\n",
              "      border-bottom-color: var(--fill-color);\n",
              "      border-left-color: var(--fill-color);\n",
              "    }\n",
              "    20% {\n",
              "      border-color: transparent;\n",
              "      border-left-color: var(--fill-color);\n",
              "      border-top-color: var(--fill-color);\n",
              "    }\n",
              "    30% {\n",
              "      border-color: transparent;\n",
              "      border-left-color: var(--fill-color);\n",
              "      border-top-color: var(--fill-color);\n",
              "      border-right-color: var(--fill-color);\n",
              "    }\n",
              "    40% {\n",
              "      border-color: transparent;\n",
              "      border-right-color: var(--fill-color);\n",
              "      border-top-color: var(--fill-color);\n",
              "    }\n",
              "    60% {\n",
              "      border-color: transparent;\n",
              "      border-right-color: var(--fill-color);\n",
              "    }\n",
              "    80% {\n",
              "      border-color: transparent;\n",
              "      border-right-color: var(--fill-color);\n",
              "      border-bottom-color: var(--fill-color);\n",
              "    }\n",
              "    90% {\n",
              "      border-color: transparent;\n",
              "      border-bottom-color: var(--fill-color);\n",
              "    }\n",
              "  }\n",
              "</style>\n",
              "\n",
              "  <script>\n",
              "    async function quickchart(key) {\n",
              "      const quickchartButtonEl =\n",
              "        document.querySelector('#' + key + ' button');\n",
              "      quickchartButtonEl.disabled = true;  // To prevent multiple clicks.\n",
              "      quickchartButtonEl.classList.add('colab-df-spinner');\n",
              "      try {\n",
              "        const charts = await google.colab.kernel.invokeFunction(\n",
              "            'suggestCharts', [key], {});\n",
              "      } catch (error) {\n",
              "        console.error('Error during call to suggestCharts:', error);\n",
              "      }\n",
              "      quickchartButtonEl.classList.remove('colab-df-spinner');\n",
              "      quickchartButtonEl.classList.add('colab-df-quickchart-complete');\n",
              "    }\n",
              "    (() => {\n",
              "      let quickchartButtonEl =\n",
              "        document.querySelector('#df-0291667f-879f-48a3-8e47-31fd566500e0 button');\n",
              "      quickchartButtonEl.style.display =\n",
              "        google.colab.kernel.accessAllowed ? 'block' : 'none';\n",
              "    })();\n",
              "  </script>\n",
              "</div>\n",
              "\n",
              "    </div>\n",
              "  </div>\n"
            ],
            "application/vnd.google.colaboratory.intrinsic+json": {
              "type": "dataframe",
              "variable_name": "df",
              "summary": "{\n  \"name\": \"df\",\n  \"rows\": 587,\n  \"fields\": [\n    {\n      \"column\": \"Gender:\\n\",\n      \"properties\": {\n        \"dtype\": \"category\",\n        \"num_unique_values\": 2,\n        \"samples\": [\n          \"Female\",\n          \"male\"\n        ],\n        \"semantic_type\": \"\",\n        \"description\": \"\"\n      }\n    },\n    {\n      \"column\": \" Age:\\n\",\n      \"properties\": {\n        \"dtype\": \"category\",\n        \"num_unique_values\": 6,\n        \"samples\": [\n          \"21 to 30\",\n          \"46 to 60\"\n        ],\n        \"semantic_type\": \"\",\n        \"description\": \"\"\n      }\n    },\n    {\n      \"column\": \" Educational Qualification:\\n\",\n      \"properties\": {\n        \"dtype\": \"category\",\n        \"num_unique_values\": 6,\n        \"samples\": [\n          \"Postgraduate\",\n          \"Graduate\"\n        ],\n        \"semantic_type\": \"\",\n        \"description\": \"\"\n      }\n    },\n    {\n      \"column\": \" Occupation:\\n\",\n      \"properties\": {\n        \"dtype\": \"category\",\n        \"num_unique_values\": 8,\n        \"samples\": [\n          \"Self-employed\",\n          \"Homemaker\"\n        ],\n        \"semantic_type\": \"\",\n        \"description\": \"\"\n      }\n    },\n    {\n      \"column\": \"religion \\n\",\n      \"properties\": {\n        \"dtype\": \"category\",\n        \"num_unique_values\": 6,\n        \"samples\": [\n          \"Hindu\",\n          \"Christian\"\n        ],\n        \"semantic_type\": \"\",\n        \"description\": \"\"\n      }\n    },\n    {\n      \"column\": \"Area/locality\\n\",\n      \"properties\": {\n        \"dtype\": \"category\",\n        \"num_unique_values\": 3,\n        \"samples\": [\n          \"Urban/Big city\",\n          \"Urban/Small city\"\n        ],\n        \"semantic_type\": \"\",\n        \"description\": \"\"\n      }\n    },\n    {\n      \"column\": \" monthly household income \\n\",\n      \"properties\": {\n        \"dtype\": \"category\",\n        \"num_unique_values\": 4,\n        \"samples\": [\n          \"Rs. 20,000 to Rs. 50,000\",\n          \"Up to Rs.10,000\"\n        ],\n        \"semantic_type\": \"\",\n        \"description\": \"\"\n      }\n    },\n    {\n      \"column\": \" Will you vote in upcoming elections?\\n\",\n      \"properties\": {\n        \"dtype\": \"category\",\n        \"num_unique_values\": 2,\n        \"samples\": [\n          \"No\",\n          \"Yes\"\n        ],\n        \"semantic_type\": \"\",\n        \"description\": \"\"\n      }\n    },\n    {\n      \"column\": \"traditionaly supported\\n\",\n      \"properties\": {\n        \"dtype\": \"category\",\n        \"num_unique_values\": 6,\n        \"samples\": [\n          \"party from National Democratic Alliance (ND)\",\n          \"Congress\"\n        ],\n        \"semantic_type\": \"\",\n        \"description\": \"\"\n      }\n    },\n    {\n      \"column\": \"party/alliance currently in a stronger position ? \\n\",\n      \"properties\": {\n        \"dtype\": \"category\",\n        \"num_unique_values\": 6,\n        \"samples\": [\n          \"BJP\",\n          \"Indian National Developmental Inclusive Alliance (INDIA)\"\n        ],\n        \"semantic_type\": \"\",\n        \"description\": \"\"\n      }\n    },\n    {\n      \"column\": \" If Lok Sabha elections are held tomorrow ,which party will you vote for? \\n\",\n      \"properties\": {\n        \"dtype\": \"category\",\n        \"num_unique_values\": 6,\n        \"samples\": [\n          \"party from National Democratic Alliance (ND)\",\n          \"Congress\"\n        ],\n        \"semantic_type\": \"\",\n        \"description\": \"\"\n      }\n    },\n    {\n      \"column\": \" most important election issue for you?\",\n      \"properties\": {\n        \"dtype\": \"category\",\n        \"num_unique_values\": 19,\n        \"samples\": [\n          \"Can't Say\",\n          \"Poor economic growth\"\n        ],\n        \"semantic_type\": \"\",\n        \"description\": \"\"\n      }\n    },\n    {\n      \"column\": \"issues vs person?\",\n      \"properties\": {\n        \"dtype\": \"category\",\n        \"num_unique_values\": 4,\n        \"samples\": [\n          \"political leader's face/personality\",\n          \"Other\"\n        ],\n        \"semantic_type\": \"\",\n        \"description\": \"\"\n      }\n    },\n    {\n      \"column\": \"Voting Priorities?\\\"\",\n      \"properties\": {\n        \"dtype\": \"category\",\n        \"num_unique_values\": 4,\n        \"samples\": [\n          \"The performance of the candidate/MP.\",\n          \"Other things\"\n        ],\n        \"semantic_type\": \"\",\n        \"description\": \"\"\n      }\n    },\n    {\n      \"column\": \"MP Satisfaction?\",\n      \"properties\": {\n        \"dtype\": \"category\",\n        \"num_unique_values\": 3,\n        \"samples\": [\n          \"No\",\n          \"No Response\"\n        ],\n        \"semantic_type\": \"\",\n        \"description\": \"\"\n      }\n    },\n    {\n      \"column\": \"\\\"MP Performance Rating?\\\"\\n\\n\\n\\n\",\n      \"properties\": {\n        \"dtype\": \"category\",\n        \"num_unique_values\": 6,\n        \"samples\": [\n          \"Good\",\n          \"Poor\"\n        ],\n        \"semantic_type\": \"\",\n        \"description\": \"\"\n      }\n    },\n    {\n      \"column\": \"current Govt. Satisfaction?\",\n      \"properties\": {\n        \"dtype\": \"category\",\n        \"num_unique_values\": 2,\n        \"samples\": [\n          \"No\",\n          \"Yes\"\n        ],\n        \"semantic_type\": \"\",\n        \"description\": \"\"\n      }\n    },\n    {\n      \"column\": \"re_elect govt?\",\n      \"properties\": {\n        \"dtype\": \"category\",\n        \"num_unique_values\": 2,\n        \"samples\": [\n          \"No\",\n          \"Yes\"\n        ],\n        \"semantic_type\": \"\",\n        \"description\": \"\"\n      }\n    }\n  ]\n}"
            }
          },
          "metadata": {},
          "execution_count": 128
        }
      ]
    },
    {
      "cell_type": "markdown",
      "source": [
        "**EDA**"
      ],
      "metadata": {
        "id": "hh9MtaIDVnzx"
      }
    },
    {
      "cell_type": "code",
      "source": [
        "##male female disribution\n",
        "df['Gender:\\n'].value_counts().plot(kind='bar', color='skyblue', legend=False)\n",
        "plt.title('Gender Distribution')\n",
        "plt.xlabel('Gender')\n",
        "plt.ylabel('Frequency')\n",
        "plt.xticks(rotation=0)\n",
        "plt.show()"
      ],
      "metadata": {
        "colab": {
          "base_uri": "https://localhost:8080/",
          "height": 472
        },
        "id": "MrU7rAs1VmtD",
        "outputId": "34f8361b-0dcb-4adf-892e-e826efdfe245"
      },
      "execution_count": 129,
      "outputs": [
        {
          "output_type": "display_data",
          "data": {
            "text/plain": [
              "<Figure size 640x480 with 1 Axes>"
            ],
            "image/png": "[encoded data removed]"
          },
          "metadata": {}
        }
      ]
    },
    {
      "cell_type": "code",
      "source": [
        "##voting pattern by genders\n",
        "sns.countplot(x='Gender:\\n', data=df, hue=' Will you vote in upcoming elections?\\n')\n",
        "plt.show()"
      ],
      "metadata": {
        "colab": {
          "base_uri": "https://localhost:8080/",
          "height": 468
        },
        "id": "29RlXhQR3_UG",
        "outputId": "2efecc59-e7f6-432d-9219-0b9e4365fb1f"
      },
      "execution_count": 130,
      "outputs": [
        {
          "output_type": "display_data",
          "data": {
            "text/plain": [
              "<Figure size 640x480 with 1 Axes>"
            ],
            "image/png": "[encoded data removed]"
          },
          "metadata": {}
        }
      ]
    },
    {
      "cell_type": "code",
      "source": [
        "##age distribution\n",
        "age_counts = df[' Age:\\n'].value_counts().sort_index()\n",
        "age_counts.plot(kind='bar', color='skyblue')\n",
        "plt.title('Age Distribution')\n",
        "plt.xlabel('Age')\n",
        "plt.ylabel('Frequency')\n",
        "plt.show()\n"
      ],
      "metadata": {
        "colab": {
          "base_uri": "https://localhost:8080/",
          "height": 522
        },
        "id": "Gz9JzUTdgRNE",
        "outputId": "73cb725a-ce6e-4b86-fc02-50950af8b10d"
      },
      "execution_count": 131,
      "outputs": [
        {
          "output_type": "display_data",
          "data": {
            "text/plain": [
              "<Figure size 640x480 with 1 Axes>"
            ],
            "image/png": "[encoded data removed]"
          },
          "metadata": {}
        }
      ]
    },
    {
      "cell_type": "code",
      "source": [
        "##religion distribution\n",
        "religion_counts = df['religion \\n'].value_counts()\n",
        "plt.figure(figsize=(8, 8))\n",
        "plt.pie(religion_counts, labels=religion_counts.index, autopct='%1.1f%%', colors=plt.cm.tab10.colors)\n",
        "plt.title('Distribution of Religious ')\n",
        "plt.show()"
      ],
      "metadata": {
        "colab": {
          "base_uri": "https://localhost:8080/",
          "height": 675
        },
        "id": "a74ESIYpVm3y",
        "outputId": "9b71313f-528b-4b20-eb1f-432a56988c68"
      },
      "execution_count": 132,
      "outputs": [
        {
          "output_type": "display_data",
          "data": {
            "text/plain": [
              "<Figure size 800x800 with 1 Axes>"
            ],
            "image/png": "[encoded data removed]"
          },
          "metadata": {}
        }
      ]
    },
    {
      "cell_type": "code",
      "source": [
        "##most imp election issues\n",
        "df[' most important election issue for you?'].value_counts().plot(kind='bar', color='red', legend=False)\n",
        "plt.title('MIMP election issue')\n",
        "plt.xlabel('issues')\n",
        "plt.ylabel('Frequency')\n",
        "plt.xticks(rotation=90)\n",
        "plt.show()"
      ],
      "metadata": {
        "colab": {
          "base_uri": "https://localhost:8080/",
          "height": 837
        },
        "id": "6wtiJm-apc2z",
        "outputId": "aca89eb5-4395-4d80-f1da-f19bed71bd8a"
      },
      "execution_count": 133,
      "outputs": [
        {
          "output_type": "display_data",
          "data": {
            "text/plain": [
              "<Figure size 640x480 with 1 Axes>"
            ],
            "image/png": "[encoded data removed]"
          },
          "metadata": {}
        }
      ]
    },
    {
      "cell_type": "code",
      "source": [
        "##distribution of votes to re_elect_govt by occupation\n",
        "\n",
        "#occurrences of each combination of Occupation and Voting\n",
        "pivot_table = df.pivot_table(index=' Occupation:\\n', columns='re_elect govt?', aggfunc='size', fill_value=0)\n",
        "#array of Occupation categories\n",
        "occupations = pivot_table.index\n",
        "# Width of each bar\n",
        "bar_width = 0.35\n",
        "fig, ax = plt.subplots(figsize=(10, 6))\n",
        "\n",
        "#  bars for 'Yes' votes\n",
        "ax.bar(np.arange(len(occupations)), pivot_table['Yes'], bar_width, label='Yes', color='skyblue')\n",
        "\n",
        "#  bars for 'No' votes\n",
        "ax.bar(np.arange(len(occupations)) + bar_width, pivot_table['No'], bar_width, label='No', color='salmon')\n",
        "\n",
        "# Add labels, title, and legend\n",
        "ax.set_xlabel('Occupation')\n",
        "ax.set_ylabel('Count')\n",
        "ax.set_title('distribution of Votes_to_re_elect by Occupation')\n",
        "ax.set_xticks(np.arange(len(occupations)) + bar_width / 2)\n",
        "ax.set_xticklabels(occupations)\n",
        "plt.legend()\n"
      ],
      "metadata": {
        "colab": {
          "base_uri": "https://localhost:8080/",
          "height": 582
        },
        "id": "TErfvBBst0XL",
        "outputId": "61d9b8db-1156-47a6-ef04-507dbe997e91"
      },
      "execution_count": 134,
      "outputs": [
        {
          "output_type": "execute_result",
          "data": {
            "text/plain": [
              "<matplotlib.legend.Legend at 0x7b3e3a750790>"
            ]
          },
          "metadata": {},
          "execution_count": 134
        },
        {
          "output_type": "display_data",
          "data": {
            "text/plain": [
              "<Figure size 1000x600 with 1 Axes>"
            ],
            "image/png": "[encoded data removed]"
          },
          "metadata": {}
        }
      ]
    },
    {
      "cell_type": "code",
      "source": [
        "## imp election issues or personality\n",
        "df['issues vs person?'].value_counts().plot(kind='bar', color='green', legend=False)\n",
        "plt.title('issue or person')\n",
        "#plt.xlabel('issues')\n",
        "plt.ylabel('Frequency')\n",
        "plt.xticks(rotation=90)\n",
        "plt.show()"
      ],
      "metadata": {
        "colab": {
          "base_uri": "https://localhost:8080/",
          "height": 688
        },
        "id": "c7H2oorapc6e",
        "outputId": "d966d01f-c82f-4f5d-a329-8b5cc3538eef"
      },
      "execution_count": 135,
      "outputs": [
        {
          "output_type": "display_data",
          "data": {
            "text/plain": [
              "<Figure size 640x480 with 1 Axes>"
            ],
            "image/png": "[encoded data removed]"
          },
          "metadata": {}
        }
      ]
    },
    {
      "cell_type": "code",
      "source": [
        "##count of tradictionly supported and currently there strong choice\n",
        "trad_support_counts = df['traditionaly supported\\n'].value_counts()\n",
        "strength_counts = df['party/alliance currently in a stronger position ? \\n'].value_counts()\n",
        "fig, axs = plt.subplots(1, 2, figsize=(12, 6))\n",
        "axs[0].bar(trad_support_counts.index, trad_support_counts.values, color='skyblue')\n",
        "axs[0].set_title('Traditional Support')\n",
        "axs[0].set_xlabel('Party/Alliance')\n",
        "axs[0].set_ylabel('Count')\n",
        "axs[0].tick_params(axis='x', rotation=90)\n",
        "\n",
        "axs[1].bar(strength_counts.index, strength_counts.values, color='salmon')\n",
        "axs[1].set_title('Strength of Current Position')\n",
        "axs[1].set_xlabel('Strength')\n",
        "axs[1].set_ylabel('Count')\n",
        "axs[1].tick_params(axis='x', rotation=90)\n",
        "plt.show()\n"
      ],
      "metadata": {
        "colab": {
          "base_uri": "https://localhost:8080/",
          "height": 1000
        },
        "id": "mPRumjGpVmw1",
        "outputId": "a6446ce2-8872-4972-cc7b-d1f977cdeede"
      },
      "execution_count": 136,
      "outputs": [
        {
          "output_type": "display_data",
          "data": {
            "text/plain": [
              "<Figure size 1200x600 with 2 Axes>"
            ],
            "image/png": "[encoded data removed]"
          },
          "metadata": {}
        }
      ]
    },
    {
      "cell_type": "code",
      "source": [
        "##current govt satisfaction vs relecting govt\n",
        "import numpy as np\n",
        "govt_satisfaction_counts = df['current Govt. Satisfaction?'].value_counts()\n",
        "reelect_counts = df['re_elect govt?'].value_counts()\n",
        "\n",
        "#unique categories from both columns\n",
        "categories = np.union1d(df['current Govt. Satisfaction?'], df['re_elect govt?'])\n",
        "\n",
        "#array of category indices for positioning bars\n",
        "indices = np.arange(len(categories))\n",
        "bar_width = 0.35\n",
        "fig, ax = plt.subplots(figsize=(10, 6))\n",
        "\n",
        "#bars for 'Current Govt. Satisfaction?' column\n",
        "ax.bar(indices - bar_width/2, govt_satisfaction_counts.reindex(categories, fill_value=0), bar_width, label='Current Govt. Satisfaction?', color='skyblue')\n",
        "\n",
        "# bars for 'Re-elect govt?' column\n",
        "ax.bar(indices + bar_width/2, reelect_counts.reindex(categories, fill_value=0), bar_width, label='Re-elect govt?', color='salmon')\n",
        "\n",
        "ax.set_xlabel('Response')\n",
        "ax.set_ylabel('Count')\n",
        "ax.set_title('Current Govt. Satisfaction vs. Re-elect govt?')\n",
        "ax.set_xticks(indices)\n",
        "ax.set_xticklabels(categories)\n",
        "plt.legend()\n",
        "\n",
        "# Show plot\n",
        "plt.show()"
      ],
      "metadata": {
        "colab": {
          "base_uri": "https://localhost:8080/",
          "height": 564
        },
        "id": "s4LEr1F0pc8c",
        "outputId": "7a1ae52c-cffa-4797-a944-efb5fc0468b0"
      },
      "execution_count": 137,
      "outputs": [
        {
          "output_type": "display_data",
          "data": {
            "text/plain": [
              "<Figure size 1000x600 with 1 Axes>"
            ],
            "image/png": "[encoded data removed]"
          },
          "metadata": {}
        }
      ]
    },
    {
      "cell_type": "code",
      "source": [
        "##preference of vote if elections are held tommorow\n",
        "vote_counts = df[' If Lok Sabha elections are held tomorrow ,which party will you vote for? \\n'].value_counts()\n",
        "plt.figure(figsize=(8, 8))\n",
        "plt.pie(vote_counts, labels=vote_counts.index, autopct='%1.1f%%', colors=plt.cm.tab10.colors)\n",
        "plt.title('preference of vote if elections are held tommorow')\n",
        "plt.show()"
      ],
      "metadata": {
        "colab": {
          "base_uri": "https://localhost:8080/",
          "height": 618
        },
        "id": "KmFD9yUUpdAk",
        "outputId": "67f7b3cd-17b3-44b1-e07a-61988ef24e99"
      },
      "execution_count": 138,
      "outputs": [
        {
          "output_type": "display_data",
          "data": {
            "text/plain": [
              "<Figure size 800x800 with 1 Axes>"
            ],
            "image/png": "[encoded data removed]"
          },
          "metadata": {}
        }
      ]
    },
    {
      "cell_type": "code",
      "source": [],
      "metadata": {
        "id": "Y-mmuDRDt0i5"
      },
      "execution_count": 138,
      "outputs": []
    },
    {
      "cell_type": "code",
      "source": [],
      "metadata": {
        "id": "O14Os8BPt0yg"
      },
      "execution_count": 138,
      "outputs": []
    },
    {
      "cell_type": "code",
      "source": [
        "df.shape[0]"
      ],
      "metadata": {
        "colab": {
          "base_uri": "https://localhost:8080/"
        },
        "id": "a_C67wOEfl3m",
        "outputId": "adbf49fe-123f-4f3d-c1d5-3863a7ea3841"
      },
      "execution_count": 139,
      "outputs": [
        {
          "output_type": "execute_result",
          "data": {
            "text/plain": [
              "587"
            ]
          },
          "metadata": {},
          "execution_count": 139
        }
      ]
    },
    {
      "cell_type": "code",
      "source": [
        "df.isnull().sum()"
      ],
      "metadata": {
        "colab": {
          "base_uri": "https://localhost:8080/"
        },
        "id": "TqMsIBGJei0Z",
        "outputId": "759967c2-ad22-4f92-f701-f3696fb0cb06"
      },
      "execution_count": 140,
      "outputs": [
        {
          "output_type": "execute_result",
          "data": {
            "text/plain": [
              "Gender:\\n                                                                       0\n",
              " Age:\\n                                                                         0\n",
              " Educational Qualification:\\n                                                   0\n",
              " Occupation:\\n                                                                  0\n",
              "religion \\n                                                                     0\n",
              "Area/locality\\n                                                                 9\n",
              " monthly household income \\n                                                    0\n",
              " Will you vote in upcoming elections?\\n                                         0\n",
              "traditionaly supported\\n                                                        0\n",
              "party/alliance currently in a stronger position ? \\n                            0\n",
              " If Lok Sabha elections are held tomorrow ,which party will you vote for? \\n    0\n",
              " most important election issue for you?                                         0\n",
              "issues vs person?                                                               0\n",
              "Voting Priorities?\"                                                             0\n",
              "MP Satisfaction?                                                                0\n",
              "\"MP Performance Rating?\"\\n\\n\\n\\n                                                0\n",
              "current Govt. Satisfaction?                                                     0\n",
              "re_elect govt?                                                                  0\n",
              "dtype: int64"
            ]
          },
          "metadata": {},
          "execution_count": 140
        }
      ]
    },
    {
      "cell_type": "markdown",
      "source": [
        "**ENCODING**"
      ],
      "metadata": {
        "id": "ldBD6lZ1e4tM"
      }
    },
    {
      "cell_type": "code",
      "source": [
        "##GENDER ENCODING\n",
        "\n",
        "df = pd.get_dummies(df, columns=['Gender:\\n'], prefix='Gender:\\n', drop_first=True)\n"
      ],
      "metadata": {
        "id": "1cQ5ckgneovk"
      },
      "execution_count": 141,
      "outputs": []
    },
    {
      "cell_type": "code",
      "source": [
        "df['Gender:\\n_male'] = df['Gender:\\n_male'].astype(int)\n"
      ],
      "metadata": {
        "id": "mbIUnE8Og5uW"
      },
      "execution_count": 142,
      "outputs": []
    },
    {
      "cell_type": "code",
      "source": [
        "##age encoding\n",
        "\n",
        "age_mapping = {\n",
        "    '21 to 30': 1,\n",
        "    '31 to 45': 2,\n",
        "    '46 to 60': 3,\n",
        "    '61 to 75': 4,\n",
        "    '75 and above': 5\n",
        "}\n",
        "\n",
        "df['Age'] = df[' Age:\\n'].map(age_mapping)\n"
      ],
      "metadata": {
        "id": "rZ2S9XzShF4J"
      },
      "execution_count": 143,
      "outputs": []
    },
    {
      "cell_type": "code",
      "source": [
        "df.drop(columns=[' Age:\\n'], inplace=True)\n"
      ],
      "metadata": {
        "id": "EpNX4Gn4jmDG"
      },
      "execution_count": 144,
      "outputs": []
    },
    {
      "cell_type": "code",
      "source": [
        "##education encoding\n",
        "\n",
        "df[' Educational Qualification:\\n'].unique()"
      ],
      "metadata": {
        "colab": {
          "base_uri": "https://localhost:8080/"
        },
        "id": "_Um2u7Cakena",
        "outputId": "18b01782-849e-4296-840f-4eb4aa8a8d5f"
      },
      "execution_count": 145,
      "outputs": [
        {
          "output_type": "execute_result",
          "data": {
            "text/plain": [
              "array(['Postgraduate', 'Graduate', 'Secondary School/Matric',\n",
              "       'Non-Literate', 'Higher Secondary/Intermediate', 'Primary School'],\n",
              "      dtype=object)"
            ]
          },
          "metadata": {},
          "execution_count": 145
        }
      ]
    },
    {
      "cell_type": "code",
      "source": [
        "\n",
        "education_mapping = {\n",
        "    'Non-Literate': 0,\n",
        "    'Primary School': 1,\n",
        "    'Secondary School/Matric': 2,\n",
        "    'Higher Secondary/Intermediate': 3,\n",
        "    'Graduate': 4,\n",
        "    'Postgraduate': 5\n",
        "}\n",
        "\n",
        "# Map the educational qualifications to numerical values\n",
        "df['Educational Qualification'] = df[' Educational Qualification:\\n'].map(education_mapping)\n",
        "\n"
      ],
      "metadata": {
        "id": "zx37b6f_lWpC"
      },
      "execution_count": 146,
      "outputs": []
    },
    {
      "cell_type": "code",
      "source": [
        "df.drop(columns=[' Educational Qualification:\\n'], inplace=True)\n"
      ],
      "metadata": {
        "id": "JQ56BwT7mKjJ"
      },
      "execution_count": 147,
      "outputs": []
    },
    {
      "cell_type": "code",
      "source": [
        "##occupation encoding\n",
        "\n",
        "df[' Occupation:\\n'].unique()"
      ],
      "metadata": {
        "colab": {
          "base_uri": "https://localhost:8080/"
        },
        "id": "OTHWP2nwmZA6",
        "outputId": "cc1c5adc-ea12-4633-b958-48e094528f6a"
      },
      "execution_count": 148,
      "outputs": [
        {
          "output_type": "execute_result",
          "data": {
            "text/plain": [
              "array(['Student', 'Self-employed', 'Farmer', 'Employed (Govt.)', 'Other',\n",
              "       'Homemaker', 'Retired', 'Unemployed'], dtype=object)"
            ]
          },
          "metadata": {},
          "execution_count": 148
        }
      ]
    },
    {
      "cell_type": "code",
      "source": [
        "df = pd.get_dummies(df, columns=[' Occupation:\\n'], prefix=' Occupation:\\n')\n"
      ],
      "metadata": {
        "id": "d1ZAQpR-mZDg"
      },
      "execution_count": 149,
      "outputs": []
    },
    {
      "cell_type": "code",
      "source": [
        "columns_to_convert = [' Occupation:\\n_Employed (Govt.)', ' Occupation:\\n_Farmer',\n",
        "       ' Occupation:\\n_Homemaker', ' Occupation:\\n_Other',\n",
        "       ' Occupation:\\n_Retired', ' Occupation:\\n_Self-employed',\n",
        "       ' Occupation:\\n_Student', ' Occupation:\\n_Unemployed']\n",
        "\n",
        "df[columns_to_convert] = df[columns_to_convert].replace({True: 1, False: 0})\n"
      ],
      "metadata": {
        "id": "tVYBe03rmZFk"
      },
      "execution_count": 150,
      "outputs": []
    },
    {
      "cell_type": "code",
      "source": [
        "df.rename(columns={'religion \\n': 'Religion'}, inplace=True)\n"
      ],
      "metadata": {
        "id": "iQwyYffbmZKb"
      },
      "execution_count": 151,
      "outputs": []
    },
    {
      "cell_type": "code",
      "source": [
        "df = pd.get_dummies(df, columns=['Religion'], prefix='Religion')\n"
      ],
      "metadata": {
        "id": "7DL2AK1Fr5Jw"
      },
      "execution_count": 152,
      "outputs": []
    },
    {
      "cell_type": "code",
      "source": [
        "df['Religion_No Response'].sum()"
      ],
      "metadata": {
        "colab": {
          "base_uri": "https://localhost:8080/"
        },
        "id": "8AJ8g37LmZNK",
        "outputId": "c9da238e-8e29-4a16-8ca0-f5c1a24d7fea"
      },
      "execution_count": 153,
      "outputs": [
        {
          "output_type": "execute_result",
          "data": {
            "text/plain": [
              "16"
            ]
          },
          "metadata": {},
          "execution_count": 153
        }
      ]
    },
    {
      "cell_type": "code",
      "source": [
        "df = df[df['Religion_No Response'] == False]\n"
      ],
      "metadata": {
        "id": "xhjB-wAPtVdQ"
      },
      "execution_count": 154,
      "outputs": []
    },
    {
      "cell_type": "code",
      "source": [
        "df.drop(columns=['Religion_No Response'],inplace=True)"
      ],
      "metadata": {
        "id": "er-g69btmZQm"
      },
      "execution_count": 155,
      "outputs": []
    },
    {
      "cell_type": "code",
      "source": [
        "df.head()"
      ],
      "metadata": {
        "colab": {
          "base_uri": "https://localhost:8080/",
          "height": 637
        },
        "id": "OnOqmBVVmZXM",
        "outputId": "8e9b323e-afdc-4bda-e9aa-67160b3da1ae"
      },
      "execution_count": 156,
      "outputs": [
        {
          "output_type": "execute_result",
          "data": {
            "text/plain": [
              "    Area/locality\\n  monthly household income \\n  \\\n",
              "0    Urban/Big city               Over Rs. 50001   \n",
              "1    Urban/Big city               Over Rs. 50001   \n",
              "2  Urban/Small city     Rs. 20,000 to Rs. 50,000   \n",
              "3     Rural/Village      Rs. 10,001 - Rs. 20,000   \n",
              "5  Urban/Small city     Rs. 20,000 to Rs. 50,000   \n",
              "\n",
              "   Will you vote in upcoming elections?\\n  \\\n",
              "0                                     Yes   \n",
              "1                                     Yes   \n",
              "2                                     Yes   \n",
              "3                                     Yes   \n",
              "5                                     Yes   \n",
              "\n",
              "                       traditionaly supported\\n  \\\n",
              "0  party from National Democratic Alliance (ND)   \n",
              "1                                      Congress   \n",
              "2  party from National Democratic Alliance (ND)   \n",
              "3  party from National Democratic Alliance (ND)   \n",
              "5  party from National Democratic Alliance (ND)   \n",
              "\n",
              "  party/alliance currently in a stronger position ? \\n  \\\n",
              "0                                                BJP     \n",
              "1                                                BJP     \n",
              "2  Indian National Developmental Inclusive Allian...     \n",
              "3                                                BJP     \n",
              "5                                                BJP     \n",
              "\n",
              "   If Lok Sabha elections are held tomorrow ,which party will you vote for? \\n  \\\n",
              "0       party from National Democratic Alliance (ND)                             \n",
              "1                                           Congress                             \n",
              "2  party from Indian National Developmental Inclu...                             \n",
              "3       party from National Democratic Alliance (ND)                             \n",
              "5                                    Aam Aadmi Party                             \n",
              "\n",
              "              most important election issue for you?  \\\n",
              "0                                          Can't Say   \n",
              "1                              Price rise /inflation   \n",
              "2                                       Unemployment   \n",
              "3                                    Farmer distress   \n",
              "5  Discrimination against women, Crimes against w...   \n",
              "\n",
              "                     issues vs person?                    Voting Priorities?\"  \\\n",
              "0                      Election issues    The performance the political party   \n",
              "1  political leader's face/personality   The performance of the candidate/MP.   \n",
              "2                      Election issues  The performance of the Prime Minister   \n",
              "3  political leader's face/personality   The performance of the candidate/MP.   \n",
              "5                                Other   The performance of the candidate/MP.   \n",
              "\n",
              "  MP Satisfaction?  ...  Occupation:\\n_Other  Occupation:\\n_Retired  \\\n",
              "0               No  ...                    0                      0   \n",
              "1               No  ...                    0                      0   \n",
              "2      No Response  ...                    0                      0   \n",
              "3               No  ...                    0                      0   \n",
              "5              Yes  ...                    0                      0   \n",
              "\n",
              "   Occupation:\\n_Self-employed   Occupation:\\n_Student  \\\n",
              "0                            0                       1   \n",
              "1                            0                       1   \n",
              "2                            1                       0   \n",
              "3                            0                       0   \n",
              "5                            0                       1   \n",
              "\n",
              "    Occupation:\\n_Unemployed  Religion_Buddhist  Religion_Christian  \\\n",
              "0                          0              False               False   \n",
              "1                          0              False               False   \n",
              "2                          0              False                True   \n",
              "3                          0              False               False   \n",
              "5                          0               True               False   \n",
              "\n",
              "   Religion_Hindu  Religion_Islam  Religion_Other  \n",
              "0            True           False           False  \n",
              "1            True           False           False  \n",
              "2           False           False           False  \n",
              "3           False            True           False  \n",
              "5           False           False           False  \n",
              "\n",
              "[5 rows x 29 columns]"
            ],
            "text/html": [
              "\n",
              "  <div id=\"df-6e911a6b-3ed2-4a17-b0c6-ef0e8a480b00\" class=\"colab-df-container\">\n",
              "    <div>\n",
              "<style scoped>\n",
              "    .dataframe tbody tr th:only-of-type {\n",
              "        vertical-align: middle;\n",
              "    }\n",
              "\n",
              "    .dataframe tbody tr th {\n",
              "        vertical-align: top;\n",
              "    }\n",
              "\n",
              "    .dataframe thead th {\n",
              "        text-align: right;\n",
              "    }\n",
              "</style>\n",
              "<table border=\"1\" class=\"dataframe\">\n",
              "  <thead>\n",
              "    <tr style=\"text-align: right;\">\n",
              "      <th></th>\n",
              "      <th>Area/locality\\n</th>\n",
              "      <th>monthly household income \\n</th>\n",
              "      <th>Will you vote in upcoming elections?\\n</th>\n",
              "      <th>traditionaly supported\\n</th>\n",
              "      <th>party/alliance currently in a stronger position ? \\n</th>\n",
              "      <th>If Lok Sabha elections are held tomorrow ,which party will you vote for? \\n</th>\n",
              "      <th>most important election issue for you?</th>\n",
              "      <th>issues vs person?</th>\n",
              "      <th>Voting Priorities?\"</th>\n",
              "      <th>MP Satisfaction?</th>\n",
              "      <th>...</th>\n",
              "      <th>Occupation:\\n_Other</th>\n",
              "      <th>Occupation:\\n_Retired</th>\n",
              "      <th>Occupation:\\n_Self-employed</th>\n",
              "      <th>Occupation:\\n_Student</th>\n",
              "      <th>Occupation:\\n_Unemployed</th>\n",
              "      <th>Religion_Buddhist</th>\n",
              "      <th>Religion_Christian</th>\n",
              "      <th>Religion_Hindu</th>\n",
              "      <th>Religion_Islam</th>\n",
              "      <th>Religion_Other</th>\n",
              "    </tr>\n",
              "  </thead>\n",
              "  <tbody>\n",
              "    <tr>\n",
              "      <th>0</th>\n",
              "      <td>Urban/Big city</td>\n",
              "      <td>Over Rs. 50001</td>\n",
              "      <td>Yes</td>\n",
              "      <td>party from National Democratic Alliance (ND)</td>\n",
              "      <td>BJP</td>\n",
              "      <td>party from National Democratic Alliance (ND)</td>\n",
              "      <td>Can't Say</td>\n",
              "      <td>Election issues</td>\n",
              "      <td>The performance the political party</td>\n",
              "      <td>No</td>\n",
              "      <td>...</td>\n",
              "      <td>0</td>\n",
              "      <td>0</td>\n",
              "      <td>0</td>\n",
              "      <td>1</td>\n",
              "      <td>0</td>\n",
              "      <td>False</td>\n",
              "      <td>False</td>\n",
              "      <td>True</td>\n",
              "      <td>False</td>\n",
              "      <td>False</td>\n",
              "    </tr>\n",
              "    <tr>\n",
              "      <th>1</th>\n",
              "      <td>Urban/Big city</td>\n",
              "      <td>Over Rs. 50001</td>\n",
              "      <td>Yes</td>\n",
              "      <td>Congress</td>\n",
              "      <td>BJP</td>\n",
              "      <td>Congress</td>\n",
              "      <td>Price rise /inflation</td>\n",
              "      <td>political leader's face/personality</td>\n",
              "      <td>The performance of the candidate/MP.</td>\n",
              "      <td>No</td>\n",
              "      <td>...</td>\n",
              "      <td>0</td>\n",
              "      <td>0</td>\n",
              "      <td>0</td>\n",
              "      <td>1</td>\n",
              "      <td>0</td>\n",
              "      <td>False</td>\n",
              "      <td>False</td>\n",
              "      <td>True</td>\n",
              "      <td>False</td>\n",
              "      <td>False</td>\n",
              "    </tr>\n",
              "    <tr>\n",
              "      <th>2</th>\n",
              "      <td>Urban/Small city</td>\n",
              "      <td>Rs. 20,000 to Rs. 50,000</td>\n",
              "      <td>Yes</td>\n",
              "      <td>party from National Democratic Alliance (ND)</td>\n",
              "      <td>Indian National Developmental Inclusive Allian...</td>\n",
              "      <td>party from Indian National Developmental Inclu...</td>\n",
              "      <td>Unemployment</td>\n",
              "      <td>Election issues</td>\n",
              "      <td>The performance of the Prime Minister</td>\n",
              "      <td>No Response</td>\n",
              "      <td>...</td>\n",
              "      <td>0</td>\n",
              "      <td>0</td>\n",
              "      <td>1</td>\n",
              "      <td>0</td>\n",
              "      <td>0</td>\n",
              "      <td>False</td>\n",
              "      <td>True</td>\n",
              "      <td>False</td>\n",
              "      <td>False</td>\n",
              "      <td>False</td>\n",
              "    </tr>\n",
              "    <tr>\n",
              "      <th>3</th>\n",
              "      <td>Rural/Village</td>\n",
              "      <td>Rs. 10,001 - Rs. 20,000</td>\n",
              "      <td>Yes</td>\n",
              "      <td>party from National Democratic Alliance (ND)</td>\n",
              "      <td>BJP</td>\n",
              "      <td>party from National Democratic Alliance (ND)</td>\n",
              "      <td>Farmer distress</td>\n",
              "      <td>political leader's face/personality</td>\n",
              "      <td>The performance of the candidate/MP.</td>\n",
              "      <td>No</td>\n",
              "      <td>...</td>\n",
              "      <td>0</td>\n",
              "      <td>0</td>\n",
              "      <td>0</td>\n",
              "      <td>0</td>\n",
              "      <td>0</td>\n",
              "      <td>False</td>\n",
              "      <td>False</td>\n",
              "      <td>False</td>\n",
              "      <td>True</td>\n",
              "      <td>False</td>\n",
              "    </tr>\n",
              "    <tr>\n",
              "      <th>5</th>\n",
              "      <td>Urban/Small city</td>\n",
              "      <td>Rs. 20,000 to Rs. 50,000</td>\n",
              "      <td>Yes</td>\n",
              "      <td>party from National Democratic Alliance (ND)</td>\n",
              "      <td>BJP</td>\n",
              "      <td>Aam Aadmi Party</td>\n",
              "      <td>Discrimination against women, Crimes against w...</td>\n",
              "      <td>Other</td>\n",
              "      <td>The performance of the candidate/MP.</td>\n",
              "      <td>Yes</td>\n",
              "      <td>...</td>\n",
              "      <td>0</td>\n",
              "      <td>0</td>\n",
              "      <td>0</td>\n",
              "      <td>1</td>\n",
              "      <td>0</td>\n",
              "      <td>True</td>\n",
              "      <td>False</td>\n",
              "      <td>False</td>\n",
              "      <td>False</td>\n",
              "      <td>False</td>\n",
              "    </tr>\n",
              "  </tbody>\n",
              "</table>\n",
              "<p>5 rows × 29 columns</p>\n",
              "</div>\n",
              "    <div class=\"colab-df-buttons\">\n",
              "\n",
              "  <div class=\"colab-df-container\">\n",
              "    <button class=\"colab-df-convert\" onclick=\"convertToInteractive('df-6e911a6b-3ed2-4a17-b0c6-ef0e8a480b00')\"\n",
              "            title=\"Convert this dataframe to an interactive table.\"\n",
              "            style=\"display:none;\">\n",
              "\n",
              "  <svg xmlns=\"http://www.w3.org/2000/svg\" height=\"24px\" viewBox=\"0 -960 960 960\">\n",
              "    <path d=\"M120-120v-720h720v720H120Zm60-500h600v-160H180v160Zm220 220h160v-160H400v160Zm0 220h160v-160H400v160ZM180-400h160v-160H180v160Zm440 0h160v-160H620v160ZM180-180h160v-160H180v160Zm440 0h160v-160H620v160Z\"/>\n",
              "  </svg>\n",
              "    </button>\n",
              "\n",
              "  <style>\n",
              "    .colab-df-container {\n",
              "      display:flex;\n",
              "      gap: 12px;\n",
              "    }\n",
              "\n",
              "    .colab-df-convert {\n",
              "      background-color: #E8F0FE;\n",
              "      border: none;\n",
              "      border-radius: 50%;\n",
              "      cursor: pointer;\n",
              "      display: none;\n",
              "      fill: #1967D2;\n",
              "      height: 32px;\n",
              "      padding: 0 0 0 0;\n",
              "      width: 32px;\n",
              "    }\n",
              "\n",
              "    .colab-df-convert:hover {\n",
              "      background-color: #E2EBFA;\n",
              "      box-shadow: 0px 1px 2px rgba(60, 64, 67, 0.3), 0px 1px 3px 1px rgba(60, 64, 67, 0.15);\n",
              "      fill: #174EA6;\n",
              "    }\n",
              "\n",
              "    .colab-df-buttons div {\n",
              "      margin-bottom: 4px;\n",
              "    }\n",
              "\n",
              "    [theme=dark] .colab-df-convert {\n",
              "      background-color: #3B4455;\n",
              "      fill: #D2E3FC;\n",
              "    }\n",
              "\n",
              "    [theme=dark] .colab-df-convert:hover {\n",
              "      background-color: #434B5C;\n",
              "      box-shadow: 0px 1px 3px 1px rgba(0, 0, 0, 0.15);\n",
              "      filter: drop-shadow(0px 1px 2px rgba(0, 0, 0, 0.3));\n",
              "      fill: #FFFFFF;\n",
              "    }\n",
              "  </style>\n",
              "\n",
              "    <script>\n",
              "      const buttonEl =\n",
              "        document.querySelector('#df-6e911a6b-3ed2-4a17-b0c6-ef0e8a480b00 button.colab-df-convert');\n",
              "      buttonEl.style.display =\n",
              "        google.colab.kernel.accessAllowed ? 'block' : 'none';\n",
              "\n",
              "      async function convertToInteractive(key) {\n",
              "        const element = document.querySelector('#df-6e911a6b-3ed2-4a17-b0c6-ef0e8a480b00');\n",
              "        const dataTable =\n",
              "          await google.colab.kernel.invokeFunction('convertToInteractive',\n",
              "                                                    [key], {});\n",
              "        if (!dataTable) return;\n",
              "\n",
              "        const docLinkHtml = 'Like what you see? Visit the ' +\n",
              "          '<a target=\"_blank\" href=https://colab.research.google.com/notebooks/data_table.ipynb>data table notebook</a>'\n",
              "          + ' to learn more about interactive tables.';\n",
              "        element.innerHTML = '';\n",
              "        dataTable['output_type'] = 'display_data';\n",
              "        await google.colab.output.renderOutput(dataTable, element);\n",
              "        const docLink = document.createElement('div');\n",
              "        docLink.innerHTML = docLinkHtml;\n",
              "        element.appendChild(docLink);\n",
              "      }\n",
              "    </script>\n",
              "  </div>\n",
              "\n",
              "\n",
              "<div id=\"df-18249dcf-9973-4196-9548-e51fd8b0baaf\">\n",
              "  <button class=\"colab-df-quickchart\" onclick=\"quickchart('df-18249dcf-9973-4196-9548-e51fd8b0baaf')\"\n",
              "            title=\"Suggest charts\"\n",
              "            style=\"display:none;\">\n",
              "\n",
              "<svg xmlns=\"http://www.w3.org/2000/svg\" height=\"24px\"viewBox=\"0 0 24 24\"\n",
              "     width=\"24px\">\n",
              "    <g>\n",
              "        <path d=\"M19 3H5c-1.1 0-2 .9-2 2v14c0 1.1.9 2 2 2h14c1.1 0 2-.9 2-2V5c0-1.1-.9-2-2-2zM9 17H7v-7h2v7zm4 0h-2V7h2v10zm4 0h-2v-4h2v4z\"/>\n",
              "    </g>\n",
              "</svg>\n",
              "  </button>\n",
              "\n",
              "<style>\n",
              "  .colab-df-quickchart {\n",
              "      --bg-color: #E8F0FE;\n",
              "      --fill-color: #1967D2;\n",
              "      --hover-bg-color: #E2EBFA;\n",
              "      --hover-fill-color: #174EA6;\n",
              "      --disabled-fill-color: #AAA;\n",
              "      --disabled-bg-color: #DDD;\n",
              "  }\n",
              "\n",
              "  [theme=dark] .colab-df-quickchart {\n",
              "      --bg-color: #3B4455;\n",
              "      --fill-color: #D2E3FC;\n",
              "      --hover-bg-color: #434B5C;\n",
              "      --hover-fill-color: #FFFFFF;\n",
              "      --disabled-bg-color: #3B4455;\n",
              "      --disabled-fill-color: #666;\n",
              "  }\n",
              "\n",
              "  .colab-df-quickchart {\n",
              "    background-color: var(--bg-color);\n",
              "    border: none;\n",
              "    border-radius: 50%;\n",
              "    cursor: pointer;\n",
              "    display: none;\n",
              "    fill: var(--fill-color);\n",
              "    height: 32px;\n",
              "    padding: 0;\n",
              "    width: 32px;\n",
              "  }\n",
              "\n",
              "  .colab-df-quickchart:hover {\n",
              "    background-color: var(--hover-bg-color);\n",
              "    box-shadow: 0 1px 2px rgba(60, 64, 67, 0.3), 0 1px 3px 1px rgba(60, 64, 67, 0.15);\n",
              "    fill: var(--button-hover-fill-color);\n",
              "  }\n",
              "\n",
              "  .colab-df-quickchart-complete:disabled,\n",
              "  .colab-df-quickchart-complete:disabled:hover {\n",
              "    background-color: var(--disabled-bg-color);\n",
              "    fill: var(--disabled-fill-color);\n",
              "    box-shadow: none;\n",
              "  }\n",
              "\n",
              "  .colab-df-spinner {\n",
              "    border: 2px solid var(--fill-color);\n",
              "    border-color: transparent;\n",
              "    border-bottom-color: var(--fill-color);\n",
              "    animation:\n",
              "      spin 1s steps(1) infinite;\n",
              "  }\n",
              "\n",
              "  @keyframes spin {\n",
              "    0% {\n",
              "      border-color: transparent;\n",
              "      border-bottom-color: var(--fill-color);\n",
              "      border-left-color: var(--fill-color);\n",
              "    }\n",
              "    20% {\n",
              "      border-color: transparent;\n",
              "      border-left-color: var(--fill-color);\n",
              "      border-top-color: var(--fill-color);\n",
              "    }\n",
              "    30% {\n",
              "      border-color: transparent;\n",
              "      border-left-color: var(--fill-color);\n",
              "      border-top-color: var(--fill-color);\n",
              "      border-right-color: var(--fill-color);\n",
              "    }\n",
              "    40% {\n",
              "      border-color: transparent;\n",
              "      border-right-color: var(--fill-color);\n",
              "      border-top-color: var(--fill-color);\n",
              "    }\n",
              "    60% {\n",
              "      border-color: transparent;\n",
              "      border-right-color: var(--fill-color);\n",
              "    }\n",
              "    80% {\n",
              "      border-color: transparent;\n",
              "      border-right-color: var(--fill-color);\n",
              "      border-bottom-color: var(--fill-color);\n",
              "    }\n",
              "    90% {\n",
              "      border-color: transparent;\n",
              "      border-bottom-color: var(--fill-color);\n",
              "    }\n",
              "  }\n",
              "</style>\n",
              "\n",
              "  <script>\n",
              "    async function quickchart(key) {\n",
              "      const quickchartButtonEl =\n",
              "        document.querySelector('#' + key + ' button');\n",
              "      quickchartButtonEl.disabled = true;  // To prevent multiple clicks.\n",
              "      quickchartButtonEl.classList.add('colab-df-spinner');\n",
              "      try {\n",
              "        const charts = await google.colab.kernel.invokeFunction(\n",
              "            'suggestCharts', [key], {});\n",
              "      } catch (error) {\n",
              "        console.error('Error during call to suggestCharts:', error);\n",
              "      }\n",
              "      quickchartButtonEl.classList.remove('colab-df-spinner');\n",
              "      quickchartButtonEl.classList.add('colab-df-quickchart-complete');\n",
              "    }\n",
              "    (() => {\n",
              "      let quickchartButtonEl =\n",
              "        document.querySelector('#df-18249dcf-9973-4196-9548-e51fd8b0baaf button');\n",
              "      quickchartButtonEl.style.display =\n",
              "        google.colab.kernel.accessAllowed ? 'block' : 'none';\n",
              "    })();\n",
              "  </script>\n",
              "</div>\n",
              "\n",
              "    </div>\n",
              "  </div>\n"
            ],
            "application/vnd.google.colaboratory.intrinsic+json": {
              "type": "dataframe",
              "variable_name": "df"
            }
          },
          "metadata": {},
          "execution_count": 156
        }
      ]
    },
    {
      "cell_type": "code",
      "source": [
        "df['Area/locality\\n'].isna().sum()\n"
      ],
      "metadata": {
        "colab": {
          "base_uri": "https://localhost:8080/"
        },
        "id": "8uiLeQYlmZcG",
        "outputId": "a6208c74-f9cd-4cd3-cab8-7bc58394869c"
      },
      "execution_count": 157,
      "outputs": [
        {
          "output_type": "execute_result",
          "data": {
            "text/plain": [
              "9"
            ]
          },
          "metadata": {},
          "execution_count": 157
        }
      ]
    },
    {
      "cell_type": "code",
      "source": [
        "df.dropna(subset=['Area/locality\\n'], inplace=True)\n"
      ],
      "metadata": {
        "id": "IR1C-Yt_wBZB"
      },
      "execution_count": 158,
      "outputs": []
    },
    {
      "cell_type": "code",
      "source": [
        "df.rename(columns={'Area/locality\\n': 'Locality'}, inplace=True)\n"
      ],
      "metadata": {
        "id": "JU8liREtmZex"
      },
      "execution_count": 159,
      "outputs": []
    },
    {
      "cell_type": "code",
      "source": [
        "df = pd.get_dummies(df, columns=['Locality'], prefix='Locality')\n"
      ],
      "metadata": {
        "id": "I67e5XSImZhn"
      },
      "execution_count": 160,
      "outputs": []
    },
    {
      "cell_type": "code",
      "source": [
        "columns_to_convert = ['Religion_Buddhist', 'Religion_Christian', 'Religion_Hindu',\n",
        "       'Religion_Islam', 'Religion_Other',\n",
        "       'Locality_Rural/Village', 'Locality_Urban/Big city',\n",
        "       'Locality_Urban/Small city']\n",
        "\n",
        "df[columns_to_convert] = df[columns_to_convert].replace({True: 1, False: 0})"
      ],
      "metadata": {
        "id": "vXQfDSK3mZkY"
      },
      "execution_count": 161,
      "outputs": []
    },
    {
      "cell_type": "code",
      "source": [
        "##encoding mothly income\n",
        "df.rename(columns={' monthly household income \\n': 'Monthly Income'}, inplace=True)\n",
        "\n",
        "\n"
      ],
      "metadata": {
        "id": "9P_8ynjbmZmz"
      },
      "execution_count": 162,
      "outputs": []
    },
    {
      "cell_type": "code",
      "source": [
        "from sklearn.preprocessing import OrdinalEncoder\n",
        "\n",
        "# Define the order of categories based on their ordinal relationship\n",
        "income_order = ['Over Rs. 50001', 'Rs. 20,000 to Rs. 50,000',\n",
        "       'Rs. 10,001 - Rs. 20,000', 'Up to Rs.10,000']\n",
        "\n",
        "# Initialize OrdinalEncoder with specified order\n",
        "ordinal_encoder = OrdinalEncoder(categories=[income_order])\n",
        "\n",
        "# Apply ordinal encoding to the 'monthly household income' column\n",
        "df['Income'] = ordinal_encoder.fit_transform(df[['Monthly Income']])\n",
        "\n"
      ],
      "metadata": {
        "id": "4QPX6YR9yt6A"
      },
      "execution_count": 163,
      "outputs": []
    },
    {
      "cell_type": "code",
      "source": [
        "df.drop(columns=['Monthly Income'],inplace=True)"
      ],
      "metadata": {
        "id": "7EOyzCA6yt8m"
      },
      "execution_count": 164,
      "outputs": []
    },
    {
      "cell_type": "code",
      "source": [
        "df.head()"
      ],
      "metadata": {
        "colab": {
          "base_uri": "https://localhost:8080/",
          "height": 637
        },
        "id": "J991K32I2JAs",
        "outputId": "9556bfba-6a87-4a40-c3dc-1bb0c7aed7a5"
      },
      "execution_count": 165,
      "outputs": [
        {
          "output_type": "execute_result",
          "data": {
            "text/plain": [
              "   Will you vote in upcoming elections?\\n  \\\n",
              "0                                     Yes   \n",
              "1                                     Yes   \n",
              "2                                     Yes   \n",
              "3                                     Yes   \n",
              "5                                     Yes   \n",
              "\n",
              "                       traditionaly supported\\n  \\\n",
              "0  party from National Democratic Alliance (ND)   \n",
              "1                                      Congress   \n",
              "2  party from National Democratic Alliance (ND)   \n",
              "3  party from National Democratic Alliance (ND)   \n",
              "5  party from National Democratic Alliance (ND)   \n",
              "\n",
              "  party/alliance currently in a stronger position ? \\n  \\\n",
              "0                                                BJP     \n",
              "1                                                BJP     \n",
              "2  Indian National Developmental Inclusive Allian...     \n",
              "3                                                BJP     \n",
              "5                                                BJP     \n",
              "\n",
              "   If Lok Sabha elections are held tomorrow ,which party will you vote for? \\n  \\\n",
              "0       party from National Democratic Alliance (ND)                             \n",
              "1                                           Congress                             \n",
              "2  party from Indian National Developmental Inclu...                             \n",
              "3       party from National Democratic Alliance (ND)                             \n",
              "5                                    Aam Aadmi Party                             \n",
              "\n",
              "              most important election issue for you?  \\\n",
              "0                                          Can't Say   \n",
              "1                              Price rise /inflation   \n",
              "2                                       Unemployment   \n",
              "3                                    Farmer distress   \n",
              "5  Discrimination against women, Crimes against w...   \n",
              "\n",
              "                     issues vs person?                    Voting Priorities?\"  \\\n",
              "0                      Election issues    The performance the political party   \n",
              "1  political leader's face/personality   The performance of the candidate/MP.   \n",
              "2                      Election issues  The performance of the Prime Minister   \n",
              "3  political leader's face/personality   The performance of the candidate/MP.   \n",
              "5                                Other   The performance of the candidate/MP.   \n",
              "\n",
              "  MP Satisfaction? \"MP Performance Rating?\"\\n\\n\\n\\n  \\\n",
              "0               No                             Good   \n",
              "1               No                             Poor   \n",
              "2      No Response                             Good   \n",
              "3               No                        Very poor   \n",
              "5              Yes                             Good   \n",
              "\n",
              "  current Govt. Satisfaction?  ...  Occupation:\\n_Unemployed  \\\n",
              "0                         Yes  ...                         0   \n",
              "1                         Yes  ...                         0   \n",
              "2                         Yes  ...                         0   \n",
              "3                          No  ...                         0   \n",
              "5                         Yes  ...                         0   \n",
              "\n",
              "   Religion_Buddhist  Religion_Christian  Religion_Hindu  Religion_Islam  \\\n",
              "0                  0                   0               1               0   \n",
              "1                  0                   0               1               0   \n",
              "2                  0                   1               0               0   \n",
              "3                  0                   0               0               1   \n",
              "5                  1                   0               0               0   \n",
              "\n",
              "   Religion_Other  Locality_Rural/Village  Locality_Urban/Big city  \\\n",
              "0               0                       0                        1   \n",
              "1               0                       0                        1   \n",
              "2               0                       0                        0   \n",
              "3               0                       1                        0   \n",
              "5               0                       0                        0   \n",
              "\n",
              "   Locality_Urban/Small city  Income  \n",
              "0                          0     0.0  \n",
              "1                          0     0.0  \n",
              "2                          1     1.0  \n",
              "3                          0     2.0  \n",
              "5                          1     1.0  \n",
              "\n",
              "[5 rows x 31 columns]"
            ],
            "text/html": [
              "\n",
              "  <div id=\"df-cde2c892-4f28-4de0-9302-b3e510314887\" class=\"colab-df-container\">\n",
              "    <div>\n",
              "<style scoped>\n",
              "    .dataframe tbody tr th:only-of-type {\n",
              "        vertical-align: middle;\n",
              "    }\n",
              "\n",
              "    .dataframe tbody tr th {\n",
              "        vertical-align: top;\n",
              "    }\n",
              "\n",
              "    .dataframe thead th {\n",
              "        text-align: right;\n",
              "    }\n",
              "</style>\n",
              "<table border=\"1\" class=\"dataframe\">\n",
              "  <thead>\n",
              "    <tr style=\"text-align: right;\">\n",
              "      <th></th>\n",
              "      <th>Will you vote in upcoming elections?\\n</th>\n",
              "      <th>traditionaly supported\\n</th>\n",
              "      <th>party/alliance currently in a stronger position ? \\n</th>\n",
              "      <th>If Lok Sabha elections are held tomorrow ,which party will you vote for? \\n</th>\n",
              "      <th>most important election issue for you?</th>\n",
              "      <th>issues vs person?</th>\n",
              "      <th>Voting Priorities?\"</th>\n",
              "      <th>MP Satisfaction?</th>\n",
              "      <th>\"MP Performance Rating?\"\\n\\n\\n\\n</th>\n",
              "      <th>current Govt. Satisfaction?</th>\n",
              "      <th>...</th>\n",
              "      <th>Occupation:\\n_Unemployed</th>\n",
              "      <th>Religion_Buddhist</th>\n",
              "      <th>Religion_Christian</th>\n",
              "      <th>Religion_Hindu</th>\n",
              "      <th>Religion_Islam</th>\n",
              "      <th>Religion_Other</th>\n",
              "      <th>Locality_Rural/Village</th>\n",
              "      <th>Locality_Urban/Big city</th>\n",
              "      <th>Locality_Urban/Small city</th>\n",
              "      <th>Income</th>\n",
              "    </tr>\n",
              "  </thead>\n",
              "  <tbody>\n",
              "    <tr>\n",
              "      <th>0</th>\n",
              "      <td>Yes</td>\n",
              "      <td>party from National Democratic Alliance (ND)</td>\n",
              "      <td>BJP</td>\n",
              "      <td>party from National Democratic Alliance (ND)</td>\n",
              "      <td>Can't Say</td>\n",
              "      <td>Election issues</td>\n",
              "      <td>The performance the political party</td>\n",
              "      <td>No</td>\n",
              "      <td>Good</td>\n",
              "      <td>Yes</td>\n",
              "      <td>...</td>\n",
              "      <td>0</td>\n",
              "      <td>0</td>\n",
              "      <td>0</td>\n",
              "      <td>1</td>\n",
              "      <td>0</td>\n",
              "      <td>0</td>\n",
              "      <td>0</td>\n",
              "      <td>1</td>\n",
              "      <td>0</td>\n",
              "      <td>0.0</td>\n",
              "    </tr>\n",
              "    <tr>\n",
              "      <th>1</th>\n",
              "      <td>Yes</td>\n",
              "      <td>Congress</td>\n",
              "      <td>BJP</td>\n",
              "      <td>Congress</td>\n",
              "      <td>Price rise /inflation</td>\n",
              "      <td>political leader's face/personality</td>\n",
              "      <td>The performance of the candidate/MP.</td>\n",
              "      <td>No</td>\n",
              "      <td>Poor</td>\n",
              "      <td>Yes</td>\n",
              "      <td>...</td>\n",
              "      <td>0</td>\n",
              "      <td>0</td>\n",
              "      <td>0</td>\n",
              "      <td>1</td>\n",
              "      <td>0</td>\n",
              "      <td>0</td>\n",
              "      <td>0</td>\n",
              "      <td>1</td>\n",
              "      <td>0</td>\n",
              "      <td>0.0</td>\n",
              "    </tr>\n",
              "    <tr>\n",
              "      <th>2</th>\n",
              "      <td>Yes</td>\n",
              "      <td>party from National Democratic Alliance (ND)</td>\n",
              "      <td>Indian National Developmental Inclusive Allian...</td>\n",
              "      <td>party from Indian National Developmental Inclu...</td>\n",
              "      <td>Unemployment</td>\n",
              "      <td>Election issues</td>\n",
              "      <td>The performance of the Prime Minister</td>\n",
              "      <td>No Response</td>\n",
              "      <td>Good</td>\n",
              "      <td>Yes</td>\n",
              "      <td>...</td>\n",
              "      <td>0</td>\n",
              "      <td>0</td>\n",
              "      <td>1</td>\n",
              "      <td>0</td>\n",
              "      <td>0</td>\n",
              "      <td>0</td>\n",
              "      <td>0</td>\n",
              "      <td>0</td>\n",
              "      <td>1</td>\n",
              "      <td>1.0</td>\n",
              "    </tr>\n",
              "    <tr>\n",
              "      <th>3</th>\n",
              "      <td>Yes</td>\n",
              "      <td>party from National Democratic Alliance (ND)</td>\n",
              "      <td>BJP</td>\n",
              "      <td>party from National Democratic Alliance (ND)</td>\n",
              "      <td>Farmer distress</td>\n",
              "      <td>political leader's face/personality</td>\n",
              "      <td>The performance of the candidate/MP.</td>\n",
              "      <td>No</td>\n",
              "      <td>Very poor</td>\n",
              "      <td>No</td>\n",
              "      <td>...</td>\n",
              "      <td>0</td>\n",
              "      <td>0</td>\n",
              "      <td>0</td>\n",
              "      <td>0</td>\n",
              "      <td>1</td>\n",
              "      <td>0</td>\n",
              "      <td>1</td>\n",
              "      <td>0</td>\n",
              "      <td>0</td>\n",
              "      <td>2.0</td>\n",
              "    </tr>\n",
              "    <tr>\n",
              "      <th>5</th>\n",
              "      <td>Yes</td>\n",
              "      <td>party from National Democratic Alliance (ND)</td>\n",
              "      <td>BJP</td>\n",
              "      <td>Aam Aadmi Party</td>\n",
              "      <td>Discrimination against women, Crimes against w...</td>\n",
              "      <td>Other</td>\n",
              "      <td>The performance of the candidate/MP.</td>\n",
              "      <td>Yes</td>\n",
              "      <td>Good</td>\n",
              "      <td>Yes</td>\n",
              "      <td>...</td>\n",
              "      <td>0</td>\n",
              "      <td>1</td>\n",
              "      <td>0</td>\n",
              "      <td>0</td>\n",
              "      <td>0</td>\n",
              "      <td>0</td>\n",
              "      <td>0</td>\n",
              "      <td>0</td>\n",
              "      <td>1</td>\n",
              "      <td>1.0</td>\n",
              "    </tr>\n",
              "  </tbody>\n",
              "</table>\n",
              "<p>5 rows × 31 columns</p>\n",
              "</div>\n",
              "    <div class=\"colab-df-buttons\">\n",
              "\n",
              "  <div class=\"colab-df-container\">\n",
              "    <button class=\"colab-df-convert\" onclick=\"convertToInteractive('df-cde2c892-4f28-4de0-9302-b3e510314887')\"\n",
              "            title=\"Convert this dataframe to an interactive table.\"\n",
              "            style=\"display:none;\">\n",
              "\n",
              "  <svg xmlns=\"http://www.w3.org/2000/svg\" height=\"24px\" viewBox=\"0 -960 960 960\">\n",
              "    <path d=\"M120-120v-720h720v720H120Zm60-500h600v-160H180v160Zm220 220h160v-160H400v160Zm0 220h160v-160H400v160ZM180-400h160v-160H180v160Zm440 0h160v-160H620v160ZM180-180h160v-160H180v160Zm440 0h160v-160H620v160Z\"/>\n",
              "  </svg>\n",
              "    </button>\n",
              "\n",
              "  <style>\n",
              "    .colab-df-container {\n",
              "      display:flex;\n",
              "      gap: 12px;\n",
              "    }\n",
              "\n",
              "    .colab-df-convert {\n",
              "      background-color: #E8F0FE;\n",
              "      border: none;\n",
              "      border-radius: 50%;\n",
              "      cursor: pointer;\n",
              "      display: none;\n",
              "      fill: #1967D2;\n",
              "      height: 32px;\n",
              "      padding: 0 0 0 0;\n",
              "      width: 32px;\n",
              "    }\n",
              "\n",
              "    .colab-df-convert:hover {\n",
              "      background-color: #E2EBFA;\n",
              "      box-shadow: 0px 1px 2px rgba(60, 64, 67, 0.3), 0px 1px 3px 1px rgba(60, 64, 67, 0.15);\n",
              "      fill: #174EA6;\n",
              "    }\n",
              "\n",
              "    .colab-df-buttons div {\n",
              "      margin-bottom: 4px;\n",
              "    }\n",
              "\n",
              "    [theme=dark] .colab-df-convert {\n",
              "      background-color: #3B4455;\n",
              "      fill: #D2E3FC;\n",
              "    }\n",
              "\n",
              "    [theme=dark] .colab-df-convert:hover {\n",
              "      background-color: #434B5C;\n",
              "      box-shadow: 0px 1px 3px 1px rgba(0, 0, 0, 0.15);\n",
              "      filter: drop-shadow(0px 1px 2px rgba(0, 0, 0, 0.3));\n",
              "      fill: #FFFFFF;\n",
              "    }\n",
              "  </style>\n",
              "\n",
              "    <script>\n",
              "      const buttonEl =\n",
              "        document.querySelector('#df-cde2c892-4f28-4de0-9302-b3e510314887 button.colab-df-convert');\n",
              "      buttonEl.style.display =\n",
              "        google.colab.kernel.accessAllowed ? 'block' : 'none';\n",
              "\n",
              "      async function convertToInteractive(key) {\n",
              "        const element = document.querySelector('#df-cde2c892-4f28-4de0-9302-b3e510314887');\n",
              "        const dataTable =\n",
              "          await google.colab.kernel.invokeFunction('convertToInteractive',\n",
              "                                                    [key], {});\n",
              "        if (!dataTable) return;\n",
              "\n",
              "        const docLinkHtml = 'Like what you see? Visit the ' +\n",
              "          '<a target=\"_blank\" href=https://colab.research.google.com/notebooks/data_table.ipynb>data table notebook</a>'\n",
              "          + ' to learn more about interactive tables.';\n",
              "        element.innerHTML = '';\n",
              "        dataTable['output_type'] = 'display_data';\n",
              "        await google.colab.output.renderOutput(dataTable, element);\n",
              "        const docLink = document.createElement('div');\n",
              "        docLink.innerHTML = docLinkHtml;\n",
              "        element.appendChild(docLink);\n",
              "      }\n",
              "    </script>\n",
              "  </div>\n",
              "\n",
              "\n",
              "<div id=\"df-036a9880-035a-435a-8438-37a71fd7ad60\">\n",
              "  <button class=\"colab-df-quickchart\" onclick=\"quickchart('df-036a9880-035a-435a-8438-37a71fd7ad60')\"\n",
              "            title=\"Suggest charts\"\n",
              "            style=\"display:none;\">\n",
              "\n",
              "<svg xmlns=\"http://www.w3.org/2000/svg\" height=\"24px\"viewBox=\"0 0 24 24\"\n",
              "     width=\"24px\">\n",
              "    <g>\n",
              "        <path d=\"M19 3H5c-1.1 0-2 .9-2 2v14c0 1.1.9 2 2 2h14c1.1 0 2-.9 2-2V5c0-1.1-.9-2-2-2zM9 17H7v-7h2v7zm4 0h-2V7h2v10zm4 0h-2v-4h2v4z\"/>\n",
              "    </g>\n",
              "</svg>\n",
              "  </button>\n",
              "\n",
              "<style>\n",
              "  .colab-df-quickchart {\n",
              "      --bg-color: #E8F0FE;\n",
              "      --fill-color: #1967D2;\n",
              "      --hover-bg-color: #E2EBFA;\n",
              "      --hover-fill-color: #174EA6;\n",
              "      --disabled-fill-color: #AAA;\n",
              "      --disabled-bg-color: #DDD;\n",
              "  }\n",
              "\n",
              "  [theme=dark] .colab-df-quickchart {\n",
              "      --bg-color: #3B4455;\n",
              "      --fill-color: #D2E3FC;\n",
              "      --hover-bg-color: #434B5C;\n",
              "      --hover-fill-color: #FFFFFF;\n",
              "      --disabled-bg-color: #3B4455;\n",
              "      --disabled-fill-color: #666;\n",
              "  }\n",
              "\n",
              "  .colab-df-quickchart {\n",
              "    background-color: var(--bg-color);\n",
              "    border: none;\n",
              "    border-radius: 50%;\n",
              "    cursor: pointer;\n",
              "    display: none;\n",
              "    fill: var(--fill-color);\n",
              "    height: 32px;\n",
              "    padding: 0;\n",
              "    width: 32px;\n",
              "  }\n",
              "\n",
              "  .colab-df-quickchart:hover {\n",
              "    background-color: var(--hover-bg-color);\n",
              "    box-shadow: 0 1px 2px rgba(60, 64, 67, 0.3), 0 1px 3px 1px rgba(60, 64, 67, 0.15);\n",
              "    fill: var(--button-hover-fill-color);\n",
              "  }\n",
              "\n",
              "  .colab-df-quickchart-complete:disabled,\n",
              "  .colab-df-quickchart-complete:disabled:hover {\n",
              "    background-color: var(--disabled-bg-color);\n",
              "    fill: var(--disabled-fill-color);\n",
              "    box-shadow: none;\n",
              "  }\n",
              "\n",
              "  .colab-df-spinner {\n",
              "    border: 2px solid var(--fill-color);\n",
              "    border-color: transparent;\n",
              "    border-bottom-color: var(--fill-color);\n",
              "    animation:\n",
              "      spin 1s steps(1) infinite;\n",
              "  }\n",
              "\n",
              "  @keyframes spin {\n",
              "    0% {\n",
              "      border-color: transparent;\n",
              "      border-bottom-color: var(--fill-color);\n",
              "      border-left-color: var(--fill-color);\n",
              "    }\n",
              "    20% {\n",
              "      border-color: transparent;\n",
              "      border-left-color: var(--fill-color);\n",
              "      border-top-color: var(--fill-color);\n",
              "    }\n",
              "    30% {\n",
              "      border-color: transparent;\n",
              "      border-left-color: var(--fill-color);\n",
              "      border-top-color: var(--fill-color);\n",
              "      border-right-color: var(--fill-color);\n",
              "    }\n",
              "    40% {\n",
              "      border-color: transparent;\n",
              "      border-right-color: var(--fill-color);\n",
              "      border-top-color: var(--fill-color);\n",
              "    }\n",
              "    60% {\n",
              "      border-color: transparent;\n",
              "      border-right-color: var(--fill-color);\n",
              "    }\n",
              "    80% {\n",
              "      border-color: transparent;\n",
              "      border-right-color: var(--fill-color);\n",
              "      border-bottom-color: var(--fill-color);\n",
              "    }\n",
              "    90% {\n",
              "      border-color: transparent;\n",
              "      border-bottom-color: var(--fill-color);\n",
              "    }\n",
              "  }\n",
              "</style>\n",
              "\n",
              "  <script>\n",
              "    async function quickchart(key) {\n",
              "      const quickchartButtonEl =\n",
              "        document.querySelector('#' + key + ' button');\n",
              "      quickchartButtonEl.disabled = true;  // To prevent multiple clicks.\n",
              "      quickchartButtonEl.classList.add('colab-df-spinner');\n",
              "      try {\n",
              "        const charts = await google.colab.kernel.invokeFunction(\n",
              "            'suggestCharts', [key], {});\n",
              "      } catch (error) {\n",
              "        console.error('Error during call to suggestCharts:', error);\n",
              "      }\n",
              "      quickchartButtonEl.classList.remove('colab-df-spinner');\n",
              "      quickchartButtonEl.classList.add('colab-df-quickchart-complete');\n",
              "    }\n",
              "    (() => {\n",
              "      let quickchartButtonEl =\n",
              "        document.querySelector('#df-036a9880-035a-435a-8438-37a71fd7ad60 button');\n",
              "      quickchartButtonEl.style.display =\n",
              "        google.colab.kernel.accessAllowed ? 'block' : 'none';\n",
              "    })();\n",
              "  </script>\n",
              "</div>\n",
              "\n",
              "    </div>\n",
              "  </div>\n"
            ],
            "application/vnd.google.colaboratory.intrinsic+json": {
              "type": "dataframe",
              "variable_name": "df"
            }
          },
          "metadata": {},
          "execution_count": 165
        }
      ]
    },
    {
      "cell_type": "code",
      "source": [
        "##encoding will vote\n",
        "df['will vote']=df[' Will you vote in upcoming elections?\\n']"
      ],
      "metadata": {
        "id": "HQGC1Aelyt_A"
      },
      "execution_count": 166,
      "outputs": []
    },
    {
      "cell_type": "code",
      "source": [
        "df.drop(columns=[' Will you vote in upcoming elections?\\n'],inplace=True)"
      ],
      "metadata": {
        "id": "9cnsJP7qyuBk"
      },
      "execution_count": 167,
      "outputs": []
    },
    {
      "cell_type": "code",
      "source": [
        "df['will vote'] = df['will vote'].replace({'Yes': 1, 'No': 0})\n"
      ],
      "metadata": {
        "id": "YGG1iem3yuEd"
      },
      "execution_count": 168,
      "outputs": []
    },
    {
      "cell_type": "code",
      "source": [
        "###"
      ],
      "metadata": {
        "id": "gXNuyyhxyuHM"
      },
      "execution_count": 169,
      "outputs": []
    },
    {
      "cell_type": "code",
      "source": [
        "df.columns=['trad_supp',\n",
        "       'current_strong_pos',\n",
        "       'your_vote_for',\n",
        "       'imp_issue', 'issues vs personality?',\n",
        "       'Voting Priorities', 'MP Satisfaction?',\n",
        "       'MP Performance Rating', 'current Govt. Satisfaction',\n",
        "       're_elect govt', 'Gender_male', 'Age', 'Educational Qualification',\n",
        "       ' Occupation_Employed (Govt.)', ' Occupation_Farmer',\n",
        "       ' Occupation_Homemaker', ' Occupation_Other',\n",
        "       ' Occupation_Retired', ' Occupation_Self-employed',\n",
        "       ' Occupation_Student', ' Occupation_Unemployed','Religion_Buddhist', 'Religion_Christian', 'Religion_Hindu',\n",
        "       'Religion_Islam', 'Religion_Other', 'Locality_Rural/Village',\n",
        "       'Locality_Urban/Big city', 'Locality_Urban/Small city', 'Income',\n",
        "       'will vote']"
      ],
      "metadata": {
        "id": "JgE3tO1lmZpf"
      },
      "execution_count": 170,
      "outputs": []
    },
    {
      "cell_type": "code",
      "source": [
        "df.columns"
      ],
      "metadata": {
        "id": "JLnDCB1AyuKk",
        "colab": {
          "base_uri": "https://localhost:8080/"
        },
        "outputId": "661f6f87-7ff3-4a0a-9c32-3dd516b44c3a"
      },
      "execution_count": 171,
      "outputs": [
        {
          "output_type": "execute_result",
          "data": {
            "text/plain": [
              "Index(['trad_supp', 'current_strong_pos', 'your_vote_for', 'imp_issue',\n",
              "       'issues vs personality?', 'Voting Priorities', 'MP Satisfaction?',\n",
              "       'MP Performance Rating', 'current Govt. Satisfaction', 're_elect govt',\n",
              "       'Gender_male', 'Age', 'Educational Qualification',\n",
              "       ' Occupation_Employed (Govt.)', ' Occupation_Farmer',\n",
              "       ' Occupation_Homemaker', ' Occupation_Other', ' Occupation_Retired',\n",
              "       ' Occupation_Self-employed', ' Occupation_Student',\n",
              "       ' Occupation_Unemployed', 'Religion_Buddhist', 'Religion_Christian',\n",
              "       'Religion_Hindu', 'Religion_Islam', 'Religion_Other',\n",
              "       'Locality_Rural/Village', 'Locality_Urban/Big city',\n",
              "       'Locality_Urban/Small city', 'Income', 'will vote'],\n",
              "      dtype='object')"
            ]
          },
          "metadata": {},
          "execution_count": 171
        }
      ]
    },
    {
      "cell_type": "code",
      "source": [
        "df.shape[0]"
      ],
      "metadata": {
        "colab": {
          "base_uri": "https://localhost:8080/"
        },
        "id": "tZz8zdaf8_gF",
        "outputId": "b913addd-869b-4b86-ad36-fa04c2165c5f"
      },
      "execution_count": 172,
      "outputs": [
        {
          "output_type": "execute_result",
          "data": {
            "text/plain": [
              "562"
            ]
          },
          "metadata": {},
          "execution_count": 172
        }
      ]
    },
    {
      "cell_type": "code",
      "source": [
        "##traditionally supported encoding\n",
        "df['trad_supp'].unique()"
      ],
      "metadata": {
        "id": "T5DRI3oNmZvC",
        "colab": {
          "base_uri": "https://localhost:8080/"
        },
        "outputId": "b4a80b47-d78d-491e-c147-223b01819bc7"
      },
      "execution_count": 173,
      "outputs": [
        {
          "output_type": "execute_result",
          "data": {
            "text/plain": [
              "array(['party from National Democratic Alliance (ND)', 'Congress',\n",
              "       'party from Indian National Developmental Inclusive Alliance (INDIA)',\n",
              "       'BJP', 'Aam Aadmi Party', 'No party'], dtype=object)"
            ]
          },
          "metadata": {},
          "execution_count": 173
        }
      ]
    },
    {
      "cell_type": "code",
      "source": [
        "df=df[df['trad_supp'] != 'No party']\n"
      ],
      "metadata": {
        "id": "0RhhDOcbmZyP"
      },
      "execution_count": 174,
      "outputs": []
    },
    {
      "cell_type": "code",
      "source": [
        "df=pd.get_dummies(df,columns=['trad_supp'])"
      ],
      "metadata": {
        "id": "vPf62tSP9G3U"
      },
      "execution_count": 175,
      "outputs": []
    },
    {
      "cell_type": "code",
      "source": [
        "map={\n",
        "    'trad_supp_Aam Aadmi Party':'trad_AAP',\n",
        "    'trad_supp_BJP':'trad_BJP'\t,\n",
        "    'trad_supp_Congress':'trad_congress',\n",
        "    'trad_supp_party from Indian National Developmental Inclusive Alliance (INDIA)':'trad_india',\n",
        "    'trad_supp_party from National Democratic Alliance (ND)':'trad_nda'\n",
        "}\n",
        "\n",
        "df=df.rename(columns=map)"
      ],
      "metadata": {
        "id": "xBLvBw8N--ix"
      },
      "execution_count": 176,
      "outputs": []
    },
    {
      "cell_type": "code",
      "source": [
        "##curent strong\n",
        "df['current_strong_pos'].unique()"
      ],
      "metadata": {
        "colab": {
          "base_uri": "https://localhost:8080/"
        },
        "id": "oemV6G9W--lS",
        "outputId": "40a19c87-06cb-4477-caba-8f5e712186ad"
      },
      "execution_count": 177,
      "outputs": [
        {
          "output_type": "execute_result",
          "data": {
            "text/plain": [
              "array(['BJP', 'Indian National Developmental Inclusive Alliance (INDIA)',\n",
              "       'National Democratic Alliance (NDA)', 'Aam Aadmi Party',\n",
              "       'Congress'], dtype=object)"
            ]
          },
          "metadata": {},
          "execution_count": 177
        }
      ]
    },
    {
      "cell_type": "code",
      "source": [
        "df=pd.get_dummies(df,columns=['current_strong_pos'])"
      ],
      "metadata": {
        "id": "SjgUGKPu--nt"
      },
      "execution_count": 178,
      "outputs": []
    },
    {
      "cell_type": "code",
      "source": [
        "map2={\n",
        "    'current_strong_pos_Aam Aadmi Party':'strg_aap',\n",
        "    'current_strong_pos_BJP':'strg_bjp',\n",
        "    'current_strong_pos_Congress':'strg_congress',\n",
        "    'current_strong_pos_Indian National Developmental Inclusive Alliance (INDIA)':'strg_india',\n",
        "    'current_strong_pos_National Democratic Alliance (NDA)':'strg_nda'\n",
        "}\n",
        "\n",
        "df=df.rename(columns=map2)"
      ],
      "metadata": {
        "id": "0vbkMt76--qp"
      },
      "execution_count": 179,
      "outputs": []
    },
    {
      "cell_type": "code",
      "source": [
        "##your vote encoding\n",
        "df['your_vote_for'].unique()"
      ],
      "metadata": {
        "colab": {
          "base_uri": "https://localhost:8080/"
        },
        "id": "LOPx7NJKC2yi",
        "outputId": "7aaa3935-248d-4aba-c3ce-9103dd1ea90d"
      },
      "execution_count": 180,
      "outputs": [
        {
          "output_type": "execute_result",
          "data": {
            "text/plain": [
              "array(['party from National Democratic Alliance (ND)', 'Congress',\n",
              "       'party from Indian National Developmental Inclusive Alliance (INDIA)',\n",
              "       'Aam Aadmi Party', 'BJP'], dtype=object)"
            ]
          },
          "metadata": {},
          "execution_count": 180
        }
      ]
    },
    {
      "cell_type": "code",
      "source": [
        "df=pd.get_dummies(df,columns=['your_vote_for'])\n",
        "\n"
      ],
      "metadata": {
        "id": "VOXTgmxH--tz"
      },
      "execution_count": 181,
      "outputs": []
    },
    {
      "cell_type": "code",
      "source": [
        "map3={\n",
        "    'your_vote_for_Aam Aadmi Party':'vote_aap',\n",
        "    'your_vote_for_BJP':'vote_bjp',\n",
        "    'your_vote_for_Congress':'vote_congress',\n",
        "    'your_vote_for_party from Indian National Developmental Inclusive Alliance (INDIA)':'vote_india',\n",
        "    'your_vote_for_party from National Democratic Alliance (ND)':'vote_nda'\n",
        "\n",
        "}\n",
        "\n",
        "df=df.rename(columns=map3)"
      ],
      "metadata": {
        "id": "1mxDHPvw--wK"
      },
      "execution_count": 182,
      "outputs": []
    },
    {
      "cell_type": "code",
      "source": [
        "##isuues vs personality encoding\n",
        "df['issues vs personality?'].unique()"
      ],
      "metadata": {
        "colab": {
          "base_uri": "https://localhost:8080/"
        },
        "id": "p7-TXeYG--yv",
        "outputId": "f16b719e-83f3-45f8-fe21-d81e64c37f95"
      },
      "execution_count": 183,
      "outputs": [
        {
          "output_type": "execute_result",
          "data": {
            "text/plain": [
              "array(['Election issues', \"political leader's face/personality\", 'Other'],\n",
              "      dtype=object)"
            ]
          },
          "metadata": {},
          "execution_count": 183
        }
      ]
    },
    {
      "cell_type": "code",
      "source": [
        "df=pd.get_dummies(df,columns=['issues vs personality?'])\n"
      ],
      "metadata": {
        "id": "JSzeQ9Co--08"
      },
      "execution_count": 184,
      "outputs": []
    },
    {
      "cell_type": "code",
      "source": [
        "map4={\n",
        "    'issues vs personality?_Election issues':'electn_isuues',\n",
        "    'issues vs personality?_Other':'other',\n",
        "    \"issues vs personality?_political leader's face/personality\":\"leader\"\n",
        "\n",
        "}\n",
        "\n",
        "df=df.rename(columns=map4)"
      ],
      "metadata": {
        "id": "fTl3YNMY--3l"
      },
      "execution_count": 185,
      "outputs": []
    },
    {
      "cell_type": "code",
      "source": [
        "##encoding mps satisfaction\n",
        "df['MP Satisfaction?'].unique()\n"
      ],
      "metadata": {
        "colab": {
          "base_uri": "https://localhost:8080/"
        },
        "id": "mMA2Oc3mRxIu",
        "outputId": "b6d97213-0c8f-4355-e652-8a584d89a736"
      },
      "execution_count": 186,
      "outputs": [
        {
          "output_type": "execute_result",
          "data": {
            "text/plain": [
              "array(['No', 'No Response', 'Yes'], dtype=object)"
            ]
          },
          "metadata": {},
          "execution_count": 186
        }
      ]
    },
    {
      "cell_type": "code",
      "source": [
        "m = len(df[df['MP Satisfaction?'] == 'No Response'])\n",
        "m"
      ],
      "metadata": {
        "colab": {
          "base_uri": "https://localhost:8080/"
        },
        "id": "vl26oPHSEqrb",
        "outputId": "f40d2d99-51ad-4ad7-d445-d9b34d931d8b"
      },
      "execution_count": 187,
      "outputs": [
        {
          "output_type": "execute_result",
          "data": {
            "text/plain": [
              "41"
            ]
          },
          "metadata": {},
          "execution_count": 187
        }
      ]
    },
    {
      "cell_type": "code",
      "source": [
        "most_frequent_value = df['MP Satisfaction?'].mode()[0]\n",
        "entry_to_replace = 'No Response'\n",
        "df.loc[df['MP Satisfaction?'] == entry_to_replace, 'MP Satisfaction?'] = most_frequent_value"
      ],
      "metadata": {
        "id": "g8RvZKvKDkZV"
      },
      "execution_count": 188,
      "outputs": []
    },
    {
      "cell_type": "code",
      "source": [
        "df['MP Satisfaction?'] = df['MP Satisfaction?'].replace({'Yes': 1, 'No': 0})\n"
      ],
      "metadata": {
        "id": "sYMHKyH7DnMd"
      },
      "execution_count": 189,
      "outputs": []
    },
    {
      "cell_type": "code",
      "source": [],
      "metadata": {
        "id": "b6o_ZcK5Dkc4"
      },
      "execution_count": 189,
      "outputs": []
    },
    {
      "cell_type": "code",
      "source": [
        "##encoding 'MP Performance Rating'\n",
        "df['MP Performance Rating'].unique()"
      ],
      "metadata": {
        "colab": {
          "base_uri": "https://localhost:8080/"
        },
        "id": "-4XTFqHnRXek",
        "outputId": "197acde7-b124-4ed7-bf1d-ec2f8e4e1e09"
      },
      "execution_count": 190,
      "outputs": [
        {
          "output_type": "execute_result",
          "data": {
            "text/plain": [
              "array(['Good', 'Poor', 'Very poor', 'No Response', 'Satisfactory',\n",
              "       'Excellent'], dtype=object)"
            ]
          },
          "metadata": {},
          "execution_count": 190
        }
      ]
    },
    {
      "cell_type": "code",
      "source": [
        "m = len(df[df['MP Performance Rating'] == 'No Response'])\n",
        "m"
      ],
      "metadata": {
        "colab": {
          "base_uri": "https://localhost:8080/"
        },
        "id": "DH4KrJfpRmJQ",
        "outputId": "f2cb6861-9ac5-4928-99c3-3527fef010b8"
      },
      "execution_count": 191,
      "outputs": [
        {
          "output_type": "execute_result",
          "data": {
            "text/plain": [
              "27"
            ]
          },
          "metadata": {},
          "execution_count": 191
        }
      ]
    },
    {
      "cell_type": "code",
      "source": [
        "most_frequent_value = df['MP Performance Rating'].mode()[0]\n",
        "entry_to_replace = 'No Response'\n",
        "df.loc[df['MP Performance Rating'] == entry_to_replace, 'MP Performance Rating'] = most_frequent_value\n"
      ],
      "metadata": {
        "id": "g8KDBgZSRxF4"
      },
      "execution_count": 192,
      "outputs": []
    },
    {
      "cell_type": "code",
      "source": [
        "ordinal_mapping = {\n",
        "    'Very poor': 1,\n",
        "    'Poor': 2,\n",
        "    'Satisfactory': 3,\n",
        "    'Good': 4,\n",
        "    'Excellent': 5\n",
        "}\n",
        "\n",
        "df['MP Performance Rating'] = df['MP Performance Rating'].map(ordinal_mapping)\n"
      ],
      "metadata": {
        "id": "ZoyUy9swRxLF"
      },
      "execution_count": 193,
      "outputs": []
    },
    {
      "cell_type": "code",
      "source": [
        "df.head()"
      ],
      "metadata": {
        "id": "sLVfoQ0XmZsJ",
        "colab": {
          "base_uri": "https://localhost:8080/",
          "height": 567
        },
        "outputId": "f9721102-2017-4dd9-e7eb-4d57e414d181"
      },
      "execution_count": 194,
      "outputs": [
        {
          "output_type": "execute_result",
          "data": {
            "text/plain": [
              "                                           imp_issue  \\\n",
              "0                                          Can't Say   \n",
              "1                              Price rise /inflation   \n",
              "2                                       Unemployment   \n",
              "3                                    Farmer distress   \n",
              "5  Discrimination against women, Crimes against w...   \n",
              "\n",
              "                       Voting Priorities  MP Satisfaction?  \\\n",
              "0    The performance the political party                 0   \n",
              "1   The performance of the candidate/MP.                 0   \n",
              "2  The performance of the Prime Minister                 0   \n",
              "3   The performance of the candidate/MP.                 0   \n",
              "5   The performance of the candidate/MP.                 1   \n",
              "\n",
              "   MP Performance Rating current Govt. Satisfaction re_elect govt  \\\n",
              "0                      4                        Yes           Yes   \n",
              "1                      2                        Yes           Yes   \n",
              "2                      4                        Yes            No   \n",
              "3                      1                         No            No   \n",
              "5                      4                        Yes           Yes   \n",
              "\n",
              "   Gender_male  Age  Educational Qualification   Occupation_Employed (Govt.)  \\\n",
              "0            1  1.0                          5                             0   \n",
              "1            1  1.0                          4                             0   \n",
              "2            0  3.0                          2                             0   \n",
              "3            0  4.0                          0                             0   \n",
              "5            1  NaN                          2                             0   \n",
              "\n",
              "   ...  strg_india  strg_nda  vote_aap  vote_bjp  vote_congress  vote_india  \\\n",
              "0  ...       False     False     False     False          False       False   \n",
              "1  ...       False     False     False     False           True       False   \n",
              "2  ...        True     False     False     False          False        True   \n",
              "3  ...       False     False     False     False          False       False   \n",
              "5  ...       False     False      True     False          False       False   \n",
              "\n",
              "   vote_nda  electn_isuues  other  leader  \n",
              "0      True           True  False   False  \n",
              "1     False          False  False    True  \n",
              "2     False           True  False   False  \n",
              "3      True          False  False    True  \n",
              "5     False          False   True   False  \n",
              "\n",
              "[5 rows x 45 columns]"
            ],
            "text/html": [
              "\n",
              "  <div id=\"df-e7172df8-046a-4496-b8cf-4077b5bfb513\" class=\"colab-df-container\">\n",
              "    <div>\n",
              "<style scoped>\n",
              "    .dataframe tbody tr th:only-of-type {\n",
              "        vertical-align: middle;\n",
              "    }\n",
              "\n",
              "    .dataframe tbody tr th {\n",
              "        vertical-align: top;\n",
              "    }\n",
              "\n",
              "    .dataframe thead th {\n",
              "        text-align: right;\n",
              "    }\n",
              "</style>\n",
              "<table border=\"1\" class=\"dataframe\">\n",
              "  <thead>\n",
              "    <tr style=\"text-align: right;\">\n",
              "      <th></th>\n",
              "      <th>imp_issue</th>\n",
              "      <th>Voting Priorities</th>\n",
              "      <th>MP Satisfaction?</th>\n",
              "      <th>MP Performance Rating</th>\n",
              "      <th>current Govt. Satisfaction</th>\n",
              "      <th>re_elect govt</th>\n",
              "      <th>Gender_male</th>\n",
              "      <th>Age</th>\n",
              "      <th>Educational Qualification</th>\n",
              "      <th>Occupation_Employed (Govt.)</th>\n",
              "      <th>...</th>\n",
              "      <th>strg_india</th>\n",
              "      <th>strg_nda</th>\n",
              "      <th>vote_aap</th>\n",
              "      <th>vote_bjp</th>\n",
              "      <th>vote_congress</th>\n",
              "      <th>vote_india</th>\n",
              "      <th>vote_nda</th>\n",
              "      <th>electn_isuues</th>\n",
              "      <th>other</th>\n",
              "      <th>leader</th>\n",
              "    </tr>\n",
              "  </thead>\n",
              "  <tbody>\n",
              "    <tr>\n",
              "      <th>0</th>\n",
              "      <td>Can't Say</td>\n",
              "      <td>The performance the political party</td>\n",
              "      <td>0</td>\n",
              "      <td>4</td>\n",
              "      <td>Yes</td>\n",
              "      <td>Yes</td>\n",
              "      <td>1</td>\n",
              "      <td>1.0</td>\n",
              "      <td>5</td>\n",
              "      <td>0</td>\n",
              "      <td>...</td>\n",
              "      <td>False</td>\n",
              "      <td>False</td>\n",
              "      <td>False</td>\n",
              "      <td>False</td>\n",
              "      <td>False</td>\n",
              "      <td>False</td>\n",
              "      <td>True</td>\n",
              "      <td>True</td>\n",
              "      <td>False</td>\n",
              "      <td>False</td>\n",
              "    </tr>\n",
              "    <tr>\n",
              "      <th>1</th>\n",
              "      <td>Price rise /inflation</td>\n",
              "      <td>The performance of the candidate/MP.</td>\n",
              "      <td>0</td>\n",
              "      <td>2</td>\n",
              "      <td>Yes</td>\n",
              "      <td>Yes</td>\n",
              "      <td>1</td>\n",
              "      <td>1.0</td>\n",
              "      <td>4</td>\n",
              "      <td>0</td>\n",
              "      <td>...</td>\n",
              "      <td>False</td>\n",
              "      <td>False</td>\n",
              "      <td>False</td>\n",
              "      <td>False</td>\n",
              "      <td>True</td>\n",
              "      <td>False</td>\n",
              "      <td>False</td>\n",
              "      <td>False</td>\n",
              "      <td>False</td>\n",
              "      <td>True</td>\n",
              "    </tr>\n",
              "    <tr>\n",
              "      <th>2</th>\n",
              "      <td>Unemployment</td>\n",
              "      <td>The performance of the Prime Minister</td>\n",
              "      <td>0</td>\n",
              "      <td>4</td>\n",
              "      <td>Yes</td>\n",
              "      <td>No</td>\n",
              "      <td>0</td>\n",
              "      <td>3.0</td>\n",
              "      <td>2</td>\n",
              "      <td>0</td>\n",
              "      <td>...</td>\n",
              "      <td>True</td>\n",
              "      <td>False</td>\n",
              "      <td>False</td>\n",
              "      <td>False</td>\n",
              "      <td>False</td>\n",
              "      <td>True</td>\n",
              "      <td>False</td>\n",
              "      <td>True</td>\n",
              "      <td>False</td>\n",
              "      <td>False</td>\n",
              "    </tr>\n",
              "    <tr>\n",
              "      <th>3</th>\n",
              "      <td>Farmer distress</td>\n",
              "      <td>The performance of the candidate/MP.</td>\n",
              "      <td>0</td>\n",
              "      <td>1</td>\n",
              "      <td>No</td>\n",
              "      <td>No</td>\n",
              "      <td>0</td>\n",
              "      <td>4.0</td>\n",
              "      <td>0</td>\n",
              "      <td>0</td>\n",
              "      <td>...</td>\n",
              "      <td>False</td>\n",
              "      <td>False</td>\n",
              "      <td>False</td>\n",
              "      <td>False</td>\n",
              "      <td>False</td>\n",
              "      <td>False</td>\n",
              "      <td>True</td>\n",
              "      <td>False</td>\n",
              "      <td>False</td>\n",
              "      <td>True</td>\n",
              "    </tr>\n",
              "    <tr>\n",
              "      <th>5</th>\n",
              "      <td>Discrimination against women, Crimes against w...</td>\n",
              "      <td>The performance of the candidate/MP.</td>\n",
              "      <td>1</td>\n",
              "      <td>4</td>\n",
              "      <td>Yes</td>\n",
              "      <td>Yes</td>\n",
              "      <td>1</td>\n",
              "      <td>NaN</td>\n",
              "      <td>2</td>\n",
              "      <td>0</td>\n",
              "      <td>...</td>\n",
              "      <td>False</td>\n",
              "      <td>False</td>\n",
              "      <td>True</td>\n",
              "      <td>False</td>\n",
              "      <td>False</td>\n",
              "      <td>False</td>\n",
              "      <td>False</td>\n",
              "      <td>False</td>\n",
              "      <td>True</td>\n",
              "      <td>False</td>\n",
              "    </tr>\n",
              "  </tbody>\n",
              "</table>\n",
              "<p>5 rows × 45 columns</p>\n",
              "</div>\n",
              "    <div class=\"colab-df-buttons\">\n",
              "\n",
              "  <div class=\"colab-df-container\">\n",
              "    <button class=\"colab-df-convert\" onclick=\"convertToInteractive('df-e7172df8-046a-4496-b8cf-4077b5bfb513')\"\n",
              "            title=\"Convert this dataframe to an interactive table.\"\n",
              "            style=\"display:none;\">\n",
              "\n",
              "  <svg xmlns=\"http://www.w3.org/2000/svg\" height=\"24px\" viewBox=\"0 -960 960 960\">\n",
              "    <path d=\"M120-120v-720h720v720H120Zm60-500h600v-160H180v160Zm220 220h160v-160H400v160Zm0 220h160v-160H400v160ZM180-400h160v-160H180v160Zm440 0h160v-160H620v160ZM180-180h160v-160H180v160Zm440 0h160v-160H620v160Z\"/>\n",
              "  </svg>\n",
              "    </button>\n",
              "\n",
              "  <style>\n",
              "    .colab-df-container {\n",
              "      display:flex;\n",
              "      gap: 12px;\n",
              "    }\n",
              "\n",
              "    .colab-df-convert {\n",
              "      background-color: #E8F0FE;\n",
              "      border: none;\n",
              "      border-radius: 50%;\n",
              "      cursor: pointer;\n",
              "      display: none;\n",
              "      fill: #1967D2;\n",
              "      height: 32px;\n",
              "      padding: 0 0 0 0;\n",
              "      width: 32px;\n",
              "    }\n",
              "\n",
              "    .colab-df-convert:hover {\n",
              "      background-color: #E2EBFA;\n",
              "      box-shadow: 0px 1px 2px rgba(60, 64, 67, 0.3), 0px 1px 3px 1px rgba(60, 64, 67, 0.15);\n",
              "      fill: #174EA6;\n",
              "    }\n",
              "\n",
              "    .colab-df-buttons div {\n",
              "      margin-bottom: 4px;\n",
              "    }\n",
              "\n",
              "    [theme=dark] .colab-df-convert {\n",
              "      background-color: #3B4455;\n",
              "      fill: #D2E3FC;\n",
              "    }\n",
              "\n",
              "    [theme=dark] .colab-df-convert:hover {\n",
              "      background-color: #434B5C;\n",
              "      box-shadow: 0px 1px 3px 1px rgba(0, 0, 0, 0.15);\n",
              "      filter: drop-shadow(0px 1px 2px rgba(0, 0, 0, 0.3));\n",
              "      fill: #FFFFFF;\n",
              "    }\n",
              "  </style>\n",
              "\n",
              "    <script>\n",
              "      const buttonEl =\n",
              "        document.querySelector('#df-e7172df8-046a-4496-b8cf-4077b5bfb513 button.colab-df-convert');\n",
              "      buttonEl.style.display =\n",
              "        google.colab.kernel.accessAllowed ? 'block' : 'none';\n",
              "\n",
              "      async function convertToInteractive(key) {\n",
              "        const element = document.querySelector('#df-e7172df8-046a-4496-b8cf-4077b5bfb513');\n",
              "        const dataTable =\n",
              "          await google.colab.kernel.invokeFunction('convertToInteractive',\n",
              "                                                    [key], {});\n",
              "        if (!dataTable) return;\n",
              "\n",
              "        const docLinkHtml = 'Like what you see? Visit the ' +\n",
              "          '<a target=\"_blank\" href=https://colab.research.google.com/notebooks/data_table.ipynb>data table notebook</a>'\n",
              "          + ' to learn more about interactive tables.';\n",
              "        element.innerHTML = '';\n",
              "        dataTable['output_type'] = 'display_data';\n",
              "        await google.colab.output.renderOutput(dataTable, element);\n",
              "        const docLink = document.createElement('div');\n",
              "        docLink.innerHTML = docLinkHtml;\n",
              "        element.appendChild(docLink);\n",
              "      }\n",
              "    </script>\n",
              "  </div>\n",
              "\n",
              "\n",
              "<div id=\"df-0cb40b65-85e0-4982-b253-f7f6c453dc96\">\n",
              "  <button class=\"colab-df-quickchart\" onclick=\"quickchart('df-0cb40b65-85e0-4982-b253-f7f6c453dc96')\"\n",
              "            title=\"Suggest charts\"\n",
              "            style=\"display:none;\">\n",
              "\n",
              "<svg xmlns=\"http://www.w3.org/2000/svg\" height=\"24px\"viewBox=\"0 0 24 24\"\n",
              "     width=\"24px\">\n",
              "    <g>\n",
              "        <path d=\"M19 3H5c-1.1 0-2 .9-2 2v14c0 1.1.9 2 2 2h14c1.1 0 2-.9 2-2V5c0-1.1-.9-2-2-2zM9 17H7v-7h2v7zm4 0h-2V7h2v10zm4 0h-2v-4h2v4z\"/>\n",
              "    </g>\n",
              "</svg>\n",
              "  </button>\n",
              "\n",
              "<style>\n",
              "  .colab-df-quickchart {\n",
              "      --bg-color: #E8F0FE;\n",
              "      --fill-color: #1967D2;\n",
              "      --hover-bg-color: #E2EBFA;\n",
              "      --hover-fill-color: #174EA6;\n",
              "      --disabled-fill-color: #AAA;\n",
              "      --disabled-bg-color: #DDD;\n",
              "  }\n",
              "\n",
              "  [theme=dark] .colab-df-quickchart {\n",
              "      --bg-color: #3B4455;\n",
              "      --fill-color: #D2E3FC;\n",
              "      --hover-bg-color: #434B5C;\n",
              "      --hover-fill-color: #FFFFFF;\n",
              "      --disabled-bg-color: #3B4455;\n",
              "      --disabled-fill-color: #666;\n",
              "  }\n",
              "\n",
              "  .colab-df-quickchart {\n",
              "    background-color: var(--bg-color);\n",
              "    border: none;\n",
              "    border-radius: 50%;\n",
              "    cursor: pointer;\n",
              "    display: none;\n",
              "    fill: var(--fill-color);\n",
              "    height: 32px;\n",
              "    padding: 0;\n",
              "    width: 32px;\n",
              "  }\n",
              "\n",
              "  .colab-df-quickchart:hover {\n",
              "    background-color: var(--hover-bg-color);\n",
              "    box-shadow: 0 1px 2px rgba(60, 64, 67, 0.3), 0 1px 3px 1px rgba(60, 64, 67, 0.15);\n",
              "    fill: var(--button-hover-fill-color);\n",
              "  }\n",
              "\n",
              "  .colab-df-quickchart-complete:disabled,\n",
              "  .colab-df-quickchart-complete:disabled:hover {\n",
              "    background-color: var(--disabled-bg-color);\n",
              "    fill: var(--disabled-fill-color);\n",
              "    box-shadow: none;\n",
              "  }\n",
              "\n",
              "  .colab-df-spinner {\n",
              "    border: 2px solid var(--fill-color);\n",
              "    border-color: transparent;\n",
              "    border-bottom-color: var(--fill-color);\n",
              "    animation:\n",
              "      spin 1s steps(1) infinite;\n",
              "  }\n",
              "\n",
              "  @keyframes spin {\n",
              "    0% {\n",
              "      border-color: transparent;\n",
              "      border-bottom-color: var(--fill-color);\n",
              "      border-left-color: var(--fill-color);\n",
              "    }\n",
              "    20% {\n",
              "      border-color: transparent;\n",
              "      border-left-color: var(--fill-color);\n",
              "      border-top-color: var(--fill-color);\n",
              "    }\n",
              "    30% {\n",
              "      border-color: transparent;\n",
              "      border-left-color: var(--fill-color);\n",
              "      border-top-color: var(--fill-color);\n",
              "      border-right-color: var(--fill-color);\n",
              "    }\n",
              "    40% {\n",
              "      border-color: transparent;\n",
              "      border-right-color: var(--fill-color);\n",
              "      border-top-color: var(--fill-color);\n",
              "    }\n",
              "    60% {\n",
              "      border-color: transparent;\n",
              "      border-right-color: var(--fill-color);\n",
              "    }\n",
              "    80% {\n",
              "      border-color: transparent;\n",
              "      border-right-color: var(--fill-color);\n",
              "      border-bottom-color: var(--fill-color);\n",
              "    }\n",
              "    90% {\n",
              "      border-color: transparent;\n",
              "      border-bottom-color: var(--fill-color);\n",
              "    }\n",
              "  }\n",
              "</style>\n",
              "\n",
              "  <script>\n",
              "    async function quickchart(key) {\n",
              "      const quickchartButtonEl =\n",
              "        document.querySelector('#' + key + ' button');\n",
              "      quickchartButtonEl.disabled = true;  // To prevent multiple clicks.\n",
              "      quickchartButtonEl.classList.add('colab-df-spinner');\n",
              "      try {\n",
              "        const charts = await google.colab.kernel.invokeFunction(\n",
              "            'suggestCharts', [key], {});\n",
              "      } catch (error) {\n",
              "        console.error('Error during call to suggestCharts:', error);\n",
              "      }\n",
              "      quickchartButtonEl.classList.remove('colab-df-spinner');\n",
              "      quickchartButtonEl.classList.add('colab-df-quickchart-complete');\n",
              "    }\n",
              "    (() => {\n",
              "      let quickchartButtonEl =\n",
              "        document.querySelector('#df-0cb40b65-85e0-4982-b253-f7f6c453dc96 button');\n",
              "      quickchartButtonEl.style.display =\n",
              "        google.colab.kernel.accessAllowed ? 'block' : 'none';\n",
              "    })();\n",
              "  </script>\n",
              "</div>\n",
              "\n",
              "    </div>\n",
              "  </div>\n"
            ],
            "application/vnd.google.colaboratory.intrinsic+json": {
              "type": "dataframe",
              "variable_name": "df"
            }
          },
          "metadata": {},
          "execution_count": 194
        }
      ]
    },
    {
      "cell_type": "code",
      "source": [
        "##encoding current gov\n",
        "df['current Govt. Satisfaction'].unique()"
      ],
      "metadata": {
        "colab": {
          "base_uri": "https://localhost:8080/"
        },
        "id": "-vATaXklRxNt",
        "outputId": "f204412b-d3f6-44f6-adf4-c0855ed76173"
      },
      "execution_count": 195,
      "outputs": [
        {
          "output_type": "execute_result",
          "data": {
            "text/plain": [
              "array(['Yes', 'No'], dtype=object)"
            ]
          },
          "metadata": {},
          "execution_count": 195
        }
      ]
    },
    {
      "cell_type": "code",
      "source": [
        "df['current Govt. Satisfaction'] = df['current Govt. Satisfaction'].replace({'Yes': 1, 'No': 0})\n"
      ],
      "metadata": {
        "id": "BJxNgQt5RxQL"
      },
      "execution_count": 196,
      "outputs": []
    },
    {
      "cell_type": "code",
      "source": [
        "##encoding reelct govt\n",
        "df['re_elect govt'].unique()"
      ],
      "metadata": {
        "colab": {
          "base_uri": "https://localhost:8080/"
        },
        "id": "HhZJzzukRxS_",
        "outputId": "7a211d4d-83a2-4e27-ad43-b36c1abbf26a"
      },
      "execution_count": 197,
      "outputs": [
        {
          "output_type": "execute_result",
          "data": {
            "text/plain": [
              "array(['Yes', 'No'], dtype=object)"
            ]
          },
          "metadata": {},
          "execution_count": 197
        }
      ]
    },
    {
      "cell_type": "code",
      "source": [
        "df['re_elect govt'] = df['re_elect govt'].replace({'Yes': 1, 'No': 0})\n"
      ],
      "metadata": {
        "id": "Nx73B6P0WUnw"
      },
      "execution_count": 198,
      "outputs": []
    },
    {
      "cell_type": "code",
      "source": [
        "df = df.replace({True: 1, False: 0})\n"
      ],
      "metadata": {
        "id": "1a2IzjKdW_Co"
      },
      "execution_count": 199,
      "outputs": []
    },
    {
      "cell_type": "code",
      "source": [
        "df.head()"
      ],
      "metadata": {
        "colab": {
          "base_uri": "https://localhost:8080/",
          "height": 567
        },
        "id": "9frP64moVGlF",
        "outputId": "c7ea1abd-083a-47dc-fa69-65c4f18077f1"
      },
      "execution_count": 200,
      "outputs": [
        {
          "output_type": "execute_result",
          "data": {
            "text/plain": [
              "                                           imp_issue  \\\n",
              "0                                          Can't Say   \n",
              "1                              Price rise /inflation   \n",
              "2                                       Unemployment   \n",
              "3                                    Farmer distress   \n",
              "5  Discrimination against women, Crimes against w...   \n",
              "\n",
              "                       Voting Priorities  MP Satisfaction?  \\\n",
              "0    The performance the political party                 0   \n",
              "1   The performance of the candidate/MP.                 0   \n",
              "2  The performance of the Prime Minister                 0   \n",
              "3   The performance of the candidate/MP.                 0   \n",
              "5   The performance of the candidate/MP.                 1   \n",
              "\n",
              "   MP Performance Rating  current Govt. Satisfaction  re_elect govt  \\\n",
              "0                      4                           1              1   \n",
              "1                      2                           1              1   \n",
              "2                      4                           1              0   \n",
              "3                      1                           0              0   \n",
              "5                      4                           1              1   \n",
              "\n",
              "   Gender_male  Age  Educational Qualification   Occupation_Employed (Govt.)  \\\n",
              "0            1  1.0                          5                             0   \n",
              "1            1  1.0                          4                             0   \n",
              "2            0  3.0                          2                             0   \n",
              "3            0  4.0                          0                             0   \n",
              "5            1  NaN                          2                             0   \n",
              "\n",
              "   ...  strg_india  strg_nda  vote_aap  vote_bjp  vote_congress  vote_india  \\\n",
              "0  ...           0         0         0         0              0           0   \n",
              "1  ...           0         0         0         0              1           0   \n",
              "2  ...           1         0         0         0              0           1   \n",
              "3  ...           0         0         0         0              0           0   \n",
              "5  ...           0         0         1         0              0           0   \n",
              "\n",
              "   vote_nda  electn_isuues  other  leader  \n",
              "0         1              1      0       0  \n",
              "1         0              0      0       1  \n",
              "2         0              1      0       0  \n",
              "3         1              0      0       1  \n",
              "5         0              0      1       0  \n",
              "\n",
              "[5 rows x 45 columns]"
            ],
            "text/html": [
              "\n",
              "  <div id=\"df-fd106dbb-1568-45a3-ae66-5fb0332b1654\" class=\"colab-df-container\">\n",
              "    <div>\n",
              "<style scoped>\n",
              "    .dataframe tbody tr th:only-of-type {\n",
              "        vertical-align: middle;\n",
              "    }\n",
              "\n",
              "    .dataframe tbody tr th {\n",
              "        vertical-align: top;\n",
              "    }\n",
              "\n",
              "    .dataframe thead th {\n",
              "        text-align: right;\n",
              "    }\n",
              "</style>\n",
              "<table border=\"1\" class=\"dataframe\">\n",
              "  <thead>\n",
              "    <tr style=\"text-align: right;\">\n",
              "      <th></th>\n",
              "      <th>imp_issue</th>\n",
              "      <th>Voting Priorities</th>\n",
              "      <th>MP Satisfaction?</th>\n",
              "      <th>MP Performance Rating</th>\n",
              "      <th>current Govt. Satisfaction</th>\n",
              "      <th>re_elect govt</th>\n",
              "      <th>Gender_male</th>\n",
              "      <th>Age</th>\n",
              "      <th>Educational Qualification</th>\n",
              "      <th>Occupation_Employed (Govt.)</th>\n",
              "      <th>...</th>\n",
              "      <th>strg_india</th>\n",
              "      <th>strg_nda</th>\n",
              "      <th>vote_aap</th>\n",
              "      <th>vote_bjp</th>\n",
              "      <th>vote_congress</th>\n",
              "      <th>vote_india</th>\n",
              "      <th>vote_nda</th>\n",
              "      <th>electn_isuues</th>\n",
              "      <th>other</th>\n",
              "      <th>leader</th>\n",
              "    </tr>\n",
              "  </thead>\n",
              "  <tbody>\n",
              "    <tr>\n",
              "      <th>0</th>\n",
              "      <td>Can't Say</td>\n",
              "      <td>The performance the political party</td>\n",
              "      <td>0</td>\n",
              "      <td>4</td>\n",
              "      <td>1</td>\n",
              "      <td>1</td>\n",
              "      <td>1</td>\n",
              "      <td>1.0</td>\n",
              "      <td>5</td>\n",
              "      <td>0</td>\n",
              "      <td>...</td>\n",
              "      <td>0</td>\n",
              "      <td>0</td>\n",
              "      <td>0</td>\n",
              "      <td>0</td>\n",
              "      <td>0</td>\n",
              "      <td>0</td>\n",
              "      <td>1</td>\n",
              "      <td>1</td>\n",
              "      <td>0</td>\n",
              "      <td>0</td>\n",
              "    </tr>\n",
              "    <tr>\n",
              "      <th>1</th>\n",
              "      <td>Price rise /inflation</td>\n",
              "      <td>The performance of the candidate/MP.</td>\n",
              "      <td>0</td>\n",
              "      <td>2</td>\n",
              "      <td>1</td>\n",
              "      <td>1</td>\n",
              "      <td>1</td>\n",
              "      <td>1.0</td>\n",
              "      <td>4</td>\n",
              "      <td>0</td>\n",
              "      <td>...</td>\n",
              "      <td>0</td>\n",
              "      <td>0</td>\n",
              "      <td>0</td>\n",
              "      <td>0</td>\n",
              "      <td>1</td>\n",
              "      <td>0</td>\n",
              "      <td>0</td>\n",
              "      <td>0</td>\n",
              "      <td>0</td>\n",
              "      <td>1</td>\n",
              "    </tr>\n",
              "    <tr>\n",
              "      <th>2</th>\n",
              "      <td>Unemployment</td>\n",
              "      <td>The performance of the Prime Minister</td>\n",
              "      <td>0</td>\n",
              "      <td>4</td>\n",
              "      <td>1</td>\n",
              "      <td>0</td>\n",
              "      <td>0</td>\n",
              "      <td>3.0</td>\n",
              "      <td>2</td>\n",
              "      <td>0</td>\n",
              "      <td>...</td>\n",
              "      <td>1</td>\n",
              "      <td>0</td>\n",
              "      <td>0</td>\n",
              "      <td>0</td>\n",
              "      <td>0</td>\n",
              "      <td>1</td>\n",
              "      <td>0</td>\n",
              "      <td>1</td>\n",
              "      <td>0</td>\n",
              "      <td>0</td>\n",
              "    </tr>\n",
              "    <tr>\n",
              "      <th>3</th>\n",
              "      <td>Farmer distress</td>\n",
              "      <td>The performance of the candidate/MP.</td>\n",
              "      <td>0</td>\n",
              "      <td>1</td>\n",
              "      <td>0</td>\n",
              "      <td>0</td>\n",
              "      <td>0</td>\n",
              "      <td>4.0</td>\n",
              "      <td>0</td>\n",
              "      <td>0</td>\n",
              "      <td>...</td>\n",
              "      <td>0</td>\n",
              "      <td>0</td>\n",
              "      <td>0</td>\n",
              "      <td>0</td>\n",
              "      <td>0</td>\n",
              "      <td>0</td>\n",
              "      <td>1</td>\n",
              "      <td>0</td>\n",
              "      <td>0</td>\n",
              "      <td>1</td>\n",
              "    </tr>\n",
              "    <tr>\n",
              "      <th>5</th>\n",
              "      <td>Discrimination against women, Crimes against w...</td>\n",
              "      <td>The performance of the candidate/MP.</td>\n",
              "      <td>1</td>\n",
              "      <td>4</td>\n",
              "      <td>1</td>\n",
              "      <td>1</td>\n",
              "      <td>1</td>\n",
              "      <td>NaN</td>\n",
              "      <td>2</td>\n",
              "      <td>0</td>\n",
              "      <td>...</td>\n",
              "      <td>0</td>\n",
              "      <td>0</td>\n",
              "      <td>1</td>\n",
              "      <td>0</td>\n",
              "      <td>0</td>\n",
              "      <td>0</td>\n",
              "      <td>0</td>\n",
              "      <td>0</td>\n",
              "      <td>1</td>\n",
              "      <td>0</td>\n",
              "    </tr>\n",
              "  </tbody>\n",
              "</table>\n",
              "<p>5 rows × 45 columns</p>\n",
              "</div>\n",
              "    <div class=\"colab-df-buttons\">\n",
              "\n",
              "  <div class=\"colab-df-container\">\n",
              "    <button class=\"colab-df-convert\" onclick=\"convertToInteractive('df-fd106dbb-1568-45a3-ae66-5fb0332b1654')\"\n",
              "            title=\"Convert this dataframe to an interactive table.\"\n",
              "            style=\"display:none;\">\n",
              "\n",
              "  <svg xmlns=\"http://www.w3.org/2000/svg\" height=\"24px\" viewBox=\"0 -960 960 960\">\n",
              "    <path d=\"M120-120v-720h720v720H120Zm60-500h600v-160H180v160Zm220 220h160v-160H400v160Zm0 220h160v-160H400v160ZM180-400h160v-160H180v160Zm440 0h160v-160H620v160ZM180-180h160v-160H180v160Zm440 0h160v-160H620v160Z\"/>\n",
              "  </svg>\n",
              "    </button>\n",
              "\n",
              "  <style>\n",
              "    .colab-df-container {\n",
              "      display:flex;\n",
              "      gap: 12px;\n",
              "    }\n",
              "\n",
              "    .colab-df-convert {\n",
              "      background-color: #E8F0FE;\n",
              "      border: none;\n",
              "      border-radius: 50%;\n",
              "      cursor: pointer;\n",
              "      display: none;\n",
              "      fill: #1967D2;\n",
              "      height: 32px;\n",
              "      padding: 0 0 0 0;\n",
              "      width: 32px;\n",
              "    }\n",
              "\n",
              "    .colab-df-convert:hover {\n",
              "      background-color: #E2EBFA;\n",
              "      box-shadow: 0px 1px 2px rgba(60, 64, 67, 0.3), 0px 1px 3px 1px rgba(60, 64, 67, 0.15);\n",
              "      fill: #174EA6;\n",
              "    }\n",
              "\n",
              "    .colab-df-buttons div {\n",
              "      margin-bottom: 4px;\n",
              "    }\n",
              "\n",
              "    [theme=dark] .colab-df-convert {\n",
              "      background-color: #3B4455;\n",
              "      fill: #D2E3FC;\n",
              "    }\n",
              "\n",
              "    [theme=dark] .colab-df-convert:hover {\n",
              "      background-color: #434B5C;\n",
              "      box-shadow: 0px 1px 3px 1px rgba(0, 0, 0, 0.15);\n",
              "      filter: drop-shadow(0px 1px 2px rgba(0, 0, 0, 0.3));\n",
              "      fill: #FFFFFF;\n",
              "    }\n",
              "  </style>\n",
              "\n",
              "    <script>\n",
              "      const buttonEl =\n",
              "        document.querySelector('#df-fd106dbb-1568-45a3-ae66-5fb0332b1654 button.colab-df-convert');\n",
              "      buttonEl.style.display =\n",
              "        google.colab.kernel.accessAllowed ? 'block' : 'none';\n",
              "\n",
              "      async function convertToInteractive(key) {\n",
              "        const element = document.querySelector('#df-fd106dbb-1568-45a3-ae66-5fb0332b1654');\n",
              "        const dataTable =\n",
              "          await google.colab.kernel.invokeFunction('convertToInteractive',\n",
              "                                                    [key], {});\n",
              "        if (!dataTable) return;\n",
              "\n",
              "        const docLinkHtml = 'Like what you see? Visit the ' +\n",
              "          '<a target=\"_blank\" href=https://colab.research.google.com/notebooks/data_table.ipynb>data table notebook</a>'\n",
              "          + ' to learn more about interactive tables.';\n",
              "        element.innerHTML = '';\n",
              "        dataTable['output_type'] = 'display_data';\n",
              "        await google.colab.output.renderOutput(dataTable, element);\n",
              "        const docLink = document.createElement('div');\n",
              "        docLink.innerHTML = docLinkHtml;\n",
              "        element.appendChild(docLink);\n",
              "      }\n",
              "    </script>\n",
              "  </div>\n",
              "\n",
              "\n",
              "<div id=\"df-270a9d7b-aea8-40e4-8b33-86459ddf1fda\">\n",
              "  <button class=\"colab-df-quickchart\" onclick=\"quickchart('df-270a9d7b-aea8-40e4-8b33-86459ddf1fda')\"\n",
              "            title=\"Suggest charts\"\n",
              "            style=\"display:none;\">\n",
              "\n",
              "<svg xmlns=\"http://www.w3.org/2000/svg\" height=\"24px\"viewBox=\"0 0 24 24\"\n",
              "     width=\"24px\">\n",
              "    <g>\n",
              "        <path d=\"M19 3H5c-1.1 0-2 .9-2 2v14c0 1.1.9 2 2 2h14c1.1 0 2-.9 2-2V5c0-1.1-.9-2-2-2zM9 17H7v-7h2v7zm4 0h-2V7h2v10zm4 0h-2v-4h2v4z\"/>\n",
              "    </g>\n",
              "</svg>\n",
              "  </button>\n",
              "\n",
              "<style>\n",
              "  .colab-df-quickchart {\n",
              "      --bg-color: #E8F0FE;\n",
              "      --fill-color: #1967D2;\n",
              "      --hover-bg-color: #E2EBFA;\n",
              "      --hover-fill-color: #174EA6;\n",
              "      --disabled-fill-color: #AAA;\n",
              "      --disabled-bg-color: #DDD;\n",
              "  }\n",
              "\n",
              "  [theme=dark] .colab-df-quickchart {\n",
              "      --bg-color: #3B4455;\n",
              "      --fill-color: #D2E3FC;\n",
              "      --hover-bg-color: #434B5C;\n",
              "      --hover-fill-color: #FFFFFF;\n",
              "      --disabled-bg-color: #3B4455;\n",
              "      --disabled-fill-color: #666;\n",
              "  }\n",
              "\n",
              "  .colab-df-quickchart {\n",
              "    background-color: var(--bg-color);\n",
              "    border: none;\n",
              "    border-radius: 50%;\n",
              "    cursor: pointer;\n",
              "    display: none;\n",
              "    fill: var(--fill-color);\n",
              "    height: 32px;\n",
              "    padding: 0;\n",
              "    width: 32px;\n",
              "  }\n",
              "\n",
              "  .colab-df-quickchart:hover {\n",
              "    background-color: var(--hover-bg-color);\n",
              "    box-shadow: 0 1px 2px rgba(60, 64, 67, 0.3), 0 1px 3px 1px rgba(60, 64, 67, 0.15);\n",
              "    fill: var(--button-hover-fill-color);\n",
              "  }\n",
              "\n",
              "  .colab-df-quickchart-complete:disabled,\n",
              "  .colab-df-quickchart-complete:disabled:hover {\n",
              "    background-color: var(--disabled-bg-color);\n",
              "    fill: var(--disabled-fill-color);\n",
              "    box-shadow: none;\n",
              "  }\n",
              "\n",
              "  .colab-df-spinner {\n",
              "    border: 2px solid var(--fill-color);\n",
              "    border-color: transparent;\n",
              "    border-bottom-color: var(--fill-color);\n",
              "    animation:\n",
              "      spin 1s steps(1) infinite;\n",
              "  }\n",
              "\n",
              "  @keyframes spin {\n",
              "    0% {\n",
              "      border-color: transparent;\n",
              "      border-bottom-color: var(--fill-color);\n",
              "      border-left-color: var(--fill-color);\n",
              "    }\n",
              "    20% {\n",
              "      border-color: transparent;\n",
              "      border-left-color: var(--fill-color);\n",
              "      border-top-color: var(--fill-color);\n",
              "    }\n",
              "    30% {\n",
              "      border-color: transparent;\n",
              "      border-left-color: var(--fill-color);\n",
              "      border-top-color: var(--fill-color);\n",
              "      border-right-color: var(--fill-color);\n",
              "    }\n",
              "    40% {\n",
              "      border-color: transparent;\n",
              "      border-right-color: var(--fill-color);\n",
              "      border-top-color: var(--fill-color);\n",
              "    }\n",
              "    60% {\n",
              "      border-color: transparent;\n",
              "      border-right-color: var(--fill-color);\n",
              "    }\n",
              "    80% {\n",
              "      border-color: transparent;\n",
              "      border-right-color: var(--fill-color);\n",
              "      border-bottom-color: var(--fill-color);\n",
              "    }\n",
              "    90% {\n",
              "      border-color: transparent;\n",
              "      border-bottom-color: var(--fill-color);\n",
              "    }\n",
              "  }\n",
              "</style>\n",
              "\n",
              "  <script>\n",
              "    async function quickchart(key) {\n",
              "      const quickchartButtonEl =\n",
              "        document.querySelector('#' + key + ' button');\n",
              "      quickchartButtonEl.disabled = true;  // To prevent multiple clicks.\n",
              "      quickchartButtonEl.classList.add('colab-df-spinner');\n",
              "      try {\n",
              "        const charts = await google.colab.kernel.invokeFunction(\n",
              "            'suggestCharts', [key], {});\n",
              "      } catch (error) {\n",
              "        console.error('Error during call to suggestCharts:', error);\n",
              "      }\n",
              "      quickchartButtonEl.classList.remove('colab-df-spinner');\n",
              "      quickchartButtonEl.classList.add('colab-df-quickchart-complete');\n",
              "    }\n",
              "    (() => {\n",
              "      let quickchartButtonEl =\n",
              "        document.querySelector('#df-270a9d7b-aea8-40e4-8b33-86459ddf1fda button');\n",
              "      quickchartButtonEl.style.display =\n",
              "        google.colab.kernel.accessAllowed ? 'block' : 'none';\n",
              "    })();\n",
              "  </script>\n",
              "</div>\n",
              "\n",
              "    </div>\n",
              "  </div>\n"
            ],
            "application/vnd.google.colaboratory.intrinsic+json": {
              "type": "dataframe",
              "variable_name": "df"
            }
          },
          "metadata": {},
          "execution_count": 200
        }
      ]
    },
    {
      "cell_type": "markdown",
      "source": [
        "df is main file, now creating new  [dr2], dataset w/o 2 column (categorical)"
      ],
      "metadata": {
        "id": "PtGhXgMdXN3a"
      }
    },
    {
      "cell_type": "code",
      "source": [
        "df2=df.drop(columns=['imp_issue','Voting Priorities'])\n",
        "df2.head()"
      ],
      "metadata": {
        "colab": {
          "base_uri": "https://localhost:8080/",
          "height": 290
        },
        "id": "8OEwxIlQXdV6",
        "outputId": "efa1d0ce-a112-4214-dc96-dc362de7ffee"
      },
      "execution_count": 201,
      "outputs": [
        {
          "output_type": "execute_result",
          "data": {
            "text/plain": [
              "   MP Satisfaction?  MP Performance Rating  current Govt. Satisfaction  \\\n",
              "0                 0                      4                           1   \n",
              "1                 0                      2                           1   \n",
              "2                 0                      4                           1   \n",
              "3                 0                      1                           0   \n",
              "5                 1                      4                           1   \n",
              "\n",
              "   re_elect govt  Gender_male  Age  Educational Qualification  \\\n",
              "0              1            1  1.0                          5   \n",
              "1              1            1  1.0                          4   \n",
              "2              0            0  3.0                          2   \n",
              "3              0            0  4.0                          0   \n",
              "5              1            1  NaN                          2   \n",
              "\n",
              "    Occupation_Employed (Govt.)   Occupation_Farmer   Occupation_Homemaker  \\\n",
              "0                             0                   0                      0   \n",
              "1                             0                   0                      0   \n",
              "2                             0                   0                      0   \n",
              "3                             0                   1                      0   \n",
              "5                             0                   0                      0   \n",
              "\n",
              "   ...  strg_india  strg_nda  vote_aap  vote_bjp  vote_congress  vote_india  \\\n",
              "0  ...           0         0         0         0              0           0   \n",
              "1  ...           0         0         0         0              1           0   \n",
              "2  ...           1         0         0         0              0           1   \n",
              "3  ...           0         0         0         0              0           0   \n",
              "5  ...           0         0         1         0              0           0   \n",
              "\n",
              "   vote_nda  electn_isuues  other  leader  \n",
              "0         1              1      0       0  \n",
              "1         0              0      0       1  \n",
              "2         0              1      0       0  \n",
              "3         1              0      0       1  \n",
              "5         0              0      1       0  \n",
              "\n",
              "[5 rows x 43 columns]"
            ],
            "text/html": [
              "\n",
              "  <div id=\"df-289dc813-981e-4098-be3d-b264ca3ef943\" class=\"colab-df-container\">\n",
              "    <div>\n",
              "<style scoped>\n",
              "    .dataframe tbody tr th:only-of-type {\n",
              "        vertical-align: middle;\n",
              "    }\n",
              "\n",
              "    .dataframe tbody tr th {\n",
              "        vertical-align: top;\n",
              "    }\n",
              "\n",
              "    .dataframe thead th {\n",
              "        text-align: right;\n",
              "    }\n",
              "</style>\n",
              "<table border=\"1\" class=\"dataframe\">\n",
              "  <thead>\n",
              "    <tr style=\"text-align: right;\">\n",
              "      <th></th>\n",
              "      <th>MP Satisfaction?</th>\n",
              "      <th>MP Performance Rating</th>\n",
              "      <th>current Govt. Satisfaction</th>\n",
              "      <th>re_elect govt</th>\n",
              "      <th>Gender_male</th>\n",
              "      <th>Age</th>\n",
              "      <th>Educational Qualification</th>\n",
              "      <th>Occupation_Employed (Govt.)</th>\n",
              "      <th>Occupation_Farmer</th>\n",
              "      <th>Occupation_Homemaker</th>\n",
              "      <th>...</th>\n",
              "      <th>strg_india</th>\n",
              "      <th>strg_nda</th>\n",
              "      <th>vote_aap</th>\n",
              "      <th>vote_bjp</th>\n",
              "      <th>vote_congress</th>\n",
              "      <th>vote_india</th>\n",
              "      <th>vote_nda</th>\n",
              "      <th>electn_isuues</th>\n",
              "      <th>other</th>\n",
              "      <th>leader</th>\n",
              "    </tr>\n",
              "  </thead>\n",
              "  <tbody>\n",
              "    <tr>\n",
              "      <th>0</th>\n",
              "      <td>0</td>\n",
              "      <td>4</td>\n",
              "      <td>1</td>\n",
              "      <td>1</td>\n",
              "      <td>1</td>\n",
              "      <td>1.0</td>\n",
              "      <td>5</td>\n",
              "      <td>0</td>\n",
              "      <td>0</td>\n",
              "      <td>0</td>\n",
              "      <td>...</td>\n",
              "      <td>0</td>\n",
              "      <td>0</td>\n",
              "      <td>0</td>\n",
              "      <td>0</td>\n",
              "      <td>0</td>\n",
              "      <td>0</td>\n",
              "      <td>1</td>\n",
              "      <td>1</td>\n",
              "      <td>0</td>\n",
              "      <td>0</td>\n",
              "    </tr>\n",
              "    <tr>\n",
              "      <th>1</th>\n",
              "      <td>0</td>\n",
              "      <td>2</td>\n",
              "      <td>1</td>\n",
              "      <td>1</td>\n",
              "      <td>1</td>\n",
              "      <td>1.0</td>\n",
              "      <td>4</td>\n",
              "      <td>0</td>\n",
              "      <td>0</td>\n",
              "      <td>0</td>\n",
              "      <td>...</td>\n",
              "      <td>0</td>\n",
              "      <td>0</td>\n",
              "      <td>0</td>\n",
              "      <td>0</td>\n",
              "      <td>1</td>\n",
              "      <td>0</td>\n",
              "      <td>0</td>\n",
              "      <td>0</td>\n",
              "      <td>0</td>\n",
              "      <td>1</td>\n",
              "    </tr>\n",
              "    <tr>\n",
              "      <th>2</th>\n",
              "      <td>0</td>\n",
              "      <td>4</td>\n",
              "      <td>1</td>\n",
              "      <td>0</td>\n",
              "      <td>0</td>\n",
              "      <td>3.0</td>\n",
              "      <td>2</td>\n",
              "      <td>0</td>\n",
              "      <td>0</td>\n",
              "      <td>0</td>\n",
              "      <td>...</td>\n",
              "      <td>1</td>\n",
              "      <td>0</td>\n",
              "      <td>0</td>\n",
              "      <td>0</td>\n",
              "      <td>0</td>\n",
              "      <td>1</td>\n",
              "      <td>0</td>\n",
              "      <td>1</td>\n",
              "      <td>0</td>\n",
              "      <td>0</td>\n",
              "    </tr>\n",
              "    <tr>\n",
              "      <th>3</th>\n",
              "      <td>0</td>\n",
              "      <td>1</td>\n",
              "      <td>0</td>\n",
              "      <td>0</td>\n",
              "      <td>0</td>\n",
              "      <td>4.0</td>\n",
              "      <td>0</td>\n",
              "      <td>0</td>\n",
              "      <td>1</td>\n",
              "      <td>0</td>\n",
              "      <td>...</td>\n",
              "      <td>0</td>\n",
              "      <td>0</td>\n",
              "      <td>0</td>\n",
              "      <td>0</td>\n",
              "      <td>0</td>\n",
              "      <td>0</td>\n",
              "      <td>1</td>\n",
              "      <td>0</td>\n",
              "      <td>0</td>\n",
              "      <td>1</td>\n",
              "    </tr>\n",
              "    <tr>\n",
              "      <th>5</th>\n",
              "      <td>1</td>\n",
              "      <td>4</td>\n",
              "      <td>1</td>\n",
              "      <td>1</td>\n",
              "      <td>1</td>\n",
              "      <td>NaN</td>\n",
              "      <td>2</td>\n",
              "      <td>0</td>\n",
              "      <td>0</td>\n",
              "      <td>0</td>\n",
              "      <td>...</td>\n",
              "      <td>0</td>\n",
              "      <td>0</td>\n",
              "      <td>1</td>\n",
              "      <td>0</td>\n",
              "      <td>0</td>\n",
              "      <td>0</td>\n",
              "      <td>0</td>\n",
              "      <td>0</td>\n",
              "      <td>1</td>\n",
              "      <td>0</td>\n",
              "    </tr>\n",
              "  </tbody>\n",
              "</table>\n",
              "<p>5 rows × 43 columns</p>\n",
              "</div>\n",
              "    <div class=\"colab-df-buttons\">\n",
              "\n",
              "  <div class=\"colab-df-container\">\n",
              "    <button class=\"colab-df-convert\" onclick=\"convertToInteractive('df-289dc813-981e-4098-be3d-b264ca3ef943')\"\n",
              "            title=\"Convert this dataframe to an interactive table.\"\n",
              "            style=\"display:none;\">\n",
              "\n",
              "  <svg xmlns=\"http://www.w3.org/2000/svg\" height=\"24px\" viewBox=\"0 -960 960 960\">\n",
              "    <path d=\"M120-120v-720h720v720H120Zm60-500h600v-160H180v160Zm220 220h160v-160H400v160Zm0 220h160v-160H400v160ZM180-400h160v-160H180v160Zm440 0h160v-160H620v160ZM180-180h160v-160H180v160Zm440 0h160v-160H620v160Z\"/>\n",
              "  </svg>\n",
              "    </button>\n",
              "\n",
              "  <style>\n",
              "    .colab-df-container {\n",
              "      display:flex;\n",
              "      gap: 12px;\n",
              "    }\n",
              "\n",
              "    .colab-df-convert {\n",
              "      background-color: #E8F0FE;\n",
              "      border: none;\n",
              "      border-radius: 50%;\n",
              "      cursor: pointer;\n",
              "      display: none;\n",
              "      fill: #1967D2;\n",
              "      height: 32px;\n",
              "      padding: 0 0 0 0;\n",
              "      width: 32px;\n",
              "    }\n",
              "\n",
              "    .colab-df-convert:hover {\n",
              "      background-color: #E2EBFA;\n",
              "      box-shadow: 0px 1px 2px rgba(60, 64, 67, 0.3), 0px 1px 3px 1px rgba(60, 64, 67, 0.15);\n",
              "      fill: #174EA6;\n",
              "    }\n",
              "\n",
              "    .colab-df-buttons div {\n",
              "      margin-bottom: 4px;\n",
              "    }\n",
              "\n",
              "    [theme=dark] .colab-df-convert {\n",
              "      background-color: #3B4455;\n",
              "      fill: #D2E3FC;\n",
              "    }\n",
              "\n",
              "    [theme=dark] .colab-df-convert:hover {\n",
              "      background-color: #434B5C;\n",
              "      box-shadow: 0px 1px 3px 1px rgba(0, 0, 0, 0.15);\n",
              "      filter: drop-shadow(0px 1px 2px rgba(0, 0, 0, 0.3));\n",
              "      fill: #FFFFFF;\n",
              "    }\n",
              "  </style>\n",
              "\n",
              "    <script>\n",
              "      const buttonEl =\n",
              "        document.querySelector('#df-289dc813-981e-4098-be3d-b264ca3ef943 button.colab-df-convert');\n",
              "      buttonEl.style.display =\n",
              "        google.colab.kernel.accessAllowed ? 'block' : 'none';\n",
              "\n",
              "      async function convertToInteractive(key) {\n",
              "        const element = document.querySelector('#df-289dc813-981e-4098-be3d-b264ca3ef943');\n",
              "        const dataTable =\n",
              "          await google.colab.kernel.invokeFunction('convertToInteractive',\n",
              "                                                    [key], {});\n",
              "        if (!dataTable) return;\n",
              "\n",
              "        const docLinkHtml = 'Like what you see? Visit the ' +\n",
              "          '<a target=\"_blank\" href=https://colab.research.google.com/notebooks/data_table.ipynb>data table notebook</a>'\n",
              "          + ' to learn more about interactive tables.';\n",
              "        element.innerHTML = '';\n",
              "        dataTable['output_type'] = 'display_data';\n",
              "        await google.colab.output.renderOutput(dataTable, element);\n",
              "        const docLink = document.createElement('div');\n",
              "        docLink.innerHTML = docLinkHtml;\n",
              "        element.appendChild(docLink);\n",
              "      }\n",
              "    </script>\n",
              "  </div>\n",
              "\n",
              "\n",
              "<div id=\"df-bb3528fe-912d-4269-bdce-c11ccb74f383\">\n",
              "  <button class=\"colab-df-quickchart\" onclick=\"quickchart('df-bb3528fe-912d-4269-bdce-c11ccb74f383')\"\n",
              "            title=\"Suggest charts\"\n",
              "            style=\"display:none;\">\n",
              "\n",
              "<svg xmlns=\"http://www.w3.org/2000/svg\" height=\"24px\"viewBox=\"0 0 24 24\"\n",
              "     width=\"24px\">\n",
              "    <g>\n",
              "        <path d=\"M19 3H5c-1.1 0-2 .9-2 2v14c0 1.1.9 2 2 2h14c1.1 0 2-.9 2-2V5c0-1.1-.9-2-2-2zM9 17H7v-7h2v7zm4 0h-2V7h2v10zm4 0h-2v-4h2v4z\"/>\n",
              "    </g>\n",
              "</svg>\n",
              "  </button>\n",
              "\n",
              "<style>\n",
              "  .colab-df-quickchart {\n",
              "      --bg-color: #E8F0FE;\n",
              "      --fill-color: #1967D2;\n",
              "      --hover-bg-color: #E2EBFA;\n",
              "      --hover-fill-color: #174EA6;\n",
              "      --disabled-fill-color: #AAA;\n",
              "      --disabled-bg-color: #DDD;\n",
              "  }\n",
              "\n",
              "  [theme=dark] .colab-df-quickchart {\n",
              "      --bg-color: #3B4455;\n",
              "      --fill-color: #D2E3FC;\n",
              "      --hover-bg-color: #434B5C;\n",
              "      --hover-fill-color: #FFFFFF;\n",
              "      --disabled-bg-color: #3B4455;\n",
              "      --disabled-fill-color: #666;\n",
              "  }\n",
              "\n",
              "  .colab-df-quickchart {\n",
              "    background-color: var(--bg-color);\n",
              "    border: none;\n",
              "    border-radius: 50%;\n",
              "    cursor: pointer;\n",
              "    display: none;\n",
              "    fill: var(--fill-color);\n",
              "    height: 32px;\n",
              "    padding: 0;\n",
              "    width: 32px;\n",
              "  }\n",
              "\n",
              "  .colab-df-quickchart:hover {\n",
              "    background-color: var(--hover-bg-color);\n",
              "    box-shadow: 0 1px 2px rgba(60, 64, 67, 0.3), 0 1px 3px 1px rgba(60, 64, 67, 0.15);\n",
              "    fill: var(--button-hover-fill-color);\n",
              "  }\n",
              "\n",
              "  .colab-df-quickchart-complete:disabled,\n",
              "  .colab-df-quickchart-complete:disabled:hover {\n",
              "    background-color: var(--disabled-bg-color);\n",
              "    fill: var(--disabled-fill-color);\n",
              "    box-shadow: none;\n",
              "  }\n",
              "\n",
              "  .colab-df-spinner {\n",
              "    border: 2px solid var(--fill-color);\n",
              "    border-color: transparent;\n",
              "    border-bottom-color: var(--fill-color);\n",
              "    animation:\n",
              "      spin 1s steps(1) infinite;\n",
              "  }\n",
              "\n",
              "  @keyframes spin {\n",
              "    0% {\n",
              "      border-color: transparent;\n",
              "      border-bottom-color: var(--fill-color);\n",
              "      border-left-color: var(--fill-color);\n",
              "    }\n",
              "    20% {\n",
              "      border-color: transparent;\n",
              "      border-left-color: var(--fill-color);\n",
              "      border-top-color: var(--fill-color);\n",
              "    }\n",
              "    30% {\n",
              "      border-color: transparent;\n",
              "      border-left-color: var(--fill-color);\n",
              "      border-top-color: var(--fill-color);\n",
              "      border-right-color: var(--fill-color);\n",
              "    }\n",
              "    40% {\n",
              "      border-color: transparent;\n",
              "      border-right-color: var(--fill-color);\n",
              "      border-top-color: var(--fill-color);\n",
              "    }\n",
              "    60% {\n",
              "      border-color: transparent;\n",
              "      border-right-color: var(--fill-color);\n",
              "    }\n",
              "    80% {\n",
              "      border-color: transparent;\n",
              "      border-right-color: var(--fill-color);\n",
              "      border-bottom-color: var(--fill-color);\n",
              "    }\n",
              "    90% {\n",
              "      border-color: transparent;\n",
              "      border-bottom-color: var(--fill-color);\n",
              "    }\n",
              "  }\n",
              "</style>\n",
              "\n",
              "  <script>\n",
              "    async function quickchart(key) {\n",
              "      const quickchartButtonEl =\n",
              "        document.querySelector('#' + key + ' button');\n",
              "      quickchartButtonEl.disabled = true;  // To prevent multiple clicks.\n",
              "      quickchartButtonEl.classList.add('colab-df-spinner');\n",
              "      try {\n",
              "        const charts = await google.colab.kernel.invokeFunction(\n",
              "            'suggestCharts', [key], {});\n",
              "      } catch (error) {\n",
              "        console.error('Error during call to suggestCharts:', error);\n",
              "      }\n",
              "      quickchartButtonEl.classList.remove('colab-df-spinner');\n",
              "      quickchartButtonEl.classList.add('colab-df-quickchart-complete');\n",
              "    }\n",
              "    (() => {\n",
              "      let quickchartButtonEl =\n",
              "        document.querySelector('#df-bb3528fe-912d-4269-bdce-c11ccb74f383 button');\n",
              "      quickchartButtonEl.style.display =\n",
              "        google.colab.kernel.accessAllowed ? 'block' : 'none';\n",
              "    })();\n",
              "  </script>\n",
              "</div>\n",
              "\n",
              "    </div>\n",
              "  </div>\n"
            ],
            "application/vnd.google.colaboratory.intrinsic+json": {
              "type": "dataframe",
              "variable_name": "df2"
            }
          },
          "metadata": {},
          "execution_count": 201
        }
      ]
    },
    {
      "cell_type": "code",
      "source": [
        "df2.isnull().sum()"
      ],
      "metadata": {
        "colab": {
          "base_uri": "https://localhost:8080/"
        },
        "id": "npOnzT_WYhN5",
        "outputId": "b8d16c18-0e15-44e1-eabe-32d235c66a73"
      },
      "execution_count": 202,
      "outputs": [
        {
          "output_type": "execute_result",
          "data": {
            "text/plain": [
              "MP Satisfaction?                 0\n",
              "MP Performance Rating            0\n",
              "current Govt. Satisfaction       0\n",
              "re_elect govt                    0\n",
              "Gender_male                      0\n",
              "Age                             68\n",
              "Educational Qualification        0\n",
              " Occupation_Employed (Govt.)     0\n",
              " Occupation_Farmer               0\n",
              " Occupation_Homemaker            0\n",
              " Occupation_Other                0\n",
              " Occupation_Retired              0\n",
              " Occupation_Self-employed        0\n",
              " Occupation_Student              0\n",
              " Occupation_Unemployed           0\n",
              "Religion_Buddhist                0\n",
              "Religion_Christian               0\n",
              "Religion_Hindu                   0\n",
              "Religion_Islam                   0\n",
              "Religion_Other                   0\n",
              "Locality_Rural/Village           0\n",
              "Locality_Urban/Big city          0\n",
              "Locality_Urban/Small city        0\n",
              "Income                           0\n",
              "will vote                        0\n",
              "trad_AAP                         0\n",
              "trad_BJP                         0\n",
              "trad_congress                    0\n",
              "trad_india                       0\n",
              "trad_nda                         0\n",
              "strg_aap                         0\n",
              "strg_bjp                         0\n",
              "strg_congress                    0\n",
              "strg_india                       0\n",
              "strg_nda                         0\n",
              "vote_aap                         0\n",
              "vote_bjp                         0\n",
              "vote_congress                    0\n",
              "vote_india                       0\n",
              "vote_nda                         0\n",
              "electn_isuues                    0\n",
              "other                            0\n",
              "leader                           0\n",
              "dtype: int64"
            ]
          },
          "metadata": {},
          "execution_count": 202
        }
      ]
    },
    {
      "cell_type": "code",
      "source": [
        "column_mode = df2['Age'].mode()[0]"
      ],
      "metadata": {
        "id": "5yL2p9egFq9O"
      },
      "execution_count": 203,
      "outputs": []
    },
    {
      "cell_type": "code",
      "source": [
        "df2['Age'].fillna(column_mode, inplace=True)\n",
        "#now no null values"
      ],
      "metadata": {
        "id": "x4aUZxtRFrLc"
      },
      "execution_count": 204,
      "outputs": []
    },
    {
      "cell_type": "code",
      "source": [],
      "metadata": {
        "id": "DB76WwaLrMkN"
      },
      "execution_count": 204,
      "outputs": []
    },
    {
      "cell_type": "code",
      "source": [],
      "metadata": {
        "id": "HPIcOS1TrMne"
      },
      "execution_count": 204,
      "outputs": []
    },
    {
      "cell_type": "code",
      "source": [],
      "metadata": {
        "id": "ow-CDRJWrMrA"
      },
      "execution_count": 204,
      "outputs": []
    },
    {
      "cell_type": "code",
      "source": [],
      "metadata": {
        "id": "2gDzP2cWrMuM"
      },
      "execution_count": 204,
      "outputs": []
    },
    {
      "cell_type": "code",
      "source": [],
      "metadata": {
        "id": "vFQ9p9KtrMxL"
      },
      "execution_count": 204,
      "outputs": []
    },
    {
      "cell_type": "code",
      "source": [],
      "metadata": {
        "id": "fh-j-0zQrM0g"
      },
      "execution_count": 204,
      "outputs": []
    },
    {
      "cell_type": "markdown",
      "source": [
        "splitting the data"
      ],
      "metadata": {
        "id": "nttHpV4MGlQA"
      }
    },
    {
      "cell_type": "code",
      "source": [
        "X = df2.drop(columns=['re_elect govt'])\n",
        "y = df2['re_elect govt']"
      ],
      "metadata": {
        "id": "aVhiBgKJZRx0"
      },
      "execution_count": 205,
      "outputs": []
    },
    {
      "cell_type": "code",
      "source": [
        "X_train, X_test, y_train, y_test = train_test_split(X, y, test_size=0.2, random_state=42)\n"
      ],
      "metadata": {
        "id": "Mo3YE9e_ZWd8"
      },
      "execution_count": 206,
      "outputs": []
    },
    {
      "cell_type": "markdown",
      "source": [
        "RANDOM **FOREST**"
      ],
      "metadata": {
        "id": "CSGBINzZBjOw"
      }
    },
    {
      "cell_type": "code",
      "source": [
        "model = RandomForestClassifier(random_state=42)\n",
        "model.fit(X_train, y_train)\n",
        "\n",
        "# Model evaluation\n",
        "y_pred = model.predict(X_test)\n",
        "accuracy = accuracy_score(y_test, y_pred)\n",
        "print(\"Accuracy:\", accuracy)"
      ],
      "metadata": {
        "colab": {
          "base_uri": "https://localhost:8080/"
        },
        "id": "FG9_nj20ZWg-",
        "outputId": "9e2aec9a-f648-4906-df1e-0d261430103c"
      },
      "execution_count": 207,
      "outputs": [
        {
          "output_type": "stream",
          "name": "stdout",
          "text": [
            "Accuracy: 1.0\n"
          ]
        }
      ]
    },
    {
      "cell_type": "code",
      "source": [
        "conf_matrix = confusion_matrix(y_test, y_pred)\n",
        "print(\"Confusion Matrix:\")\n",
        "print(conf_matrix)"
      ],
      "metadata": {
        "colab": {
          "base_uri": "https://localhost:8080/"
        },
        "id": "VquMWwDwaxrW",
        "outputId": "632e6860-c9c8-4ad2-8dcc-3267b94d9c80"
      },
      "execution_count": 208,
      "outputs": [
        {
          "output_type": "stream",
          "name": "stdout",
          "text": [
            "Confusion Matrix:\n",
            "[[45  0]\n",
            " [ 0 65]]\n"
          ]
        }
      ]
    },
    {
      "cell_type": "markdown",
      "source": [
        "**LOGISTIC**"
      ],
      "metadata": {
        "id": "X7dhAPbqBXnA"
      }
    },
    {
      "cell_type": "code",
      "source": [
        "import pandas as pd\n",
        "from sklearn.model_selection import train_test_split\n",
        "from sklearn.linear_model import LogisticRegression\n",
        "from sklearn.metrics import accuracy_score, classification_report\n",
        "##logistic\n",
        "model = LogisticRegression()\n",
        "model.fit(X_train, y_train)\n",
        "y_pred = model.predict(X_test)\n",
        "\n",
        "# Calculate accuracy\n",
        "accuracy = accuracy_score(y_test, y_pred)\n",
        "print(\"Accuracy:\", accuracy)\n",
        "\n",
        "# Generate a classification report\n",
        "print(\"Classification Report:\")\n",
        "print(classification_report(y_test, y_pred))"
      ],
      "metadata": {
        "colab": {
          "base_uri": "https://localhost:8080/"
        },
        "id": "QcooMgVOmGXD",
        "outputId": "544903e4-def0-4bf0-a823-a8e6ad62f714"
      },
      "execution_count": 209,
      "outputs": [
        {
          "output_type": "stream",
          "name": "stdout",
          "text": [
            "Accuracy: 1.0\n",
            "Classification Report:\n",
            "              precision    recall  f1-score   support\n",
            "\n",
            "           0       1.00      1.00      1.00        45\n",
            "           1       1.00      1.00      1.00        65\n",
            "\n",
            "    accuracy                           1.00       110\n",
            "   macro avg       1.00      1.00      1.00       110\n",
            "weighted avg       1.00      1.00      1.00       110\n",
            "\n"
          ]
        }
      ]
    },
    {
      "cell_type": "markdown",
      "source": [
        "cross validation"
      ],
      "metadata": {
        "id": "Sw2vTcJeGwXX"
      }
    },
    {
      "cell_type": "code",
      "source": [
        "from sklearn.model_selection import cross_val_score\n",
        "\n",
        "# cv=5 means 5-fold cross-validation\n",
        "# scoring='accuracy' specifies the metric to be used for evaluation\n",
        "scores = cross_val_score(model, X, y, cv=5, scoring='accuracy')\n",
        "\n",
        "# Print the cross-validation scores\n",
        "print(\"Cross-Validation Scores:\", scores)\n",
        "\n",
        "# Calculate and print the mean and standard deviation of the scores\n",
        "print(\"Mean Accuracy:\", scores.mean())\n",
        "print(\"Standard Deviation:\", scores.std())"
      ],
      "metadata": {
        "colab": {
          "base_uri": "https://localhost:8080/"
        },
        "id": "A8herSnDm7mJ",
        "outputId": "5b25a6d2-c195-4c61-b27a-e3dfb2ecbbf3"
      },
      "execution_count": 210,
      "outputs": [
        {
          "output_type": "stream",
          "name": "stdout",
          "text": [
            "Cross-Validation Scores: [1. 1. 1. 1. 1.]\n",
            "Mean Accuracy: 1.0\n",
            "Standard Deviation: 0.0\n"
          ]
        }
      ]
    },
    {
      "cell_type": "code",
      "source": [],
      "metadata": {
        "id": "w1lNLT3jaxuD"
      },
      "execution_count": 210,
      "outputs": []
    },
    {
      "cell_type": "code",
      "source": [],
      "metadata": {
        "id": "i-inoOwlaxxS"
      },
      "execution_count": 210,
      "outputs": []
    }
  ]
}