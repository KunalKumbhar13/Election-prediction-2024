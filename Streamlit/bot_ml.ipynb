{
  "cells": [
    {
      "cell_type": "code",
      "execution_count": 162,
      "metadata": {
        "id": "8_A--eGNe3tD"
      },
      "outputs": [],
      "source": [
        "import pandas as pd\n",
        "from sklearn.model_selection import train_test_split\n",
        "from sklearn.preprocessing import LabelEncoder\n",
        "from sklearn.ensemble import RandomForestClassifier\n",
        "from sklearn.metrics import accuracy_score"
      ]
    },
    {
      "cell_type": "code",
      "execution_count": 163,
      "metadata": {
        "id": "FuihOF0pfMhU"
      },
      "outputs": [],
      "source": [
        "df=pd.read_csv(\"election survey 2_csv.csv\")"
      ]
    },
    {
      "cell_type": "code",
      "execution_count": 164,
      "metadata": {
        "colab": {
          "base_uri": "https://localhost:8080/",
          "height": 590
        },
        "id": "NzoierYKfebA",
        "outputId": "be0fb6f6-1db6-4a92-9da1-c740bbfe415f"
      },
      "outputs": [
        {
          "data": {
            "text/html": [
              "<div>\n",
              "<style scoped>\n",
              "    .dataframe tbody tr th:only-of-type {\n",
              "        vertical-align: middle;\n",
              "    }\n",
              "\n",
              "    .dataframe tbody tr th {\n",
              "        vertical-align: top;\n",
              "    }\n",
              "\n",
              "    .dataframe thead th {\n",
              "        text-align: right;\n",
              "    }\n",
              "</style>\n",
              "<table border=\"1\" class=\"dataframe\">\n",
              "  <thead>\n",
              "    <tr style=\"text-align: right;\">\n",
              "      <th></th>\n",
              "      <th>Gender:\\n</th>\n",
              "      <th>Age:\\n</th>\n",
              "      <th>Educational Qualification:\\n</th>\n",
              "      <th>Occupation:\\n</th>\n",
              "      <th>religion \\n</th>\n",
              "      <th>Area/locality\\n</th>\n",
              "      <th>monthly household income \\n</th>\n",
              "      <th>Will you vote in upcoming elections?\\n</th>\n",
              "      <th>traditionaly supported\\n</th>\n",
              "      <th>party/alliance currently in a stronger position ? \\n</th>\n",
              "      <th>If Lok Sabha elections are held tomorrow ,which party will you vote for? \\n</th>\n",
              "      <th>most important election issue for you?</th>\n",
              "      <th>issues vs person?</th>\n",
              "      <th>Voting Priorities?\"</th>\n",
              "      <th>MP Satisfaction?\"</th>\n",
              "      <th>\"MP Performance Rating?\"\\n\\n\\n\\n</th>\n",
              "      <th>current Govt. Satisfaction?</th>\n",
              "      <th>re_elect govt?</th>\n",
              "    </tr>\n",
              "  </thead>\n",
              "  <tbody>\n",
              "    <tr>\n",
              "      <th>0</th>\n",
              "      <td>male</td>\n",
              "      <td>21 to 30</td>\n",
              "      <td>Postgraduate</td>\n",
              "      <td>Student</td>\n",
              "      <td>Hindu</td>\n",
              "      <td>Urban/Big city</td>\n",
              "      <td>Over Rs. 50001</td>\n",
              "      <td>Yes</td>\n",
              "      <td>party from National Democratic Alliance (ND)</td>\n",
              "      <td>BJP</td>\n",
              "      <td>party from National Democratic Alliance (ND)</td>\n",
              "      <td>Can't Say</td>\n",
              "      <td>Election issues</td>\n",
              "      <td>The performance the political party</td>\n",
              "      <td>No</td>\n",
              "      <td>Good</td>\n",
              "      <td>Yes</td>\n",
              "      <td>Yes</td>\n",
              "    </tr>\n",
              "    <tr>\n",
              "      <th>1</th>\n",
              "      <td>male</td>\n",
              "      <td>21 to 30</td>\n",
              "      <td>Graduate</td>\n",
              "      <td>Student</td>\n",
              "      <td>Hindu</td>\n",
              "      <td>Urban/Big city</td>\n",
              "      <td>Over Rs. 50001</td>\n",
              "      <td>Yes</td>\n",
              "      <td>Congress</td>\n",
              "      <td>BJP</td>\n",
              "      <td>Congress</td>\n",
              "      <td>Price rise /inflation</td>\n",
              "      <td>political leader's face/personality</td>\n",
              "      <td>The performance of the candidate/MP.</td>\n",
              "      <td>No</td>\n",
              "      <td>Poor</td>\n",
              "      <td>Yes</td>\n",
              "      <td>Yes</td>\n",
              "    </tr>\n",
              "    <tr>\n",
              "      <th>2</th>\n",
              "      <td>Female</td>\n",
              "      <td>46 to 60</td>\n",
              "      <td>Secondary School/Matric</td>\n",
              "      <td>Self-employed</td>\n",
              "      <td>Christian</td>\n",
              "      <td>Urban/Small city</td>\n",
              "      <td>Rs. 20,000 to Rs. 50,000</td>\n",
              "      <td>Yes</td>\n",
              "      <td>party from National Democratic Alliance (ND)</td>\n",
              "      <td>Indian National Developmental Inclusive Allian...</td>\n",
              "      <td>party from Indian National Developmental Inclu...</td>\n",
              "      <td>Unemployment</td>\n",
              "      <td>Election issues</td>\n",
              "      <td>The performance of the Prime Minister</td>\n",
              "      <td>No Response</td>\n",
              "      <td>Good</td>\n",
              "      <td>Yes</td>\n",
              "      <td>No</td>\n",
              "    </tr>\n",
              "    <tr>\n",
              "      <th>3</th>\n",
              "      <td>Female</td>\n",
              "      <td>61 to 75</td>\n",
              "      <td>Non-Literate</td>\n",
              "      <td>Farmer</td>\n",
              "      <td>Islam</td>\n",
              "      <td>Rural/Village</td>\n",
              "      <td>Rs. 10,001 - Rs. 20,000</td>\n",
              "      <td>Yes</td>\n",
              "      <td>party from National Democratic Alliance (ND)</td>\n",
              "      <td>BJP</td>\n",
              "      <td>party from National Democratic Alliance (ND)</td>\n",
              "      <td>Farmer distress</td>\n",
              "      <td>political leader's face/personality</td>\n",
              "      <td>The performance of the candidate/MP.</td>\n",
              "      <td>No</td>\n",
              "      <td>Very poor</td>\n",
              "      <td>No</td>\n",
              "      <td>No</td>\n",
              "    </tr>\n",
              "    <tr>\n",
              "      <th>4</th>\n",
              "      <td>Female</td>\n",
              "      <td>21 to 30</td>\n",
              "      <td>Postgraduate</td>\n",
              "      <td>Employed (Govt.)</td>\n",
              "      <td>No Response</td>\n",
              "      <td>Urban/Big city</td>\n",
              "      <td>Rs. 20,000 to Rs. 50,000</td>\n",
              "      <td>No</td>\n",
              "      <td>BJP</td>\n",
              "      <td>BJP</td>\n",
              "      <td>BJP</td>\n",
              "      <td>Unemployment</td>\n",
              "      <td>No Response</td>\n",
              "      <td>The performance of the Prime Minister</td>\n",
              "      <td>Yes</td>\n",
              "      <td>Good</td>\n",
              "      <td>Yes</td>\n",
              "      <td>Yes</td>\n",
              "    </tr>\n",
              "  </tbody>\n",
              "</table>\n",
              "</div>"
            ],
            "text/plain": [
              "  Gender:\\n    Age:\\n  Educational Qualification:\\n     Occupation:\\n  \\\n",
              "0      male  21 to 30                  Postgraduate           Student   \n",
              "1      male  21 to 30                      Graduate           Student   \n",
              "2    Female  46 to 60       Secondary School/Matric     Self-employed   \n",
              "3    Female  61 to 75                  Non-Literate            Farmer   \n",
              "4    Female  21 to 30                  Postgraduate  Employed (Govt.)   \n",
              "\n",
              "   religion \\n   Area/locality\\n  monthly household income \\n  \\\n",
              "0        Hindu    Urban/Big city               Over Rs. 50001   \n",
              "1        Hindu    Urban/Big city               Over Rs. 50001   \n",
              "2    Christian  Urban/Small city     Rs. 20,000 to Rs. 50,000   \n",
              "3        Islam     Rural/Village      Rs. 10,001 - Rs. 20,000   \n",
              "4  No Response    Urban/Big city     Rs. 20,000 to Rs. 50,000   \n",
              "\n",
              "   Will you vote in upcoming elections?\\n  \\\n",
              "0                                     Yes   \n",
              "1                                     Yes   \n",
              "2                                     Yes   \n",
              "3                                     Yes   \n",
              "4                                      No   \n",
              "\n",
              "                       traditionaly supported\\n  \\\n",
              "0  party from National Democratic Alliance (ND)   \n",
              "1                                      Congress   \n",
              "2  party from National Democratic Alliance (ND)   \n",
              "3  party from National Democratic Alliance (ND)   \n",
              "4                                           BJP   \n",
              "\n",
              "  party/alliance currently in a stronger position ? \\n  \\\n",
              "0                                                BJP     \n",
              "1                                                BJP     \n",
              "2  Indian National Developmental Inclusive Allian...     \n",
              "3                                                BJP     \n",
              "4                                                BJP     \n",
              "\n",
              "   If Lok Sabha elections are held tomorrow ,which party will you vote for? \\n  \\\n",
              "0       party from National Democratic Alliance (ND)                             \n",
              "1                                           Congress                             \n",
              "2  party from Indian National Developmental Inclu...                             \n",
              "3       party from National Democratic Alliance (ND)                             \n",
              "4                                                BJP                             \n",
              "\n",
              "   most important election issue for you?  \\\n",
              "0                               Can't Say   \n",
              "1                   Price rise /inflation   \n",
              "2                            Unemployment   \n",
              "3                         Farmer distress   \n",
              "4                            Unemployment   \n",
              "\n",
              "                     issues vs person?                    Voting Priorities?\"  \\\n",
              "0                      Election issues    The performance the political party   \n",
              "1  political leader's face/personality   The performance of the candidate/MP.   \n",
              "2                      Election issues  The performance of the Prime Minister   \n",
              "3  political leader's face/personality   The performance of the candidate/MP.   \n",
              "4                          No Response  The performance of the Prime Minister   \n",
              "\n",
              "  MP Satisfaction?\" \"MP Performance Rating?\"\\n\\n\\n\\n  \\\n",
              "0                No                             Good   \n",
              "1                No                             Poor   \n",
              "2       No Response                             Good   \n",
              "3                No                        Very poor   \n",
              "4               Yes                             Good   \n",
              "\n",
              "  current Govt. Satisfaction? re_elect govt?  \n",
              "0                         Yes            Yes  \n",
              "1                         Yes            Yes  \n",
              "2                         Yes             No  \n",
              "3                          No             No  \n",
              "4                         Yes            Yes  "
            ]
          },
          "execution_count": 164,
          "metadata": {},
          "output_type": "execute_result"
        }
      ],
      "source": [
        "df.head()"
      ]
    },
    {
      "cell_type": "code",
      "execution_count": 165,
      "metadata": {
        "colab": {
          "base_uri": "https://localhost:8080/"
        },
        "id": "a_C67wOEfl3m",
        "outputId": "b3962d1d-8eb4-44b7-80fa-5938b69dd409"
      },
      "outputs": [
        {
          "data": {
            "text/plain": [
              "383"
            ]
          },
          "execution_count": 165,
          "metadata": {},
          "output_type": "execute_result"
        }
      ],
      "source": [
        "df.shape[0]"
      ]
    },
    {
      "cell_type": "code",
      "execution_count": 166,
      "metadata": {
        "colab": {
          "base_uri": "https://localhost:8080/"
        },
        "id": "qxZiFkpyfqYm",
        "outputId": "292d5056-374e-4cb3-cf67-80dc7617157d"
      },
      "outputs": [
        {
          "name": "stdout",
          "output_type": "stream",
          "text": [
            "<class 'pandas.core.frame.DataFrame'>\n",
            "RangeIndex: 383 entries, 0 to 382\n",
            "Data columns (total 18 columns):\n",
            " #   Column                                                                       Non-Null Count  Dtype \n",
            "---  ------                                                                       --------------  ----- \n",
            " 0   Gender:\n",
            "                                                                     383 non-null    object\n",
            " 1    Age:\n",
            "                                                                       383 non-null    object\n",
            " 2    Educational Qualification:\n",
            "                                                 383 non-null    object\n",
            " 3    Occupation:\n",
            "                                                                383 non-null    object\n",
            " 4   religion \n",
            "                                                                   383 non-null    object\n",
            " 5   Area/locality\n",
            "                                                               374 non-null    object\n",
            " 6    monthly household income \n",
            "                                                  383 non-null    object\n",
            " 7    Will you vote in upcoming elections?\n",
            "                                       383 non-null    object\n",
            " 8   traditionaly supported\n",
            "                                                      383 non-null    object\n",
            " 9   party/alliance currently in a stronger position ? \n",
            "                          383 non-null    object\n",
            " 10   If Lok Sabha elections are held tomorrow ,which party will you vote for? \n",
            "  383 non-null    object\n",
            " 11   most important election issue for you?                                      383 non-null    object\n",
            " 12  issues vs person?                                                            383 non-null    object\n",
            " 13  Voting Priorities?\"                                                          383 non-null    object\n",
            " 14  MP Satisfaction?\"                                                            383 non-null    object\n",
            " 15  \"MP Performance Rating?\"\n",
            "\n",
            "\n",
            "\n",
            "                                                 383 non-null    object\n",
            " 16  current Govt. Satisfaction?                                                  383 non-null    object\n",
            " 17  re_elect govt?                                                               383 non-null    object\n",
            "dtypes: object(18)\n",
            "memory usage: 54.0+ KB\n"
          ]
        }
      ],
      "source": [
        "df.info()"
      ]
    },
    {
      "cell_type": "code",
      "execution_count": 167,
      "metadata": {
        "colab": {
          "base_uri": "https://localhost:8080/"
        },
        "id": "TqMsIBGJei0Z",
        "outputId": "8bad5075-829d-4f3e-a2a7-e56105b2761b"
      },
      "outputs": [
        {
          "data": {
            "text/plain": [
              "Gender:\\n                                                                       0\n",
              " Age:\\n                                                                         0\n",
              " Educational Qualification:\\n                                                   0\n",
              " Occupation:\\n                                                                  0\n",
              "religion \\n                                                                     0\n",
              "Area/locality\\n                                                                 9\n",
              " monthly household income \\n                                                    0\n",
              " Will you vote in upcoming elections?\\n                                         0\n",
              "traditionaly supported\\n                                                        0\n",
              "party/alliance currently in a stronger position ? \\n                            0\n",
              " If Lok Sabha elections are held tomorrow ,which party will you vote for? \\n    0\n",
              " most important election issue for you?                                         0\n",
              "issues vs person?                                                               0\n",
              "Voting Priorities?\"                                                             0\n",
              "MP Satisfaction?\"                                                               0\n",
              "\"MP Performance Rating?\"\\n\\n\\n\\n                                                0\n",
              "current Govt. Satisfaction?                                                     0\n",
              "re_elect govt?                                                                  0\n",
              "dtype: int64"
            ]
          },
          "execution_count": 167,
          "metadata": {},
          "output_type": "execute_result"
        }
      ],
      "source": [
        "df.isnull().sum()"
      ]
    },
    {
      "cell_type": "markdown",
      "metadata": {
        "id": "ldBD6lZ1e4tM"
      },
      "source": [
        "**ENCODING**"
      ]
    },
    {
      "cell_type": "code",
      "execution_count": 168,
      "metadata": {
        "id": "1cQ5ckgneovk"
      },
      "outputs": [],
      "source": [
        "##GENDER ENCODING\n",
        "\n",
        "df = pd.get_dummies(df, columns=['Gender:\\n'], prefix='Gender:\\n', drop_first=True)\n"
      ]
    },
    {
      "cell_type": "code",
      "execution_count": 169,
      "metadata": {
        "id": "mbIUnE8Og5uW"
      },
      "outputs": [],
      "source": [
        "df['Gender:\\n_male'] = df['Gender:\\n_male'].astype(int)\n"
      ]
    },
    {
      "cell_type": "code",
      "execution_count": 170,
      "metadata": {
        "colab": {
          "base_uri": "https://localhost:8080/"
        },
        "id": "PA5XLZrBjWim",
        "outputId": "fcee5b78-8770-4c9d-db2d-039b1486b395"
      },
      "outputs": [
        {
          "name": "stdout",
          "output_type": "stream",
          "text": [
            "Index([' Age:\\n', ' Educational Qualification:\\n', ' Occupation:\\n',\n",
            "       'religion \\n', 'Area/locality\\n', ' monthly household income \\n',\n",
            "       ' Will you vote in upcoming elections?\\n', 'traditionaly supported\\n',\n",
            "       'party/alliance currently in a stronger position ? \\n',\n",
            "       ' If Lok Sabha elections are held tomorrow ,which party will you vote for? \\n',\n",
            "       ' most important election issue for you?', 'issues vs person?',\n",
            "       'Voting Priorities?\"', 'MP Satisfaction?\"',\n",
            "       '\"MP Performance Rating?\"\\n\\n\\n\\n', 'current Govt. Satisfaction?',\n",
            "       're_elect govt?', 'Gender:\\n_male'],\n",
            "      dtype='object')\n"
          ]
        }
      ],
      "source": [
        "print(df.columns)\n"
      ]
    },
    {
      "cell_type": "code",
      "execution_count": 171,
      "metadata": {
        "id": "rZ2S9XzShF4J"
      },
      "outputs": [],
      "source": [
        "##age encoding\n",
        "\n",
        "age_mapping = {\n",
        "    '21 to 30': 1,\n",
        "    '31 to 45': 2,\n",
        "    '46 to 60': 3,\n",
        "    '61 to 75': 4,\n",
        "    '75 and above': 5\n",
        "}\n",
        "\n",
        "df['Age'] = df[' Age:\\n'].map(age_mapping)\n"
      ]
    },
    {
      "cell_type": "code",
      "execution_count": 172,
      "metadata": {
        "id": "EpNX4Gn4jmDG"
      },
      "outputs": [],
      "source": [
        "df.drop(columns=[' Age:\\n'], inplace=True)\n"
      ]
    },
    {
      "cell_type": "code",
      "execution_count": 173,
      "metadata": {
        "colab": {
          "base_uri": "https://localhost:8080/"
        },
        "id": "_Um2u7Cakena",
        "outputId": "0f238257-706c-46db-faa5-09942d5072a0"
      },
      "outputs": [
        {
          "data": {
            "text/plain": [
              "array(['Postgraduate', 'Graduate', 'Secondary School/Matric',\n",
              "       'Non-Literate', 'Higher Secondary/Intermediate', 'Primary School'],\n",
              "      dtype=object)"
            ]
          },
          "execution_count": 173,
          "metadata": {},
          "output_type": "execute_result"
        }
      ],
      "source": [
        "##education encoding\n",
        "\n",
        "df[' Educational Qualification:\\n'].unique()"
      ]
    },
    {
      "cell_type": "code",
      "execution_count": 174,
      "metadata": {
        "id": "zx37b6f_lWpC"
      },
      "outputs": [],
      "source": [
        "\n",
        "education_mapping = {\n",
        "    'Non-Literate': 0,\n",
        "    'Primary School': 1,\n",
        "    'Secondary School/Matric': 2,\n",
        "    'Higher Secondary/Intermediate': 3,\n",
        "    'Graduate': 4,\n",
        "    'Postgraduate': 5\n",
        "}\n",
        "\n",
        "# Map the educational qualifications to numerical values\n",
        "df['Educational Qualification'] = df[' Educational Qualification:\\n'].map(education_mapping)\n",
        "\n"
      ]
    },
    {
      "cell_type": "code",
      "execution_count": 175,
      "metadata": {
        "id": "JQ56BwT7mKjJ"
      },
      "outputs": [],
      "source": [
        "df.drop(columns=[' Educational Qualification:\\n'], inplace=True)\n"
      ]
    },
    {
      "cell_type": "code",
      "execution_count": 176,
      "metadata": {
        "colab": {
          "base_uri": "https://localhost:8080/"
        },
        "id": "OTHWP2nwmZA6",
        "outputId": "0ec8fe37-e526-435e-9ab8-ae742e62caaa"
      },
      "outputs": [
        {
          "data": {
            "text/plain": [
              "array(['Student', 'Self-employed', 'Farmer', 'Employed (Govt.)', 'Other',\n",
              "       'Homemaker', 'Retired', 'Unemployed'], dtype=object)"
            ]
          },
          "execution_count": 176,
          "metadata": {},
          "output_type": "execute_result"
        }
      ],
      "source": [
        "##occupation encoding\n",
        "\n",
        "df[' Occupation:\\n'].unique()"
      ]
    },
    {
      "cell_type": "code",
      "execution_count": 177,
      "metadata": {
        "id": "d1ZAQpR-mZDg"
      },
      "outputs": [],
      "source": [
        "df = pd.get_dummies(df, columns=[' Occupation:\\n'], prefix=' Occupation:\\n')\n"
      ]
    },
    {
      "cell_type": "code",
      "execution_count": 178,
      "metadata": {
        "id": "tVYBe03rmZFk"
      },
      "outputs": [
        {
          "name": "stderr",
          "output_type": "stream",
          "text": [
            "C:\\Users\\admin\\AppData\\Local\\Temp\\ipykernel_7304\\3193151044.py:6: FutureWarning: Downcasting behavior in `replace` is deprecated and will be removed in a future version. To retain the old behavior, explicitly call `result.infer_objects(copy=False)`. To opt-in to the future behavior, set `pd.set_option('future.no_silent_downcasting', True)`\n",
            "  df[columns_to_convert] = df[columns_to_convert].replace({True: 1, False: 0})\n"
          ]
        }
      ],
      "source": [
        "columns_to_convert = [' Occupation:\\n_Employed (Govt.)', ' Occupation:\\n_Farmer',\n",
        "       ' Occupation:\\n_Homemaker', ' Occupation:\\n_Other',\n",
        "       ' Occupation:\\n_Retired', ' Occupation:\\n_Self-employed',\n",
        "       ' Occupation:\\n_Student', ' Occupation:\\n_Unemployed']\n",
        "\n",
        "df[columns_to_convert] = df[columns_to_convert].replace({True: 1, False: 0})\n"
      ]
    },
    {
      "cell_type": "code",
      "execution_count": 179,
      "metadata": {
        "id": "iQwyYffbmZKb"
      },
      "outputs": [],
      "source": [
        "df.rename(columns={'religion \\n': 'Religion'}, inplace=True)\n"
      ]
    },
    {
      "cell_type": "code",
      "execution_count": 180,
      "metadata": {
        "id": "7DL2AK1Fr5Jw"
      },
      "outputs": [],
      "source": [
        "df = pd.get_dummies(df, columns=['Religion'], prefix='Religion')\n"
      ]
    },
    {
      "cell_type": "code",
      "execution_count": 181,
      "metadata": {
        "colab": {
          "base_uri": "https://localhost:8080/"
        },
        "id": "8AJ8g37LmZNK",
        "outputId": "6b09dfe8-58a7-479b-e135-1aeff7c94db6"
      },
      "outputs": [
        {
          "data": {
            "text/plain": [
              "10"
            ]
          },
          "execution_count": 181,
          "metadata": {},
          "output_type": "execute_result"
        }
      ],
      "source": [
        "df['Religion_No Response'].sum()"
      ]
    },
    {
      "cell_type": "code",
      "execution_count": 182,
      "metadata": {
        "id": "xhjB-wAPtVdQ"
      },
      "outputs": [],
      "source": [
        "df = df[df['Religion_No Response'] == False]\n"
      ]
    },
    {
      "cell_type": "code",
      "execution_count": 183,
      "metadata": {
        "id": "er-g69btmZQm"
      },
      "outputs": [],
      "source": [
        "df.drop(columns=['Religion_No Response'],inplace=True)"
      ]
    },
    {
      "cell_type": "code",
      "execution_count": 184,
      "metadata": {
        "colab": {
          "base_uri": "https://localhost:8080/",
          "height": 637
        },
        "id": "OnOqmBVVmZXM",
        "outputId": "6adef694-acbb-40d9-a3b6-04bc26d3af1c"
      },
      "outputs": [
        {
          "data": {
            "text/html": [
              "<div>\n",
              "<style scoped>\n",
              "    .dataframe tbody tr th:only-of-type {\n",
              "        vertical-align: middle;\n",
              "    }\n",
              "\n",
              "    .dataframe tbody tr th {\n",
              "        vertical-align: top;\n",
              "    }\n",
              "\n",
              "    .dataframe thead th {\n",
              "        text-align: right;\n",
              "    }\n",
              "</style>\n",
              "<table border=\"1\" class=\"dataframe\">\n",
              "  <thead>\n",
              "    <tr style=\"text-align: right;\">\n",
              "      <th></th>\n",
              "      <th>Area/locality\\n</th>\n",
              "      <th>monthly household income \\n</th>\n",
              "      <th>Will you vote in upcoming elections?\\n</th>\n",
              "      <th>traditionaly supported\\n</th>\n",
              "      <th>party/alliance currently in a stronger position ? \\n</th>\n",
              "      <th>If Lok Sabha elections are held tomorrow ,which party will you vote for? \\n</th>\n",
              "      <th>most important election issue for you?</th>\n",
              "      <th>issues vs person?</th>\n",
              "      <th>Voting Priorities?\"</th>\n",
              "      <th>MP Satisfaction?\"</th>\n",
              "      <th>...</th>\n",
              "      <th>Occupation:\\n_Other</th>\n",
              "      <th>Occupation:\\n_Retired</th>\n",
              "      <th>Occupation:\\n_Self-employed</th>\n",
              "      <th>Occupation:\\n_Student</th>\n",
              "      <th>Occupation:\\n_Unemployed</th>\n",
              "      <th>Religion_Buddhist</th>\n",
              "      <th>Religion_Christian</th>\n",
              "      <th>Religion_Hindu</th>\n",
              "      <th>Religion_Islam</th>\n",
              "      <th>Religion_Other</th>\n",
              "    </tr>\n",
              "  </thead>\n",
              "  <tbody>\n",
              "    <tr>\n",
              "      <th>0</th>\n",
              "      <td>Urban/Big city</td>\n",
              "      <td>Over Rs. 50001</td>\n",
              "      <td>Yes</td>\n",
              "      <td>party from National Democratic Alliance (ND)</td>\n",
              "      <td>BJP</td>\n",
              "      <td>party from National Democratic Alliance (ND)</td>\n",
              "      <td>Can't Say</td>\n",
              "      <td>Election issues</td>\n",
              "      <td>The performance the political party</td>\n",
              "      <td>No</td>\n",
              "      <td>...</td>\n",
              "      <td>0</td>\n",
              "      <td>0</td>\n",
              "      <td>0</td>\n",
              "      <td>1</td>\n",
              "      <td>0</td>\n",
              "      <td>False</td>\n",
              "      <td>False</td>\n",
              "      <td>True</td>\n",
              "      <td>False</td>\n",
              "      <td>False</td>\n",
              "    </tr>\n",
              "    <tr>\n",
              "      <th>1</th>\n",
              "      <td>Urban/Big city</td>\n",
              "      <td>Over Rs. 50001</td>\n",
              "      <td>Yes</td>\n",
              "      <td>Congress</td>\n",
              "      <td>BJP</td>\n",
              "      <td>Congress</td>\n",
              "      <td>Price rise /inflation</td>\n",
              "      <td>political leader's face/personality</td>\n",
              "      <td>The performance of the candidate/MP.</td>\n",
              "      <td>No</td>\n",
              "      <td>...</td>\n",
              "      <td>0</td>\n",
              "      <td>0</td>\n",
              "      <td>0</td>\n",
              "      <td>1</td>\n",
              "      <td>0</td>\n",
              "      <td>False</td>\n",
              "      <td>False</td>\n",
              "      <td>True</td>\n",
              "      <td>False</td>\n",
              "      <td>False</td>\n",
              "    </tr>\n",
              "    <tr>\n",
              "      <th>2</th>\n",
              "      <td>Urban/Small city</td>\n",
              "      <td>Rs. 20,000 to Rs. 50,000</td>\n",
              "      <td>Yes</td>\n",
              "      <td>party from National Democratic Alliance (ND)</td>\n",
              "      <td>Indian National Developmental Inclusive Allian...</td>\n",
              "      <td>party from Indian National Developmental Inclu...</td>\n",
              "      <td>Unemployment</td>\n",
              "      <td>Election issues</td>\n",
              "      <td>The performance of the Prime Minister</td>\n",
              "      <td>No Response</td>\n",
              "      <td>...</td>\n",
              "      <td>0</td>\n",
              "      <td>0</td>\n",
              "      <td>1</td>\n",
              "      <td>0</td>\n",
              "      <td>0</td>\n",
              "      <td>False</td>\n",
              "      <td>True</td>\n",
              "      <td>False</td>\n",
              "      <td>False</td>\n",
              "      <td>False</td>\n",
              "    </tr>\n",
              "    <tr>\n",
              "      <th>3</th>\n",
              "      <td>Rural/Village</td>\n",
              "      <td>Rs. 10,001 - Rs. 20,000</td>\n",
              "      <td>Yes</td>\n",
              "      <td>party from National Democratic Alliance (ND)</td>\n",
              "      <td>BJP</td>\n",
              "      <td>party from National Democratic Alliance (ND)</td>\n",
              "      <td>Farmer distress</td>\n",
              "      <td>political leader's face/personality</td>\n",
              "      <td>The performance of the candidate/MP.</td>\n",
              "      <td>No</td>\n",
              "      <td>...</td>\n",
              "      <td>0</td>\n",
              "      <td>0</td>\n",
              "      <td>0</td>\n",
              "      <td>0</td>\n",
              "      <td>0</td>\n",
              "      <td>False</td>\n",
              "      <td>False</td>\n",
              "      <td>False</td>\n",
              "      <td>True</td>\n",
              "      <td>False</td>\n",
              "    </tr>\n",
              "    <tr>\n",
              "      <th>5</th>\n",
              "      <td>Urban/Small city</td>\n",
              "      <td>Rs. 20,000 to Rs. 50,000</td>\n",
              "      <td>Yes</td>\n",
              "      <td>party from National Democratic Alliance (ND)</td>\n",
              "      <td>BJP</td>\n",
              "      <td>Aam Aadmi Party</td>\n",
              "      <td>Discrimination against women, Crimes against w...</td>\n",
              "      <td>Other</td>\n",
              "      <td>The performance of the candidate/MP.</td>\n",
              "      <td>Yes</td>\n",
              "      <td>...</td>\n",
              "      <td>0</td>\n",
              "      <td>0</td>\n",
              "      <td>0</td>\n",
              "      <td>1</td>\n",
              "      <td>0</td>\n",
              "      <td>True</td>\n",
              "      <td>False</td>\n",
              "      <td>False</td>\n",
              "      <td>False</td>\n",
              "      <td>False</td>\n",
              "    </tr>\n",
              "  </tbody>\n",
              "</table>\n",
              "<p>5 rows × 29 columns</p>\n",
              "</div>"
            ],
            "text/plain": [
              "    Area/locality\\n  monthly household income \\n  \\\n",
              "0    Urban/Big city               Over Rs. 50001   \n",
              "1    Urban/Big city               Over Rs. 50001   \n",
              "2  Urban/Small city     Rs. 20,000 to Rs. 50,000   \n",
              "3     Rural/Village      Rs. 10,001 - Rs. 20,000   \n",
              "5  Urban/Small city     Rs. 20,000 to Rs. 50,000   \n",
              "\n",
              "   Will you vote in upcoming elections?\\n  \\\n",
              "0                                     Yes   \n",
              "1                                     Yes   \n",
              "2                                     Yes   \n",
              "3                                     Yes   \n",
              "5                                     Yes   \n",
              "\n",
              "                       traditionaly supported\\n  \\\n",
              "0  party from National Democratic Alliance (ND)   \n",
              "1                                      Congress   \n",
              "2  party from National Democratic Alliance (ND)   \n",
              "3  party from National Democratic Alliance (ND)   \n",
              "5  party from National Democratic Alliance (ND)   \n",
              "\n",
              "  party/alliance currently in a stronger position ? \\n  \\\n",
              "0                                                BJP     \n",
              "1                                                BJP     \n",
              "2  Indian National Developmental Inclusive Allian...     \n",
              "3                                                BJP     \n",
              "5                                                BJP     \n",
              "\n",
              "   If Lok Sabha elections are held tomorrow ,which party will you vote for? \\n  \\\n",
              "0       party from National Democratic Alliance (ND)                             \n",
              "1                                           Congress                             \n",
              "2  party from Indian National Developmental Inclu...                             \n",
              "3       party from National Democratic Alliance (ND)                             \n",
              "5                                    Aam Aadmi Party                             \n",
              "\n",
              "              most important election issue for you?  \\\n",
              "0                                          Can't Say   \n",
              "1                              Price rise /inflation   \n",
              "2                                       Unemployment   \n",
              "3                                    Farmer distress   \n",
              "5  Discrimination against women, Crimes against w...   \n",
              "\n",
              "                     issues vs person?                    Voting Priorities?\"  \\\n",
              "0                      Election issues    The performance the political party   \n",
              "1  political leader's face/personality   The performance of the candidate/MP.   \n",
              "2                      Election issues  The performance of the Prime Minister   \n",
              "3  political leader's face/personality   The performance of the candidate/MP.   \n",
              "5                                Other   The performance of the candidate/MP.   \n",
              "\n",
              "  MP Satisfaction?\"  ...  Occupation:\\n_Other  Occupation:\\n_Retired  \\\n",
              "0                No  ...                    0                      0   \n",
              "1                No  ...                    0                      0   \n",
              "2       No Response  ...                    0                      0   \n",
              "3                No  ...                    0                      0   \n",
              "5               Yes  ...                    0                      0   \n",
              "\n",
              "   Occupation:\\n_Self-employed   Occupation:\\n_Student  \\\n",
              "0                            0                       1   \n",
              "1                            0                       1   \n",
              "2                            1                       0   \n",
              "3                            0                       0   \n",
              "5                            0                       1   \n",
              "\n",
              "    Occupation:\\n_Unemployed  Religion_Buddhist  Religion_Christian  \\\n",
              "0                          0              False               False   \n",
              "1                          0              False               False   \n",
              "2                          0              False                True   \n",
              "3                          0              False               False   \n",
              "5                          0               True               False   \n",
              "\n",
              "   Religion_Hindu  Religion_Islam  Religion_Other  \n",
              "0            True           False           False  \n",
              "1            True           False           False  \n",
              "2           False           False           False  \n",
              "3           False            True           False  \n",
              "5           False           False           False  \n",
              "\n",
              "[5 rows x 29 columns]"
            ]
          },
          "execution_count": 184,
          "metadata": {},
          "output_type": "execute_result"
        }
      ],
      "source": [
        "df.head()"
      ]
    },
    {
      "cell_type": "code",
      "execution_count": 185,
      "metadata": {
        "colab": {
          "base_uri": "https://localhost:8080/"
        },
        "id": "8uiLeQYlmZcG",
        "outputId": "765265c8-1b1a-4363-c70f-e4ab4b21be06"
      },
      "outputs": [
        {
          "data": {
            "text/plain": [
              "9"
            ]
          },
          "execution_count": 185,
          "metadata": {},
          "output_type": "execute_result"
        }
      ],
      "source": [
        "df['Area/locality\\n'].isna().sum()\n"
      ]
    },
    {
      "cell_type": "code",
      "execution_count": 186,
      "metadata": {
        "id": "IR1C-Yt_wBZB"
      },
      "outputs": [],
      "source": [
        "df.dropna(subset=['Area/locality\\n'], inplace=True)\n"
      ]
    },
    {
      "cell_type": "code",
      "execution_count": 187,
      "metadata": {
        "id": "JU8liREtmZex"
      },
      "outputs": [],
      "source": [
        "df.rename(columns={'Area/locality\\n': 'Locality'}, inplace=True)\n"
      ]
    },
    {
      "cell_type": "code",
      "execution_count": 188,
      "metadata": {
        "id": "I67e5XSImZhn"
      },
      "outputs": [],
      "source": [
        "df = pd.get_dummies(df, columns=['Locality'], prefix='Locality')\n"
      ]
    },
    {
      "cell_type": "code",
      "execution_count": 189,
      "metadata": {
        "colab": {
          "base_uri": "https://localhost:8080/"
        },
        "id": "3rhJfeT2x7G1",
        "outputId": "251d58bc-3125-4c6a-8ca4-f1205fe5e778"
      },
      "outputs": [
        {
          "data": {
            "text/plain": [
              "Index([' monthly household income \\n',\n",
              "       ' Will you vote in upcoming elections?\\n', 'traditionaly supported\\n',\n",
              "       'party/alliance currently in a stronger position ? \\n',\n",
              "       ' If Lok Sabha elections are held tomorrow ,which party will you vote for? \\n',\n",
              "       ' most important election issue for you?', 'issues vs person?',\n",
              "       'Voting Priorities?\"', 'MP Satisfaction?\"',\n",
              "       '\"MP Performance Rating?\"\\n\\n\\n\\n', 'current Govt. Satisfaction?',\n",
              "       're_elect govt?', 'Gender:\\n_male', 'Age', 'Educational Qualification',\n",
              "       ' Occupation:\\n_Employed (Govt.)', ' Occupation:\\n_Farmer',\n",
              "       ' Occupation:\\n_Homemaker', ' Occupation:\\n_Other',\n",
              "       ' Occupation:\\n_Retired', ' Occupation:\\n_Self-employed',\n",
              "       ' Occupation:\\n_Student', ' Occupation:\\n_Unemployed',\n",
              "       'Religion_Buddhist', 'Religion_Christian', 'Religion_Hindu',\n",
              "       'Religion_Islam', 'Religion_Other', 'Locality_Rural/Village',\n",
              "       'Locality_Urban/Big city', 'Locality_Urban/Small city'],\n",
              "      dtype='object')"
            ]
          },
          "execution_count": 189,
          "metadata": {},
          "output_type": "execute_result"
        }
      ],
      "source": [
        "df.columns"
      ]
    },
    {
      "cell_type": "code",
      "execution_count": 190,
      "metadata": {
        "id": "vXQfDSK3mZkY"
      },
      "outputs": [
        {
          "name": "stderr",
          "output_type": "stream",
          "text": [
            "C:\\Users\\admin\\AppData\\Local\\Temp\\ipykernel_7304\\871887075.py:6: FutureWarning: Downcasting behavior in `replace` is deprecated and will be removed in a future version. To retain the old behavior, explicitly call `result.infer_objects(copy=False)`. To opt-in to the future behavior, set `pd.set_option('future.no_silent_downcasting', True)`\n",
            "  df[columns_to_convert] = df[columns_to_convert].replace({True: 1, False: 0})\n"
          ]
        }
      ],
      "source": [
        "columns_to_convert = ['Religion_Buddhist', 'Religion_Christian', 'Religion_Hindu',\n",
        "       'Religion_Islam', 'Religion_Other',\n",
        "       'Locality_Rural/Village', 'Locality_Urban/Big city',\n",
        "       'Locality_Urban/Small city']\n",
        "\n",
        "df[columns_to_convert] = df[columns_to_convert].replace({True: 1, False: 0})"
      ]
    },
    {
      "cell_type": "code",
      "execution_count": 191,
      "metadata": {
        "id": "9P_8ynjbmZmz"
      },
      "outputs": [],
      "source": [
        "##encoding mothly income\n",
        "df.rename(columns={' monthly household income \\n': 'Monthly Income'}, inplace=True)\n",
        "\n",
        "\n"
      ]
    },
    {
      "cell_type": "code",
      "execution_count": 192,
      "metadata": {
        "id": "4QPX6YR9yt6A"
      },
      "outputs": [],
      "source": [
        "from sklearn.preprocessing import OrdinalEncoder\n",
        "\n",
        "# Define the order of categories based on their ordinal relationship\n",
        "income_order = ['Over Rs. 50001', 'Rs. 20,000 to Rs. 50,000',\n",
        "       'Rs. 10,001 - Rs. 20,000', 'Up to Rs.10,000']\n",
        "\n",
        "# Initialize OrdinalEncoder with specified order\n",
        "ordinal_encoder = OrdinalEncoder(categories=[income_order])\n",
        "\n",
        "# Apply ordinal encoding to the 'monthly household income' column\n",
        "df['Income'] = ordinal_encoder.fit_transform(df[['Monthly Income']])\n",
        "\n"
      ]
    },
    {
      "cell_type": "code",
      "execution_count": 193,
      "metadata": {
        "id": "7EOyzCA6yt8m"
      },
      "outputs": [],
      "source": [
        "df.drop(columns=['Monthly Income'],inplace=True)"
      ]
    },
    {
      "cell_type": "code",
      "execution_count": 194,
      "metadata": {
        "colab": {
          "base_uri": "https://localhost:8080/",
          "height": 637
        },
        "id": "J991K32I2JAs",
        "outputId": "c4ded507-2183-424d-a1c3-416e9b60410c"
      },
      "outputs": [
        {
          "data": {
            "text/html": [
              "<div>\n",
              "<style scoped>\n",
              "    .dataframe tbody tr th:only-of-type {\n",
              "        vertical-align: middle;\n",
              "    }\n",
              "\n",
              "    .dataframe tbody tr th {\n",
              "        vertical-align: top;\n",
              "    }\n",
              "\n",
              "    .dataframe thead th {\n",
              "        text-align: right;\n",
              "    }\n",
              "</style>\n",
              "<table border=\"1\" class=\"dataframe\">\n",
              "  <thead>\n",
              "    <tr style=\"text-align: right;\">\n",
              "      <th></th>\n",
              "      <th>Will you vote in upcoming elections?\\n</th>\n",
              "      <th>traditionaly supported\\n</th>\n",
              "      <th>party/alliance currently in a stronger position ? \\n</th>\n",
              "      <th>If Lok Sabha elections are held tomorrow ,which party will you vote for? \\n</th>\n",
              "      <th>most important election issue for you?</th>\n",
              "      <th>issues vs person?</th>\n",
              "      <th>Voting Priorities?\"</th>\n",
              "      <th>MP Satisfaction?\"</th>\n",
              "      <th>\"MP Performance Rating?\"\\n\\n\\n\\n</th>\n",
              "      <th>current Govt. Satisfaction?</th>\n",
              "      <th>...</th>\n",
              "      <th>Occupation:\\n_Unemployed</th>\n",
              "      <th>Religion_Buddhist</th>\n",
              "      <th>Religion_Christian</th>\n",
              "      <th>Religion_Hindu</th>\n",
              "      <th>Religion_Islam</th>\n",
              "      <th>Religion_Other</th>\n",
              "      <th>Locality_Rural/Village</th>\n",
              "      <th>Locality_Urban/Big city</th>\n",
              "      <th>Locality_Urban/Small city</th>\n",
              "      <th>Income</th>\n",
              "    </tr>\n",
              "  </thead>\n",
              "  <tbody>\n",
              "    <tr>\n",
              "      <th>0</th>\n",
              "      <td>Yes</td>\n",
              "      <td>party from National Democratic Alliance (ND)</td>\n",
              "      <td>BJP</td>\n",
              "      <td>party from National Democratic Alliance (ND)</td>\n",
              "      <td>Can't Say</td>\n",
              "      <td>Election issues</td>\n",
              "      <td>The performance the political party</td>\n",
              "      <td>No</td>\n",
              "      <td>Good</td>\n",
              "      <td>Yes</td>\n",
              "      <td>...</td>\n",
              "      <td>0</td>\n",
              "      <td>0</td>\n",
              "      <td>0</td>\n",
              "      <td>1</td>\n",
              "      <td>0</td>\n",
              "      <td>0</td>\n",
              "      <td>0</td>\n",
              "      <td>1</td>\n",
              "      <td>0</td>\n",
              "      <td>0.0</td>\n",
              "    </tr>\n",
              "    <tr>\n",
              "      <th>1</th>\n",
              "      <td>Yes</td>\n",
              "      <td>Congress</td>\n",
              "      <td>BJP</td>\n",
              "      <td>Congress</td>\n",
              "      <td>Price rise /inflation</td>\n",
              "      <td>political leader's face/personality</td>\n",
              "      <td>The performance of the candidate/MP.</td>\n",
              "      <td>No</td>\n",
              "      <td>Poor</td>\n",
              "      <td>Yes</td>\n",
              "      <td>...</td>\n",
              "      <td>0</td>\n",
              "      <td>0</td>\n",
              "      <td>0</td>\n",
              "      <td>1</td>\n",
              "      <td>0</td>\n",
              "      <td>0</td>\n",
              "      <td>0</td>\n",
              "      <td>1</td>\n",
              "      <td>0</td>\n",
              "      <td>0.0</td>\n",
              "    </tr>\n",
              "    <tr>\n",
              "      <th>2</th>\n",
              "      <td>Yes</td>\n",
              "      <td>party from National Democratic Alliance (ND)</td>\n",
              "      <td>Indian National Developmental Inclusive Allian...</td>\n",
              "      <td>party from Indian National Developmental Inclu...</td>\n",
              "      <td>Unemployment</td>\n",
              "      <td>Election issues</td>\n",
              "      <td>The performance of the Prime Minister</td>\n",
              "      <td>No Response</td>\n",
              "      <td>Good</td>\n",
              "      <td>Yes</td>\n",
              "      <td>...</td>\n",
              "      <td>0</td>\n",
              "      <td>0</td>\n",
              "      <td>1</td>\n",
              "      <td>0</td>\n",
              "      <td>0</td>\n",
              "      <td>0</td>\n",
              "      <td>0</td>\n",
              "      <td>0</td>\n",
              "      <td>1</td>\n",
              "      <td>1.0</td>\n",
              "    </tr>\n",
              "    <tr>\n",
              "      <th>3</th>\n",
              "      <td>Yes</td>\n",
              "      <td>party from National Democratic Alliance (ND)</td>\n",
              "      <td>BJP</td>\n",
              "      <td>party from National Democratic Alliance (ND)</td>\n",
              "      <td>Farmer distress</td>\n",
              "      <td>political leader's face/personality</td>\n",
              "      <td>The performance of the candidate/MP.</td>\n",
              "      <td>No</td>\n",
              "      <td>Very poor</td>\n",
              "      <td>No</td>\n",
              "      <td>...</td>\n",
              "      <td>0</td>\n",
              "      <td>0</td>\n",
              "      <td>0</td>\n",
              "      <td>0</td>\n",
              "      <td>1</td>\n",
              "      <td>0</td>\n",
              "      <td>1</td>\n",
              "      <td>0</td>\n",
              "      <td>0</td>\n",
              "      <td>2.0</td>\n",
              "    </tr>\n",
              "    <tr>\n",
              "      <th>5</th>\n",
              "      <td>Yes</td>\n",
              "      <td>party from National Democratic Alliance (ND)</td>\n",
              "      <td>BJP</td>\n",
              "      <td>Aam Aadmi Party</td>\n",
              "      <td>Discrimination against women, Crimes against w...</td>\n",
              "      <td>Other</td>\n",
              "      <td>The performance of the candidate/MP.</td>\n",
              "      <td>Yes</td>\n",
              "      <td>Good</td>\n",
              "      <td>Yes</td>\n",
              "      <td>...</td>\n",
              "      <td>0</td>\n",
              "      <td>1</td>\n",
              "      <td>0</td>\n",
              "      <td>0</td>\n",
              "      <td>0</td>\n",
              "      <td>0</td>\n",
              "      <td>0</td>\n",
              "      <td>0</td>\n",
              "      <td>1</td>\n",
              "      <td>1.0</td>\n",
              "    </tr>\n",
              "  </tbody>\n",
              "</table>\n",
              "<p>5 rows × 31 columns</p>\n",
              "</div>"
            ],
            "text/plain": [
              "   Will you vote in upcoming elections?\\n  \\\n",
              "0                                     Yes   \n",
              "1                                     Yes   \n",
              "2                                     Yes   \n",
              "3                                     Yes   \n",
              "5                                     Yes   \n",
              "\n",
              "                       traditionaly supported\\n  \\\n",
              "0  party from National Democratic Alliance (ND)   \n",
              "1                                      Congress   \n",
              "2  party from National Democratic Alliance (ND)   \n",
              "3  party from National Democratic Alliance (ND)   \n",
              "5  party from National Democratic Alliance (ND)   \n",
              "\n",
              "  party/alliance currently in a stronger position ? \\n  \\\n",
              "0                                                BJP     \n",
              "1                                                BJP     \n",
              "2  Indian National Developmental Inclusive Allian...     \n",
              "3                                                BJP     \n",
              "5                                                BJP     \n",
              "\n",
              "   If Lok Sabha elections are held tomorrow ,which party will you vote for? \\n  \\\n",
              "0       party from National Democratic Alliance (ND)                             \n",
              "1                                           Congress                             \n",
              "2  party from Indian National Developmental Inclu...                             \n",
              "3       party from National Democratic Alliance (ND)                             \n",
              "5                                    Aam Aadmi Party                             \n",
              "\n",
              "              most important election issue for you?  \\\n",
              "0                                          Can't Say   \n",
              "1                              Price rise /inflation   \n",
              "2                                       Unemployment   \n",
              "3                                    Farmer distress   \n",
              "5  Discrimination against women, Crimes against w...   \n",
              "\n",
              "                     issues vs person?                    Voting Priorities?\"  \\\n",
              "0                      Election issues    The performance the political party   \n",
              "1  political leader's face/personality   The performance of the candidate/MP.   \n",
              "2                      Election issues  The performance of the Prime Minister   \n",
              "3  political leader's face/personality   The performance of the candidate/MP.   \n",
              "5                                Other   The performance of the candidate/MP.   \n",
              "\n",
              "  MP Satisfaction?\" \"MP Performance Rating?\"\\n\\n\\n\\n  \\\n",
              "0                No                             Good   \n",
              "1                No                             Poor   \n",
              "2       No Response                             Good   \n",
              "3                No                        Very poor   \n",
              "5               Yes                             Good   \n",
              "\n",
              "  current Govt. Satisfaction?  ...  Occupation:\\n_Unemployed  \\\n",
              "0                         Yes  ...                         0   \n",
              "1                         Yes  ...                         0   \n",
              "2                         Yes  ...                         0   \n",
              "3                          No  ...                         0   \n",
              "5                         Yes  ...                         0   \n",
              "\n",
              "   Religion_Buddhist  Religion_Christian  Religion_Hindu  Religion_Islam  \\\n",
              "0                  0                   0               1               0   \n",
              "1                  0                   0               1               0   \n",
              "2                  0                   1               0               0   \n",
              "3                  0                   0               0               1   \n",
              "5                  1                   0               0               0   \n",
              "\n",
              "   Religion_Other  Locality_Rural/Village  Locality_Urban/Big city  \\\n",
              "0               0                       0                        1   \n",
              "1               0                       0                        1   \n",
              "2               0                       0                        0   \n",
              "3               0                       1                        0   \n",
              "5               0                       0                        0   \n",
              "\n",
              "   Locality_Urban/Small city  Income  \n",
              "0                          0     0.0  \n",
              "1                          0     0.0  \n",
              "2                          1     1.0  \n",
              "3                          0     2.0  \n",
              "5                          1     1.0  \n",
              "\n",
              "[5 rows x 31 columns]"
            ]
          },
          "execution_count": 194,
          "metadata": {},
          "output_type": "execute_result"
        }
      ],
      "source": [
        "df.head()"
      ]
    },
    {
      "cell_type": "code",
      "execution_count": 195,
      "metadata": {
        "id": "HQGC1Aelyt_A"
      },
      "outputs": [],
      "source": [
        "df['will vote']=df[' Will you vote in upcoming elections?\\n']"
      ]
    },
    {
      "cell_type": "code",
      "execution_count": 196,
      "metadata": {
        "id": "9cnsJP7qyuBk"
      },
      "outputs": [],
      "source": [
        "df.drop(columns=[' Will you vote in upcoming elections?\\n'],inplace=True)"
      ]
    },
    {
      "cell_type": "code",
      "execution_count": 197,
      "metadata": {
        "id": "YGG1iem3yuEd"
      },
      "outputs": [
        {
          "name": "stderr",
          "output_type": "stream",
          "text": [
            "C:\\Users\\admin\\AppData\\Local\\Temp\\ipykernel_7304\\1128469734.py:1: FutureWarning: Downcasting behavior in `replace` is deprecated and will be removed in a future version. To retain the old behavior, explicitly call `result.infer_objects(copy=False)`. To opt-in to the future behavior, set `pd.set_option('future.no_silent_downcasting', True)`\n",
            "  df['will vote'] = df['will vote'].replace({'Yes': 1, 'No': 0})\n"
          ]
        }
      ],
      "source": [
        "df['will vote'] = df['will vote'].replace({'Yes': 1, 'No': 0})\n"
      ]
    },
    {
      "cell_type": "code",
      "execution_count": 198,
      "metadata": {
        "id": "gXNuyyhxyuHM"
      },
      "outputs": [],
      "source": [
        "###"
      ]
    },
    {
      "cell_type": "code",
      "execution_count": 199,
      "metadata": {
        "id": "JgE3tO1lmZpf"
      },
      "outputs": [],
      "source": [
        "df.columns=['trad_supp',\n",
        "       'current_strong_pos',\n",
        "       'your_vote_for',\n",
        "       'imp_issue', 'issues vs personality?',\n",
        "       'Voting Priorities', 'MP Satisfaction?',\n",
        "       'MP Performance Rating', 'current Govt. Satisfaction',\n",
        "       're_elect govt', 'Gender_male', 'Age', 'Educational Qualification',\n",
        "       ' Occupation_Employed (Govt.)', ' Occupation_Farmer',\n",
        "       ' Occupation_Homemaker', ' Occupation_Other',\n",
        "       ' Occupation_Retired', ' Occupation_Self-employed',\n",
        "       ' Occupation_Student', ' Occupation_Unemployed','Religion_Buddhist', 'Religion_Christian', 'Religion_Hindu',\n",
        "       'Religion_Islam', 'Religion_Other', 'Locality_Rural/Village',\n",
        "       'Locality_Urban/Big city', 'Locality_Urban/Small city', 'Income',\n",
        "       'will vote']"
      ]
    },
    {
      "cell_type": "code",
      "execution_count": 200,
      "metadata": {
        "colab": {
          "base_uri": "https://localhost:8080/"
        },
        "id": "JLnDCB1AyuKk",
        "outputId": "dc536b26-13df-4490-b42b-f183a8233d37"
      },
      "outputs": [
        {
          "data": {
            "text/plain": [
              "Index(['trad_supp', 'current_strong_pos', 'your_vote_for', 'imp_issue',\n",
              "       'issues vs personality?', 'Voting Priorities', 'MP Satisfaction?',\n",
              "       'MP Performance Rating', 'current Govt. Satisfaction', 're_elect govt',\n",
              "       'Gender_male', 'Age', 'Educational Qualification',\n",
              "       ' Occupation_Employed (Govt.)', ' Occupation_Farmer',\n",
              "       ' Occupation_Homemaker', ' Occupation_Other', ' Occupation_Retired',\n",
              "       ' Occupation_Self-employed', ' Occupation_Student',\n",
              "       ' Occupation_Unemployed', 'Religion_Buddhist', 'Religion_Christian',\n",
              "       'Religion_Hindu', 'Religion_Islam', 'Religion_Other',\n",
              "       'Locality_Rural/Village', 'Locality_Urban/Big city',\n",
              "       'Locality_Urban/Small city', 'Income', 'will vote'],\n",
              "      dtype='object')"
            ]
          },
          "execution_count": 200,
          "metadata": {},
          "output_type": "execute_result"
        }
      ],
      "source": [
        "df.columns"
      ]
    },
    {
      "cell_type": "code",
      "execution_count": 201,
      "metadata": {
        "colab": {
          "base_uri": "https://localhost:8080/"
        },
        "id": "tZz8zdaf8_gF",
        "outputId": "9e8463ea-5081-4cf4-8add-362878267e55"
      },
      "outputs": [
        {
          "data": {
            "text/plain": [
              "364"
            ]
          },
          "execution_count": 201,
          "metadata": {},
          "output_type": "execute_result"
        }
      ],
      "source": [
        "df.shape[0]"
      ]
    },
    {
      "cell_type": "code",
      "execution_count": 202,
      "metadata": {
        "colab": {
          "base_uri": "https://localhost:8080/"
        },
        "id": "T5DRI3oNmZvC",
        "outputId": "b3c131a5-260e-44eb-b778-7b7439d022b7"
      },
      "outputs": [
        {
          "data": {
            "text/plain": [
              "array(['party from National Democratic Alliance (ND)', 'Congress',\n",
              "       'party from Indian National Developmental Inclusive Alliance (INDIA)',\n",
              "       'BJP', 'Aam Aadmi Party', 'No party'], dtype=object)"
            ]
          },
          "execution_count": 202,
          "metadata": {},
          "output_type": "execute_result"
        }
      ],
      "source": [
        "##traditionally supported encoding\n",
        "df['trad_supp'].unique()"
      ]
    },
    {
      "cell_type": "code",
      "execution_count": 203,
      "metadata": {
        "id": "0RhhDOcbmZyP"
      },
      "outputs": [],
      "source": [
        "df=df[df['trad_supp'] != 'No party']\n"
      ]
    },
    {
      "cell_type": "code",
      "execution_count": 204,
      "metadata": {
        "id": "vPf62tSP9G3U"
      },
      "outputs": [],
      "source": [
        "df=pd.get_dummies(df,columns=['trad_supp'])"
      ]
    },
    {
      "cell_type": "code",
      "execution_count": 205,
      "metadata": {
        "id": "xBLvBw8N--ix"
      },
      "outputs": [],
      "source": [
        "map={\n",
        "    'trad_supp_Aam Aadmi Party':'trad_AAP',\n",
        "    'trad_supp_BJP':'trad_BJP'\t,\n",
        "    'trad_supp_Congress':'trad_congress',\n",
        "    'trad_supp_party from Indian National Developmental Inclusive Alliance (INDIA)':'trad_india',\n",
        "    'trad_supp_party from National Democratic Alliance (ND)':'trad_nda'\n",
        "}\n",
        "\n",
        "df=df.rename(columns=map)"
      ]
    },
    {
      "cell_type": "code",
      "execution_count": 206,
      "metadata": {
        "colab": {
          "base_uri": "https://localhost:8080/"
        },
        "id": "oemV6G9W--lS",
        "outputId": "01de3f60-d415-4afb-ed3a-27f0d5b11115"
      },
      "outputs": [
        {
          "data": {
            "text/plain": [
              "array(['BJP', 'Indian National Developmental Inclusive Alliance (INDIA)',\n",
              "       'National Democratic Alliance (NDA)', 'Aam Aadmi Party',\n",
              "       'Congress'], dtype=object)"
            ]
          },
          "execution_count": 206,
          "metadata": {},
          "output_type": "execute_result"
        }
      ],
      "source": [
        "##curent strong\n",
        "df['current_strong_pos'].unique()"
      ]
    },
    {
      "cell_type": "code",
      "execution_count": 207,
      "metadata": {
        "id": "SjgUGKPu--nt"
      },
      "outputs": [],
      "source": [
        "df=pd.get_dummies(df,columns=['current_strong_pos'])"
      ]
    },
    {
      "cell_type": "code",
      "execution_count": 208,
      "metadata": {
        "id": "0vbkMt76--qp"
      },
      "outputs": [],
      "source": [
        "map2={\n",
        "    'current_strong_pos_Aam Aadmi Party':'strg_aap',\n",
        "    'current_strong_pos_BJP':'strg_bjp',\n",
        "    'current_strong_pos_Congress':'strg_congress',\n",
        "    'current_strong_pos_Indian National Developmental Inclusive Alliance (INDIA)':'strg_india',\n",
        "    'current_strong_pos_National Democratic Alliance (NDA)':'strg_nda'\n",
        "}\n",
        "\n",
        "df=df.rename(columns=map2)"
      ]
    },
    {
      "cell_type": "code",
      "execution_count": 209,
      "metadata": {
        "colab": {
          "base_uri": "https://localhost:8080/"
        },
        "id": "LOPx7NJKC2yi",
        "outputId": "51de2c96-33d0-48f8-ea4e-5bb4c1c8fd37"
      },
      "outputs": [
        {
          "data": {
            "text/plain": [
              "array(['party from National Democratic Alliance (ND)', 'Congress',\n",
              "       'party from Indian National Developmental Inclusive Alliance (INDIA)',\n",
              "       'Aam Aadmi Party', 'BJP'], dtype=object)"
            ]
          },
          "execution_count": 209,
          "metadata": {},
          "output_type": "execute_result"
        }
      ],
      "source": [
        "##your vote encoding\n",
        "df['your_vote_for'].unique()"
      ]
    },
    {
      "cell_type": "code",
      "execution_count": 210,
      "metadata": {
        "id": "VOXTgmxH--tz"
      },
      "outputs": [],
      "source": [
        "df=pd.get_dummies(df,columns=['your_vote_for'])\n",
        "\n"
      ]
    },
    {
      "cell_type": "code",
      "execution_count": 211,
      "metadata": {
        "id": "1mxDHPvw--wK"
      },
      "outputs": [],
      "source": [
        "map3={\n",
        "    'your_vote_for_Aam Aadmi Party':'vote_aap',\n",
        "    'your_vote_for_BJP':'vote_bjp',\n",
        "    'your_vote_for_Congress':'vote_congress',\n",
        "    'your_vote_for_party from Indian National Developmental Inclusive Alliance (INDIA)':'vote_india',\n",
        "    'your_vote_for_party from National Democratic Alliance (ND)':'vote_nda'\n",
        "\n",
        "}\n",
        "\n",
        "df=df.rename(columns=map3)"
      ]
    },
    {
      "cell_type": "code",
      "execution_count": 212,
      "metadata": {
        "colab": {
          "base_uri": "https://localhost:8080/"
        },
        "id": "p7-TXeYG--yv",
        "outputId": "6f48fdce-d846-432b-f5d7-b44f720f0536"
      },
      "outputs": [
        {
          "data": {
            "text/plain": [
              "array(['Election issues', \"political leader's face/personality\", 'Other'],\n",
              "      dtype=object)"
            ]
          },
          "execution_count": 212,
          "metadata": {},
          "output_type": "execute_result"
        }
      ],
      "source": [
        "##isuues vs personality encoding\n",
        "df['issues vs personality?'].unique()"
      ]
    },
    {
      "cell_type": "code",
      "execution_count": 213,
      "metadata": {
        "id": "JSzeQ9Co--08"
      },
      "outputs": [],
      "source": [
        "df=pd.get_dummies(df,columns=['issues vs personality?'])\n"
      ]
    },
    {
      "cell_type": "code",
      "execution_count": 214,
      "metadata": {
        "id": "fTl3YNMY--3l"
      },
      "outputs": [],
      "source": [
        "map4={\n",
        "    'issues vs personality?_Election issues':'electn_isuues',\n",
        "    'issues vs personality?_Other':'other',\n",
        "    \"issues vs personality?_political leader's face/personality\":\"leader\"\n",
        "\n",
        "}\n",
        "\n",
        "df=df.rename(columns=map4)"
      ]
    },
    {
      "cell_type": "code",
      "execution_count": 215,
      "metadata": {
        "colab": {
          "base_uri": "https://localhost:8080/"
        },
        "id": "mMA2Oc3mRxIu",
        "outputId": "4245c6d5-dbf4-482c-d787-507888a20f8f"
      },
      "outputs": [
        {
          "data": {
            "text/plain": [
              "array(['No', 'No Response', 'Yes'], dtype=object)"
            ]
          },
          "execution_count": 215,
          "metadata": {},
          "output_type": "execute_result"
        }
      ],
      "source": [
        "##encoding mps satisfaction\n",
        "df['MP Satisfaction?'].unique()\n"
      ]
    },
    {
      "cell_type": "code",
      "execution_count": 216,
      "metadata": {
        "colab": {
          "base_uri": "https://localhost:8080/"
        },
        "id": "vl26oPHSEqrb",
        "outputId": "2914e24d-f2e2-4abb-8c1b-b3caecf754bb"
      },
      "outputs": [
        {
          "data": {
            "text/plain": [
              "28"
            ]
          },
          "execution_count": 216,
          "metadata": {},
          "output_type": "execute_result"
        }
      ],
      "source": [
        "m = len(df[df['MP Satisfaction?'] == 'No Response'])\n",
        "m"
      ]
    },
    {
      "cell_type": "code",
      "execution_count": 217,
      "metadata": {
        "id": "g8RvZKvKDkZV"
      },
      "outputs": [],
      "source": [
        "most_frequent_value = df['MP Satisfaction?'].mode()[0]\n",
        "entry_to_replace = 'No Response'\n",
        "df.loc[df['MP Satisfaction?'] == entry_to_replace, 'MP Satisfaction?'] = most_frequent_value"
      ]
    },
    {
      "cell_type": "code",
      "execution_count": 218,
      "metadata": {
        "id": "sYMHKyH7DnMd"
      },
      "outputs": [
        {
          "name": "stderr",
          "output_type": "stream",
          "text": [
            "C:\\Users\\admin\\AppData\\Local\\Temp\\ipykernel_7304\\2652121640.py:1: FutureWarning: Downcasting behavior in `replace` is deprecated and will be removed in a future version. To retain the old behavior, explicitly call `result.infer_objects(copy=False)`. To opt-in to the future behavior, set `pd.set_option('future.no_silent_downcasting', True)`\n",
            "  df['MP Satisfaction?'] = df['MP Satisfaction?'].replace({'Yes': 1, 'No': 0})\n"
          ]
        }
      ],
      "source": [
        "df['MP Satisfaction?'] = df['MP Satisfaction?'].replace({'Yes': 1, 'No': 0})\n"
      ]
    },
    {
      "cell_type": "code",
      "execution_count": null,
      "metadata": {
        "id": "b6o_ZcK5Dkc4"
      },
      "outputs": [],
      "source": []
    },
    {
      "cell_type": "code",
      "execution_count": 219,
      "metadata": {
        "colab": {
          "base_uri": "https://localhost:8080/"
        },
        "id": "-4XTFqHnRXek",
        "outputId": "22e257d6-061f-4d33-f4e0-8f14207df941"
      },
      "outputs": [
        {
          "data": {
            "text/plain": [
              "array(['Good', 'Poor', 'Very poor', 'No Response', 'Satisfactory',\n",
              "       'Excellent'], dtype=object)"
            ]
          },
          "execution_count": 219,
          "metadata": {},
          "output_type": "execute_result"
        }
      ],
      "source": [
        "##encoding 'MP Performance Rating'\n",
        "df['MP Performance Rating'].unique()"
      ]
    },
    {
      "cell_type": "code",
      "execution_count": 220,
      "metadata": {
        "colab": {
          "base_uri": "https://localhost:8080/"
        },
        "id": "DH4KrJfpRmJQ",
        "outputId": "7afaaf66-34bc-40e6-90ce-3b4b97de50aa"
      },
      "outputs": [
        {
          "data": {
            "text/plain": [
              "23"
            ]
          },
          "execution_count": 220,
          "metadata": {},
          "output_type": "execute_result"
        }
      ],
      "source": [
        "m = len(df[df['MP Performance Rating'] == 'No Response'])\n",
        "m"
      ]
    },
    {
      "cell_type": "code",
      "execution_count": 221,
      "metadata": {
        "id": "g8KDBgZSRxF4"
      },
      "outputs": [],
      "source": [
        "most_frequent_value = df['MP Performance Rating'].mode()[0]\n",
        "entry_to_replace = 'No Response'\n",
        "df.loc[df['MP Performance Rating'] == entry_to_replace, 'MP Performance Rating'] = most_frequent_value\n"
      ]
    },
    {
      "cell_type": "code",
      "execution_count": 222,
      "metadata": {
        "id": "ZoyUy9swRxLF"
      },
      "outputs": [],
      "source": [
        "ordinal_mapping = {\n",
        "    'Very poor': 1,\n",
        "    'Poor': 2,\n",
        "    'Satisfactory': 3,\n",
        "    'Good': 4,\n",
        "    'Excellent': 5\n",
        "}\n",
        "\n",
        "df['MP Performance Rating'] = df['MP Performance Rating'].map(ordinal_mapping)\n"
      ]
    },
    {
      "cell_type": "code",
      "execution_count": 223,
      "metadata": {
        "colab": {
          "base_uri": "https://localhost:8080/",
          "height": 567
        },
        "id": "sLVfoQ0XmZsJ",
        "outputId": "658bd484-68ec-45b9-98f1-1499d7621eb0"
      },
      "outputs": [
        {
          "data": {
            "text/html": [
              "<div>\n",
              "<style scoped>\n",
              "    .dataframe tbody tr th:only-of-type {\n",
              "        vertical-align: middle;\n",
              "    }\n",
              "\n",
              "    .dataframe tbody tr th {\n",
              "        vertical-align: top;\n",
              "    }\n",
              "\n",
              "    .dataframe thead th {\n",
              "        text-align: right;\n",
              "    }\n",
              "</style>\n",
              "<table border=\"1\" class=\"dataframe\">\n",
              "  <thead>\n",
              "    <tr style=\"text-align: right;\">\n",
              "      <th></th>\n",
              "      <th>imp_issue</th>\n",
              "      <th>Voting Priorities</th>\n",
              "      <th>MP Satisfaction?</th>\n",
              "      <th>MP Performance Rating</th>\n",
              "      <th>current Govt. Satisfaction</th>\n",
              "      <th>re_elect govt</th>\n",
              "      <th>Gender_male</th>\n",
              "      <th>Age</th>\n",
              "      <th>Educational Qualification</th>\n",
              "      <th>Occupation_Employed (Govt.)</th>\n",
              "      <th>...</th>\n",
              "      <th>strg_india</th>\n",
              "      <th>strg_nda</th>\n",
              "      <th>vote_aap</th>\n",
              "      <th>vote_bjp</th>\n",
              "      <th>vote_congress</th>\n",
              "      <th>vote_india</th>\n",
              "      <th>vote_nda</th>\n",
              "      <th>electn_isuues</th>\n",
              "      <th>other</th>\n",
              "      <th>leader</th>\n",
              "    </tr>\n",
              "  </thead>\n",
              "  <tbody>\n",
              "    <tr>\n",
              "      <th>0</th>\n",
              "      <td>Can't Say</td>\n",
              "      <td>The performance the political party</td>\n",
              "      <td>0</td>\n",
              "      <td>4</td>\n",
              "      <td>Yes</td>\n",
              "      <td>Yes</td>\n",
              "      <td>1</td>\n",
              "      <td>1.0</td>\n",
              "      <td>5</td>\n",
              "      <td>0</td>\n",
              "      <td>...</td>\n",
              "      <td>False</td>\n",
              "      <td>False</td>\n",
              "      <td>False</td>\n",
              "      <td>False</td>\n",
              "      <td>False</td>\n",
              "      <td>False</td>\n",
              "      <td>True</td>\n",
              "      <td>True</td>\n",
              "      <td>False</td>\n",
              "      <td>False</td>\n",
              "    </tr>\n",
              "    <tr>\n",
              "      <th>1</th>\n",
              "      <td>Price rise /inflation</td>\n",
              "      <td>The performance of the candidate/MP.</td>\n",
              "      <td>0</td>\n",
              "      <td>2</td>\n",
              "      <td>Yes</td>\n",
              "      <td>Yes</td>\n",
              "      <td>1</td>\n",
              "      <td>1.0</td>\n",
              "      <td>4</td>\n",
              "      <td>0</td>\n",
              "      <td>...</td>\n",
              "      <td>False</td>\n",
              "      <td>False</td>\n",
              "      <td>False</td>\n",
              "      <td>False</td>\n",
              "      <td>True</td>\n",
              "      <td>False</td>\n",
              "      <td>False</td>\n",
              "      <td>False</td>\n",
              "      <td>False</td>\n",
              "      <td>True</td>\n",
              "    </tr>\n",
              "    <tr>\n",
              "      <th>2</th>\n",
              "      <td>Unemployment</td>\n",
              "      <td>The performance of the Prime Minister</td>\n",
              "      <td>0</td>\n",
              "      <td>4</td>\n",
              "      <td>Yes</td>\n",
              "      <td>No</td>\n",
              "      <td>0</td>\n",
              "      <td>3.0</td>\n",
              "      <td>2</td>\n",
              "      <td>0</td>\n",
              "      <td>...</td>\n",
              "      <td>True</td>\n",
              "      <td>False</td>\n",
              "      <td>False</td>\n",
              "      <td>False</td>\n",
              "      <td>False</td>\n",
              "      <td>True</td>\n",
              "      <td>False</td>\n",
              "      <td>True</td>\n",
              "      <td>False</td>\n",
              "      <td>False</td>\n",
              "    </tr>\n",
              "    <tr>\n",
              "      <th>3</th>\n",
              "      <td>Farmer distress</td>\n",
              "      <td>The performance of the candidate/MP.</td>\n",
              "      <td>0</td>\n",
              "      <td>1</td>\n",
              "      <td>No</td>\n",
              "      <td>No</td>\n",
              "      <td>0</td>\n",
              "      <td>4.0</td>\n",
              "      <td>0</td>\n",
              "      <td>0</td>\n",
              "      <td>...</td>\n",
              "      <td>False</td>\n",
              "      <td>False</td>\n",
              "      <td>False</td>\n",
              "      <td>False</td>\n",
              "      <td>False</td>\n",
              "      <td>False</td>\n",
              "      <td>True</td>\n",
              "      <td>False</td>\n",
              "      <td>False</td>\n",
              "      <td>True</td>\n",
              "    </tr>\n",
              "    <tr>\n",
              "      <th>5</th>\n",
              "      <td>Discrimination against women, Crimes against w...</td>\n",
              "      <td>The performance of the candidate/MP.</td>\n",
              "      <td>1</td>\n",
              "      <td>4</td>\n",
              "      <td>Yes</td>\n",
              "      <td>Yes</td>\n",
              "      <td>1</td>\n",
              "      <td>NaN</td>\n",
              "      <td>2</td>\n",
              "      <td>0</td>\n",
              "      <td>...</td>\n",
              "      <td>False</td>\n",
              "      <td>False</td>\n",
              "      <td>True</td>\n",
              "      <td>False</td>\n",
              "      <td>False</td>\n",
              "      <td>False</td>\n",
              "      <td>False</td>\n",
              "      <td>False</td>\n",
              "      <td>True</td>\n",
              "      <td>False</td>\n",
              "    </tr>\n",
              "  </tbody>\n",
              "</table>\n",
              "<p>5 rows × 45 columns</p>\n",
              "</div>"
            ],
            "text/plain": [
              "                                           imp_issue  \\\n",
              "0                                          Can't Say   \n",
              "1                              Price rise /inflation   \n",
              "2                                       Unemployment   \n",
              "3                                    Farmer distress   \n",
              "5  Discrimination against women, Crimes against w...   \n",
              "\n",
              "                       Voting Priorities  MP Satisfaction?  \\\n",
              "0    The performance the political party                 0   \n",
              "1   The performance of the candidate/MP.                 0   \n",
              "2  The performance of the Prime Minister                 0   \n",
              "3   The performance of the candidate/MP.                 0   \n",
              "5   The performance of the candidate/MP.                 1   \n",
              "\n",
              "   MP Performance Rating current Govt. Satisfaction re_elect govt  \\\n",
              "0                      4                        Yes           Yes   \n",
              "1                      2                        Yes           Yes   \n",
              "2                      4                        Yes            No   \n",
              "3                      1                         No            No   \n",
              "5                      4                        Yes           Yes   \n",
              "\n",
              "   Gender_male  Age  Educational Qualification   Occupation_Employed (Govt.)  \\\n",
              "0            1  1.0                          5                             0   \n",
              "1            1  1.0                          4                             0   \n",
              "2            0  3.0                          2                             0   \n",
              "3            0  4.0                          0                             0   \n",
              "5            1  NaN                          2                             0   \n",
              "\n",
              "   ...  strg_india  strg_nda  vote_aap  vote_bjp  vote_congress  vote_india  \\\n",
              "0  ...       False     False     False     False          False       False   \n",
              "1  ...       False     False     False     False           True       False   \n",
              "2  ...        True     False     False     False          False        True   \n",
              "3  ...       False     False     False     False          False       False   \n",
              "5  ...       False     False      True     False          False       False   \n",
              "\n",
              "   vote_nda  electn_isuues  other  leader  \n",
              "0      True           True  False   False  \n",
              "1     False          False  False    True  \n",
              "2     False           True  False   False  \n",
              "3      True          False  False    True  \n",
              "5     False          False   True   False  \n",
              "\n",
              "[5 rows x 45 columns]"
            ]
          },
          "execution_count": 223,
          "metadata": {},
          "output_type": "execute_result"
        }
      ],
      "source": [
        "df.head()"
      ]
    },
    {
      "cell_type": "code",
      "execution_count": 224,
      "metadata": {
        "colab": {
          "base_uri": "https://localhost:8080/"
        },
        "id": "-vATaXklRxNt",
        "outputId": "705ad5ab-4474-4377-dc99-b71ab4f79b64"
      },
      "outputs": [
        {
          "data": {
            "text/plain": [
              "array(['Yes', 'No'], dtype=object)"
            ]
          },
          "execution_count": 224,
          "metadata": {},
          "output_type": "execute_result"
        }
      ],
      "source": [
        "##encoding current gov\n",
        "df['current Govt. Satisfaction'].unique()"
      ]
    },
    {
      "cell_type": "code",
      "execution_count": 225,
      "metadata": {
        "id": "BJxNgQt5RxQL"
      },
      "outputs": [
        {
          "name": "stderr",
          "output_type": "stream",
          "text": [
            "C:\\Users\\admin\\AppData\\Local\\Temp\\ipykernel_7304\\741608000.py:1: FutureWarning: Downcasting behavior in `replace` is deprecated and will be removed in a future version. To retain the old behavior, explicitly call `result.infer_objects(copy=False)`. To opt-in to the future behavior, set `pd.set_option('future.no_silent_downcasting', True)`\n",
            "  df['current Govt. Satisfaction'] = df['current Govt. Satisfaction'].replace({'Yes': 1, 'No': 0})\n"
          ]
        }
      ],
      "source": [
        "df['current Govt. Satisfaction'] = df['current Govt. Satisfaction'].replace({'Yes': 1, 'No': 0})\n"
      ]
    },
    {
      "cell_type": "code",
      "execution_count": 226,
      "metadata": {
        "colab": {
          "base_uri": "https://localhost:8080/"
        },
        "id": "HhZJzzukRxS_",
        "outputId": "63ccf907-82c8-4a3b-db87-60ed30136b62"
      },
      "outputs": [
        {
          "data": {
            "text/plain": [
              "array(['Yes', 'No'], dtype=object)"
            ]
          },
          "execution_count": 226,
          "metadata": {},
          "output_type": "execute_result"
        }
      ],
      "source": [
        "##encoding reelct govt\n",
        "df['re_elect govt'].unique()"
      ]
    },
    {
      "cell_type": "code",
      "execution_count": 227,
      "metadata": {
        "id": "Nx73B6P0WUnw"
      },
      "outputs": [
        {
          "name": "stderr",
          "output_type": "stream",
          "text": [
            "C:\\Users\\admin\\AppData\\Local\\Temp\\ipykernel_7304\\3062950203.py:1: FutureWarning: Downcasting behavior in `replace` is deprecated and will be removed in a future version. To retain the old behavior, explicitly call `result.infer_objects(copy=False)`. To opt-in to the future behavior, set `pd.set_option('future.no_silent_downcasting', True)`\n",
            "  df['re_elect govt'] = df['re_elect govt'].replace({'Yes': 1, 'No': 0})\n"
          ]
        }
      ],
      "source": [
        "df['re_elect govt'] = df['re_elect govt'].replace({'Yes': 1, 'No': 0})\n"
      ]
    },
    {
      "cell_type": "code",
      "execution_count": 228,
      "metadata": {
        "id": "1a2IzjKdW_Co"
      },
      "outputs": [
        {
          "name": "stderr",
          "output_type": "stream",
          "text": [
            "C:\\Users\\admin\\AppData\\Local\\Temp\\ipykernel_7304\\2180546242.py:1: FutureWarning: Downcasting behavior in `replace` is deprecated and will be removed in a future version. To retain the old behavior, explicitly call `result.infer_objects(copy=False)`. To opt-in to the future behavior, set `pd.set_option('future.no_silent_downcasting', True)`\n",
            "  df = df.replace({True: 1, False: 0})\n"
          ]
        }
      ],
      "source": [
        "df = df.replace({True: 1, False: 0})\n"
      ]
    },
    {
      "cell_type": "markdown",
      "metadata": {
        "id": "PtGhXgMdXN3a"
      },
      "source": [
        "df is main file, now creating new  [dr2], dataset w/o 2 column (categorical)"
      ]
    },
    {
      "cell_type": "code",
      "execution_count": 229,
      "metadata": {
        "colab": {
          "base_uri": "https://localhost:8080/",
          "height": 290
        },
        "id": "8OEwxIlQXdV6",
        "outputId": "6c0517ab-b5b3-43a6-d1cd-98222f753726"
      },
      "outputs": [
        {
          "data": {
            "text/html": [
              "<div>\n",
              "<style scoped>\n",
              "    .dataframe tbody tr th:only-of-type {\n",
              "        vertical-align: middle;\n",
              "    }\n",
              "\n",
              "    .dataframe tbody tr th {\n",
              "        vertical-align: top;\n",
              "    }\n",
              "\n",
              "    .dataframe thead th {\n",
              "        text-align: right;\n",
              "    }\n",
              "</style>\n",
              "<table border=\"1\" class=\"dataframe\">\n",
              "  <thead>\n",
              "    <tr style=\"text-align: right;\">\n",
              "      <th></th>\n",
              "      <th>MP Satisfaction?</th>\n",
              "      <th>MP Performance Rating</th>\n",
              "      <th>current Govt. Satisfaction</th>\n",
              "      <th>re_elect govt</th>\n",
              "      <th>Gender_male</th>\n",
              "      <th>Age</th>\n",
              "      <th>Educational Qualification</th>\n",
              "      <th>Occupation_Employed (Govt.)</th>\n",
              "      <th>Occupation_Farmer</th>\n",
              "      <th>Occupation_Homemaker</th>\n",
              "      <th>...</th>\n",
              "      <th>strg_india</th>\n",
              "      <th>strg_nda</th>\n",
              "      <th>vote_aap</th>\n",
              "      <th>vote_bjp</th>\n",
              "      <th>vote_congress</th>\n",
              "      <th>vote_india</th>\n",
              "      <th>vote_nda</th>\n",
              "      <th>electn_isuues</th>\n",
              "      <th>other</th>\n",
              "      <th>leader</th>\n",
              "    </tr>\n",
              "  </thead>\n",
              "  <tbody>\n",
              "    <tr>\n",
              "      <th>0</th>\n",
              "      <td>0</td>\n",
              "      <td>4</td>\n",
              "      <td>1</td>\n",
              "      <td>1</td>\n",
              "      <td>1</td>\n",
              "      <td>1.0</td>\n",
              "      <td>5</td>\n",
              "      <td>0</td>\n",
              "      <td>0</td>\n",
              "      <td>0</td>\n",
              "      <td>...</td>\n",
              "      <td>0</td>\n",
              "      <td>0</td>\n",
              "      <td>0</td>\n",
              "      <td>0</td>\n",
              "      <td>0</td>\n",
              "      <td>0</td>\n",
              "      <td>1</td>\n",
              "      <td>1</td>\n",
              "      <td>0</td>\n",
              "      <td>0</td>\n",
              "    </tr>\n",
              "    <tr>\n",
              "      <th>1</th>\n",
              "      <td>0</td>\n",
              "      <td>2</td>\n",
              "      <td>1</td>\n",
              "      <td>1</td>\n",
              "      <td>1</td>\n",
              "      <td>1.0</td>\n",
              "      <td>4</td>\n",
              "      <td>0</td>\n",
              "      <td>0</td>\n",
              "      <td>0</td>\n",
              "      <td>...</td>\n",
              "      <td>0</td>\n",
              "      <td>0</td>\n",
              "      <td>0</td>\n",
              "      <td>0</td>\n",
              "      <td>1</td>\n",
              "      <td>0</td>\n",
              "      <td>0</td>\n",
              "      <td>0</td>\n",
              "      <td>0</td>\n",
              "      <td>1</td>\n",
              "    </tr>\n",
              "    <tr>\n",
              "      <th>2</th>\n",
              "      <td>0</td>\n",
              "      <td>4</td>\n",
              "      <td>1</td>\n",
              "      <td>0</td>\n",
              "      <td>0</td>\n",
              "      <td>3.0</td>\n",
              "      <td>2</td>\n",
              "      <td>0</td>\n",
              "      <td>0</td>\n",
              "      <td>0</td>\n",
              "      <td>...</td>\n",
              "      <td>1</td>\n",
              "      <td>0</td>\n",
              "      <td>0</td>\n",
              "      <td>0</td>\n",
              "      <td>0</td>\n",
              "      <td>1</td>\n",
              "      <td>0</td>\n",
              "      <td>1</td>\n",
              "      <td>0</td>\n",
              "      <td>0</td>\n",
              "    </tr>\n",
              "    <tr>\n",
              "      <th>3</th>\n",
              "      <td>0</td>\n",
              "      <td>1</td>\n",
              "      <td>0</td>\n",
              "      <td>0</td>\n",
              "      <td>0</td>\n",
              "      <td>4.0</td>\n",
              "      <td>0</td>\n",
              "      <td>0</td>\n",
              "      <td>1</td>\n",
              "      <td>0</td>\n",
              "      <td>...</td>\n",
              "      <td>0</td>\n",
              "      <td>0</td>\n",
              "      <td>0</td>\n",
              "      <td>0</td>\n",
              "      <td>0</td>\n",
              "      <td>0</td>\n",
              "      <td>1</td>\n",
              "      <td>0</td>\n",
              "      <td>0</td>\n",
              "      <td>1</td>\n",
              "    </tr>\n",
              "    <tr>\n",
              "      <th>5</th>\n",
              "      <td>1</td>\n",
              "      <td>4</td>\n",
              "      <td>1</td>\n",
              "      <td>1</td>\n",
              "      <td>1</td>\n",
              "      <td>NaN</td>\n",
              "      <td>2</td>\n",
              "      <td>0</td>\n",
              "      <td>0</td>\n",
              "      <td>0</td>\n",
              "      <td>...</td>\n",
              "      <td>0</td>\n",
              "      <td>0</td>\n",
              "      <td>1</td>\n",
              "      <td>0</td>\n",
              "      <td>0</td>\n",
              "      <td>0</td>\n",
              "      <td>0</td>\n",
              "      <td>0</td>\n",
              "      <td>1</td>\n",
              "      <td>0</td>\n",
              "    </tr>\n",
              "  </tbody>\n",
              "</table>\n",
              "<p>5 rows × 43 columns</p>\n",
              "</div>"
            ],
            "text/plain": [
              "   MP Satisfaction?  MP Performance Rating  current Govt. Satisfaction  \\\n",
              "0                 0                      4                           1   \n",
              "1                 0                      2                           1   \n",
              "2                 0                      4                           1   \n",
              "3                 0                      1                           0   \n",
              "5                 1                      4                           1   \n",
              "\n",
              "   re_elect govt  Gender_male  Age  Educational Qualification  \\\n",
              "0              1            1  1.0                          5   \n",
              "1              1            1  1.0                          4   \n",
              "2              0            0  3.0                          2   \n",
              "3              0            0  4.0                          0   \n",
              "5              1            1  NaN                          2   \n",
              "\n",
              "    Occupation_Employed (Govt.)   Occupation_Farmer   Occupation_Homemaker  \\\n",
              "0                             0                   0                      0   \n",
              "1                             0                   0                      0   \n",
              "2                             0                   0                      0   \n",
              "3                             0                   1                      0   \n",
              "5                             0                   0                      0   \n",
              "\n",
              "   ...  strg_india  strg_nda  vote_aap  vote_bjp  vote_congress  vote_india  \\\n",
              "0  ...           0         0         0         0              0           0   \n",
              "1  ...           0         0         0         0              1           0   \n",
              "2  ...           1         0         0         0              0           1   \n",
              "3  ...           0         0         0         0              0           0   \n",
              "5  ...           0         0         1         0              0           0   \n",
              "\n",
              "   vote_nda  electn_isuues  other  leader  \n",
              "0         1              1      0       0  \n",
              "1         0              0      0       1  \n",
              "2         0              1      0       0  \n",
              "3         1              0      0       1  \n",
              "5         0              0      1       0  \n",
              "\n",
              "[5 rows x 43 columns]"
            ]
          },
          "execution_count": 229,
          "metadata": {},
          "output_type": "execute_result"
        }
      ],
      "source": [
        "df2=df.drop(columns=['imp_issue','Voting Priorities'])\n",
        "df2.head()"
      ]
    },
    {
      "cell_type": "code",
      "execution_count": 230,
      "metadata": {
        "colab": {
          "base_uri": "https://localhost:8080/"
        },
        "id": "npOnzT_WYhN5",
        "outputId": "74d67624-643f-46eb-ffc3-0491cd675c81"
      },
      "outputs": [
        {
          "data": {
            "text/plain": [
              "MP Satisfaction?                 0\n",
              "MP Performance Rating            0\n",
              "current Govt. Satisfaction       0\n",
              "re_elect govt                    0\n",
              "Gender_male                      0\n",
              "Age                             42\n",
              "Educational Qualification        0\n",
              " Occupation_Employed (Govt.)     0\n",
              " Occupation_Farmer               0\n",
              " Occupation_Homemaker            0\n",
              " Occupation_Other                0\n",
              " Occupation_Retired              0\n",
              " Occupation_Self-employed        0\n",
              " Occupation_Student              0\n",
              " Occupation_Unemployed           0\n",
              "Religion_Buddhist                0\n",
              "Religion_Christian               0\n",
              "Religion_Hindu                   0\n",
              "Religion_Islam                   0\n",
              "Religion_Other                   0\n",
              "Locality_Rural/Village           0\n",
              "Locality_Urban/Big city          0\n",
              "Locality_Urban/Small city        0\n",
              "Income                           0\n",
              "will vote                        0\n",
              "trad_AAP                         0\n",
              "trad_BJP                         0\n",
              "trad_congress                    0\n",
              "trad_india                       0\n",
              "trad_nda                         0\n",
              "strg_aap                         0\n",
              "strg_bjp                         0\n",
              "strg_congress                    0\n",
              "strg_india                       0\n",
              "strg_nda                         0\n",
              "vote_aap                         0\n",
              "vote_bjp                         0\n",
              "vote_congress                    0\n",
              "vote_india                       0\n",
              "vote_nda                         0\n",
              "electn_isuues                    0\n",
              "other                            0\n",
              "leader                           0\n",
              "dtype: int64"
            ]
          },
          "execution_count": 230,
          "metadata": {},
          "output_type": "execute_result"
        }
      ],
      "source": [
        "df2.isnull().sum()"
      ]
    },
    {
      "cell_type": "code",
      "execution_count": 231,
      "metadata": {
        "id": "5yL2p9egFq9O"
      },
      "outputs": [],
      "source": [
        "column_mode = df2['Age'].mode()[0]"
      ]
    },
    {
      "cell_type": "code",
      "execution_count": 232,
      "metadata": {
        "id": "x4aUZxtRFrLc"
      },
      "outputs": [
        {
          "name": "stderr",
          "output_type": "stream",
          "text": [
            "C:\\Users\\admin\\AppData\\Local\\Temp\\ipykernel_7304\\2880018427.py:1: FutureWarning: A value is trying to be set on a copy of a DataFrame or Series through chained assignment using an inplace method.\n",
            "The behavior will change in pandas 3.0. This inplace method will never work because the intermediate object on which we are setting values always behaves as a copy.\n",
            "\n",
            "For example, when doing 'df[col].method(value, inplace=True)', try using 'df.method({col: value}, inplace=True)' or df[col] = df[col].method(value) instead, to perform the operation inplace on the original object.\n",
            "\n",
            "\n",
            "  df2['Age'].fillna(column_mode, inplace=True)\n"
          ]
        }
      ],
      "source": [
        "df2['Age'].fillna(column_mode, inplace=True)\n",
        "#now no null values"
      ]
    },
    {
      "cell_type": "markdown",
      "metadata": {
        "id": "h-NxeASlpnQ5"
      },
      "source": [
        "**EDA**"
      ]
    },
    {
      "cell_type": "code",
      "execution_count": 233,
      "metadata": {
        "id": "u3meyq8Lpmgs"
      },
      "outputs": [],
      "source": [
        "import seaborn as sns\n",
        "import matplotlib.pyplot as plt\n"
      ]
    },
    {
      "cell_type": "code",
      "execution_count": 234,
      "metadata": {
        "colab": {
          "base_uri": "https://localhost:8080/",
          "height": 542
        },
        "id": "mshcc_dQqmnE",
        "outputId": "6c4d608c-e069-4882-97f6-a4ea69713262"
      },
      "outputs": [
        {
          "data": {
            "image/png": "[encoded data removed]",
            "text/plain": [
              "<Figure size 1200x600 with 1 Axes>"
            ]
          },
          "metadata": {},
          "output_type": "display_data"
        }
      ],
      "source": [
        "plt.figure(figsize=(12, 6))\n",
        "sns.boxplot(x='will vote', y='Age', data=df2)\n",
        "plt.show()"
      ]
    },
    {
      "cell_type": "code",
      "execution_count": 235,
      "metadata": {
        "colab": {
          "base_uri": "https://localhost:8080/",
          "height": 454
        },
        "id": "vUeZHw2epqNJ",
        "outputId": "11853e43-f4d1-4194-a048-5e6b450184a4"
      },
      "outputs": [
        {
          "data": {
            "image/png": "[encoded data removed]",
            "text/plain": [
              "<Figure size 640x480 with 1 Axes>"
            ]
          },
          "metadata": {},
          "output_type": "display_data"
        }
      ],
      "source": [
        "sns.countplot(x='Gender_male', data=df2, hue='will vote')\n",
        "plt.show()"
      ]
    },
    {
      "cell_type": "code",
      "execution_count": null,
      "metadata": {
        "id": "DB76WwaLrMkN"
      },
      "outputs": [],
      "source": []
    },
    {
      "cell_type": "code",
      "execution_count": null,
      "metadata": {
        "id": "HPIcOS1TrMne"
      },
      "outputs": [],
      "source": []
    },
    {
      "cell_type": "code",
      "execution_count": null,
      "metadata": {
        "id": "ow-CDRJWrMrA"
      },
      "outputs": [],
      "source": []
    },
    {
      "cell_type": "code",
      "execution_count": null,
      "metadata": {
        "id": "2gDzP2cWrMuM"
      },
      "outputs": [],
      "source": []
    },
    {
      "cell_type": "code",
      "execution_count": null,
      "metadata": {
        "id": "vFQ9p9KtrMxL"
      },
      "outputs": [],
      "source": []
    },
    {
      "cell_type": "code",
      "execution_count": null,
      "metadata": {
        "id": "fh-j-0zQrM0g"
      },
      "outputs": [],
      "source": []
    },
    {
      "cell_type": "markdown",
      "metadata": {
        "id": "nttHpV4MGlQA"
      },
      "source": [
        "splitting the data"
      ]
    },
    {
      "cell_type": "code",
      "execution_count": 236,
      "metadata": {
        "id": "aVhiBgKJZRx0"
      },
      "outputs": [],
      "source": [
        "X = df2.drop(columns=['re_elect govt'])\n",
        "y = df2['re_elect govt']"
      ]
    },
    {
      "cell_type": "code",
      "execution_count": 237,
      "metadata": {
        "id": "Mo3YE9e_ZWd8"
      },
      "outputs": [],
      "source": [
        "X_train, X_test, y_train, y_test = train_test_split(X, y, test_size=0.2, random_state=42)\n"
      ]
    },
    {
      "cell_type": "markdown",
      "metadata": {
        "id": "CSGBINzZBjOw"
      },
      "source": [
        "RANDOM **FOREST**"
      ]
    },
    {
      "cell_type": "code",
      "execution_count": 238,
      "metadata": {
        "colab": {
          "base_uri": "https://localhost:8080/"
        },
        "id": "FG9_nj20ZWg-",
        "outputId": "9e5ac1c7-2315-4c74-ae9e-366d84505ef8"
      },
      "outputs": [
        {
          "name": "stdout",
          "output_type": "stream",
          "text": [
            "Accuracy: 1.0\n"
          ]
        }
      ],
      "source": [
        "model = RandomForestClassifier(random_state=42)\n",
        "model.fit(X_train, y_train)\n",
        "\n",
        "# Model evaluation\n",
        "y_pred = model.predict(X_test)\n",
        "accuracy = accuracy_score(y_test, y_pred)\n",
        "print(\"Accuracy:\", accuracy)"
      ]
    },
    {
      "cell_type": "code",
      "execution_count": 239,
      "metadata": {
        "colab": {
          "base_uri": "https://localhost:8080/"
        },
        "id": "VquMWwDwaxrW",
        "outputId": "6dec0df5-667e-4ee8-f814-d0d44f0d1abd"
      },
      "outputs": [
        {
          "name": "stdout",
          "output_type": "stream",
          "text": [
            "Confusion Matrix:\n",
            "[[21  0]\n",
            " [ 0 50]]\n"
          ]
        }
      ],
      "source": [
        "from sklearn.metrics import confusion_matrix\n",
        "conf_matrix = confusion_matrix(y_test, y_pred)\n",
        "print(\"Confusion Matrix:\")\n",
        "print(conf_matrix)"
      ]
    },
    {
      "cell_type": "markdown",
      "metadata": {
        "id": "X7dhAPbqBXnA"
      },
      "source": [
        "**LOGISTIC**"
      ]
    },
    {
      "cell_type": "code",
      "execution_count": 240,
      "metadata": {
        "colab": {
          "base_uri": "https://localhost:8080/"
        },
        "id": "QcooMgVOmGXD",
        "outputId": "ac426710-b7fb-45c3-80a4-8602d6077a87"
      },
      "outputs": [
        {
          "name": "stdout",
          "output_type": "stream",
          "text": [
            "Accuracy: 1.0\n",
            "Classification Report:\n",
            "              precision    recall  f1-score   support\n",
            "\n",
            "           0       1.00      1.00      1.00        21\n",
            "           1       1.00      1.00      1.00        50\n",
            "\n",
            "    accuracy                           1.00        71\n",
            "   macro avg       1.00      1.00      1.00        71\n",
            "weighted avg       1.00      1.00      1.00        71\n",
            "\n"
          ]
        }
      ],
      "source": [
        "import pandas as pd\n",
        "from sklearn.model_selection import train_test_split\n",
        "from sklearn.linear_model import LogisticRegression\n",
        "from sklearn.metrics import accuracy_score, classification_report\n",
        "##logistic\n",
        "model = LogisticRegression()\n",
        "model.fit(X_train, y_train)\n",
        "y_pred = model.predict(X_test)\n",
        "\n",
        "# Calculate accuracy\n",
        "accuracy = accuracy_score(y_test, y_pred)\n",
        "print(\"Accuracy:\", accuracy)\n",
        "\n",
        "# Generate a classification report\n",
        "print(\"Classification Report:\")\n",
        "print(classification_report(y_test, y_pred))"
      ]
    },
    {
      "cell_type": "code",
      "execution_count": null,
      "metadata": {},
      "outputs": [],
      "source": []
    },
    {
      "cell_type": "markdown",
      "metadata": {},
      "source": []
    },
    {
      "cell_type": "markdown",
      "metadata": {
        "id": "Sw2vTcJeGwXX"
      },
      "source": [
        "cross validation"
      ]
    },
    {
      "cell_type": "code",
      "execution_count": 241,
      "metadata": {
        "colab": {
          "base_uri": "https://localhost:8080/"
        },
        "id": "A8herSnDm7mJ",
        "outputId": "46dd2f12-958a-44b7-caa9-127f0eda2502"
      },
      "outputs": [
        {
          "name": "stdout",
          "output_type": "stream",
          "text": [
            "Cross-Validation Scores: [1.         0.97183099 1.         0.94285714 1.        ]\n",
            "Mean Accuracy: 0.9829376257545273\n",
            "Standard Deviation: 0.022817433696536788\n"
          ]
        }
      ],
      "source": [
        "from sklearn.model_selection import cross_val_score\n",
        "\n",
        "# cv=5 means 5-fold cross-validation\n",
        "# scoring='accuracy' specifies the metric to be used for evaluation\n",
        "scores = cross_val_score(model, X, y, cv=5, scoring='accuracy')\n",
        "\n",
        "# Print the cross-validation scores\n",
        "print(\"Cross-Validation Scores:\", scores)\n",
        "\n",
        "# Calculate and print the mean and standard deviation of the scores\n",
        "print(\"Mean Accuracy:\", scores.mean())\n",
        "print(\"Standard Deviation:\", scores.std())"
      ]
    }
  ],
  "metadata": {
    "colab": {
      "provenance": []
    },
    "kernelspec": {
      "display_name": "Python 3",
      "name": "python3"
    },
    "language_info": {
      "codemirror_mode": {
        "name": "ipython",
        "version": 3
      },
      "file_extension": ".py",
      "mimetype": "text/x-python",
      "name": "python",
      "nbconvert_exporter": "python",
      "pygments_lexer": "ipython3",
      "version": "3.12.2"
    }
  },
  "nbformat": 4,
  "nbformat_minor": 0
}
